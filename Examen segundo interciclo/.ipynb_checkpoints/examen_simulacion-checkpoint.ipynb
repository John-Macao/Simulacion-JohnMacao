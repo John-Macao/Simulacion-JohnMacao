{
 "cells": [
  {
   "cell_type": "code",
   "execution_count": 429,
   "id": "f229f1c8",
   "metadata": {},
   "outputs": [],
   "source": [
    "# Imports\n",
    "import collections\n",
    "import random\n",
    "import simpy\n",
    "import matplotlib.pyplot as plt\n",
    "import numpy as np \n",
    "from scipy import stats \n",
    "import seaborn as sns \n",
    "from random import randint\n",
    "from simpy.events import Timeout\n",
    "import plotly.express as px"
   ]
  },
  {
   "cell_type": "code",
   "execution_count": 409,
   "id": "6aa8dad5",
   "metadata": {},
   "outputs": [],
   "source": [
    "def genera_tiempo_compra_DE():\n",
    "    mu, sigma = 10, 2 # media y desvio estandar\n",
    "    normal = stats.norm(mu, sigma)\n",
    "    aleatorios = normal.rvs(1) # genera aleatorios\n",
    "    return aleatorios[0]\n",
    "\n",
    "#print(genera_tiempo_compra_DE())"
   ]
  },
  {
   "cell_type": "code",
   "execution_count": 410,
   "id": "f94b0051",
   "metadata": {},
   "outputs": [],
   "source": [
    "def genera_tiempo_viaje_DE():\n",
    "    mu, sigma = 360, 240 # media y desvio estandar - esta en minutos las 6 y 4 horas\n",
    "    normal = stats.norm(mu, sigma)\n",
    "    aleatorios = normal.rvs(1) # genera aleatorios\n",
    "    if aleatorios[0] < 0 :\n",
    "        aleatorios = normal.rvs(1)\n",
    "    return aleatorios[0]\n",
    "\n",
    "#print(genera_tiempo_viaje_DE())"
   ]
  },
  {
   "cell_type": "code",
   "execution_count": 411,
   "id": "e07db1b0",
   "metadata": {},
   "outputs": [],
   "source": [
    "def random_age():\n",
    "    poisson = stats.poisson(30) # Distribución\n",
    "    aleatorios = poisson.rvs(1)  # genera aleatorios\n",
    "    return aleatorios[0]"
   ]
  },
  {
   "cell_type": "code",
   "execution_count": 412,
   "id": "11fbf2cf",
   "metadata": {},
   "outputs": [],
   "source": [
    "def customer_object(name, genere, age):\n",
    "    return {\n",
    "        \"name\":name,\n",
    "        \"genere\":genere,\n",
    "        \"age\": age,\n",
    "    }"
   ]
  },
  {
   "cell_type": "code",
   "execution_count": 413,
   "id": "d9871a06",
   "metadata": {},
   "outputs": [],
   "source": [
    "def random_customer():\n",
    "    bernoulli = stats.bernoulli(0.9)\n",
    "    aleatorios = bernoulli.rvs(1)\n",
    "    idx= randint(0, 8)\n",
    "    age = random_age()\n",
    "    if aleatorios[0] == 1:\n",
    "        return customer_object(datos_masculinos[idx], \"Male\", age)\n",
    "    if aleatorios[0] == 0:\n",
    "        return customer_object(datos_femeninos[idx], \"Female\", age)\n",
    "#print(random_customer())"
   ]
  },
  {
   "cell_type": "code",
   "execution_count": 462,
   "id": "39597f67",
   "metadata": {},
   "outputs": [],
   "source": [
    "datos_femeninos=[ \n",
    " \"Lucía\", \n",
    " \"Sofía\", \n",
    " \"Martina\", \n",
    " \"María\", \n",
    " \"Julia\", \n",
    " \"Paula\", \n",
    " \"Valeria\", \n",
    " \"Emma\", \n",
    " \"Daniela\"\n",
    " ]\n",
    "\n",
    "datos_masculinos=[\n",
    "\"Hugo\", \n",
    "\"Martín\", \n",
    "\"Lucas\", \n",
    "\"Mateo\", \n",
    "\"Leo\", \n",
    "\"Daniel\", \n",
    "\"Alejandro\", \n",
    "\"Pablo\", \n",
    "\"Manuel\"\n",
    " ]\n",
    "\n",
    "datos_destino = [\n",
    "{\n",
    "  \"destination\": \"Guayaquil\",\n",
    "},\n",
    "{\n",
    "  \"destination\": \"Quito\",\n",
    "},\n",
    "{\n",
    "  \"destination\": \"Cuenca\",\n",
    "},\n",
    "{\n",
    "  \"destination\": \"Machala\",\n",
    "},\n",
    "{\n",
    "  \"destination\": \"Zamborondon\",\n",
    "},\n",
    "{\n",
    "  \"destination\": \"Macas\",\n",
    "}\n",
    "]\n"
   ]
  },
  {
   "cell_type": "code",
   "execution_count": 463,
   "id": "9e0b8889",
   "metadata": {},
   "outputs": [],
   "source": [
    "datos_bus = [\n",
    "{\n",
    "  \"name\":\"BUS 1\",\n",
    "  \"destination\":\"Guayaquil\",\n",
    "},\n",
    "{\n",
    "  \"name\":\"BUS 2\",\n",
    "  \"destination\":\"Quito\"\n",
    "},\n",
    "{\n",
    "  \"name\":\"BUS 3\",\n",
    "  \"destination\":\"Cuenca\"\n",
    "},\n",
    "{\n",
    "  \"name\":\"BUS 4\",\n",
    "  \"destination\":\"Machala\"\n",
    "},\n",
    "{\n",
    "  \"name\":\"BUS 5\",\n",
    "  \"destination\":\"Zamborondon\"\n",
    "},\n",
    "{\n",
    "  \"name\":\"BUS 6\",\n",
    "  \"destination\":\"Macas\"\n",
    "}\n",
    "]"
   ]
  },
  {
   "cell_type": "code",
   "execution_count": 473,
   "id": "ebaa8d84",
   "metadata": {},
   "outputs": [],
   "source": [
    "NUM_BUSES = 5\n",
    "NUM_OFICINAS = 1\n",
    "CAPACIDAD = 40\n",
    "TURISTAS = 65900\n",
    "TIEMPO_SIMULACION = 10080 #43200*4  #10080"
   ]
  },
  {
   "cell_type": "code",
   "execution_count": 474,
   "id": "12baa2d1",
   "metadata": {},
   "outputs": [],
   "source": [
    "class UPS_turismo():\n",
    "    def __init__(self, env):\n",
    "        self.env = env\n",
    "        self.persona ={}\n",
    "        self.transporte = simpy.Resource(env, capacity=NUM_BUSES)\n",
    "        self.oficinas = simpy.Resource(env, capacity=NUM_OFICINAS) # oficina para venta de tikets\n",
    "        self.buses = data_bus # ['BUS 1', 'BUS 2', 'BUS 3', 'BUS 4', 'BUS 5']\n",
    "        self.destinos = datos_destino\n",
    "        self.probabilidad= [0.6, 0.5, 0.4, 0.1, 0.2, 0.3]\n",
    "        self.viajes = []\n",
    "        self.buses_salida = []\n",
    "        self.boleteria = {\n",
    "            \"boletos\":[],\n",
    "            \"num_renegados\": 0\n",
    "        }\n",
    "        self.load_data()\n",
    "        self.dispatch = env.process(self.sale_bus())\n",
    "\n",
    "    def load_data(self):\n",
    "        for bus in self.buses:\n",
    "            bus[\"container\"] = simpy.Container(env, init=CAPACIDAD, capacity=CAPACIDAD)\n",
    "            bus[\"sold_out\"] = env.event()\n",
    "            bus[\"tiempo_agotado\"] = None\n",
    "    \n",
    "    def sale_bus(self):\n",
    "        while True:\n",
    "            with self.transporte.request() as transporte:\n",
    "                yield transporte\n",
    "                for boleto in self.boleteria['boletos']:\n",
    "                    destino_list = list(filter(lambda destino: destino['destination'] == boleto[\"bus\"][\"destination\"], self.destinos))[0]\n",
    "                    bus = list(filter(lambda bus: bus['name'] == boleto[\"bus\"][\"name\"], self.buses))[0]\n",
    "                    if bus in self.buses_salida:\n",
    "                        continue\n",
    "                    self.buses_salida.append(bus)\n",
    "                    self.viajes.append(bus)\n",
    "                    yield env.timeout(3600)\n",
    "                    name = boleto[\"bus\"]['name']\n",
    "                    destino = boleto[\"bus\"]['destination']\n",
    "                    pasajeros = CAPACIDAD - bus[\"container\"].level\n",
    "                    print(f'----- Sale el {name} hasta {destino} con {pasajeros} pasajeros')\n",
    "                    self.env.process(self.regresa_bus())\n",
    "                    \n",
    "\n",
    "    def regresa_bus(self):\n",
    "        while True:\n",
    "            with self.transporte.request() as transporte:\n",
    "                yield transporte\n",
    "                for boleto in self.boleteria['boletos']:\n",
    "                    destino_list = list(filter(lambda destino: destino['destination'] == boleto[\"bus\"][\"destination\"], self.destinos))[0]\n",
    "                    bus = list(filter(lambda bus: bus['name'] == boleto[\"bus\"][\"name\"], self.buses))[0]\n",
    "                    yield env.timeout(genera_tiempo_viaje_DE())\n",
    "                    yield bus[\"container\"].put(CAPACIDAD)\n",
    "                    name = boleto[\"bus\"]['name']\n",
    "                    pasajeros = CAPACIDAD - bus[\"container\"].level\n",
    "                    print(f'----- Regresa el {name}') \n",
    "                    self.buses_salida = [i for i in self.buses_salida if not (i['name'] == bus['name'])]\n",
    "                    self.transporte.release(transporte)\n",
    "            \n",
    "    \n",
    "    def buy_ticket(self, customer):\n",
    "        with self.oficinas.request() as oficina:\n",
    "            resultado = yield oficina\n",
    "            \n",
    "        tiempo_estimado_compra = genera_tiempo_compra_DE()\n",
    "        \n",
    "        buses = list(filter(lambda bus: bus['destination'] == customer[\"destination\"], self.buses))\n",
    "        \n",
    "        for bus in buses:\n",
    "            if bus[\"container\"].level < customer[\"num_boletos\"]:\n",
    "                continue\n",
    "            bus[\"container\"].get(customer[\"num_boletos\"])\n",
    "            boleto = {\n",
    "                \"customer\": customer,\n",
    "                \"destination\":list(filter(lambda destino: destino['destination'] == customer[\"destination\"], self.destinos))[0],\n",
    "                \"bus\":bus,\n",
    "                \"tiempo_compra\": tiempo_estimado_compra\n",
    "            }\n",
    "            self.boleteria[\"boletos\"].append(boleto)\n",
    "            print('Tickets: %s, Nombre: %s, Destino: %s, %s, Asientos restantes: %s' %(str(customer[\"num_boletos\"]), boleto[\"customer\"][\"name\"], boleto[\"destination\"][\"destination\"], boleto[\"bus\"][\"name\"], str(bus[\"container\"].level)))\n",
    "            break\n",
    "        yield env.timeout(tiempo_estimado_compra)\n",
    "        self.oficinas.release(oficina) \n",
    "   \n",
    "    def arrive_client(self):\n",
    "        for i in range(TURISTAS):\n",
    "            destino = random.choice(self.destinos)\n",
    "            #destino = random.choices(self.destinos, self.probabilidad, k=1)\n",
    "            persona = random_customer()\n",
    "            persona[\"num_boletos\"] = random.randint(1, 6)\n",
    "            persona[\"destination\"] = destino[\"destination\"]\n",
    "            \n",
    "            #customer = random_customer()\n",
    "            #customer[\"num_boletos\"] = random.randint(1, 5)\n",
    "            #customer[\"destination\"] = destino[\"destination\"]\n",
    "            env.process(self.buy_ticket(persona))\n",
    "            yield env.timeout(1)\n",
    "            \n",
    "\n",
    "            "
   ]
  },
  {
   "cell_type": "code",
   "execution_count": 475,
   "id": "84dca3ca",
   "metadata": {
    "scrolled": true
   },
   "outputs": [
    {
     "name": "stdout",
     "output_type": "stream",
     "text": [
      "Tickets: 1, Nombre: Lucas, Destino: Machala, bus 4, Asientos restantes: 39\n",
      "Tickets: 4, Nombre: Alejandro, Destino: Guayaquil, bus 1, Asientos restantes: 36\n",
      "Tickets: 3, Nombre: Pablo, Destino: Guayaquil, bus 1, Asientos restantes: 33\n",
      "Tickets: 4, Nombre: Hugo, Destino: Cuenca, bus 3, Asientos restantes: 36\n",
      "Tickets: 3, Nombre: Manuel, Destino: Quito, bus 2, Asientos restantes: 37\n",
      "Tickets: 6, Nombre: Martín, Destino: Guayaquil, bus 1, Asientos restantes: 27\n",
      "Tickets: 3, Nombre: Mateo, Destino: Cuenca, bus 3, Asientos restantes: 33\n",
      "Tickets: 4, Nombre: Hugo, Destino: Guayaquil, bus 1, Asientos restantes: 23\n",
      "Tickets: 5, Nombre: Pablo, Destino: Quito, bus 2, Asientos restantes: 32\n",
      "Tickets: 4, Nombre: Alejandro, Destino: Machala, bus 4, Asientos restantes: 35\n",
      "Tickets: 3, Nombre: Hugo, Destino: Zamborondon, bus 5, Asientos restantes: 37\n",
      "Tickets: 3, Nombre: Leo, Destino: Quito, bus 2, Asientos restantes: 29\n",
      "Tickets: 1, Nombre: Leo, Destino: Cuenca, bus 3, Asientos restantes: 32\n",
      "Tickets: 4, Nombre: Lucas, Destino: Zamborondon, bus 5, Asientos restantes: 33\n",
      "Tickets: 6, Nombre: Hugo, Destino: Zamborondon, bus 5, Asientos restantes: 27\n",
      "Tickets: 6, Nombre: Emma, Destino: Quito, bus 2, Asientos restantes: 23\n",
      "Tickets: 5, Nombre: Daniel, Destino: Guayaquil, bus 1, Asientos restantes: 18\n",
      "Tickets: 3, Nombre: Pablo, Destino: Guayaquil, bus 1, Asientos restantes: 15\n",
      "Tickets: 5, Nombre: Hugo, Destino: Guayaquil, bus 1, Asientos restantes: 10\n",
      "Tickets: 6, Nombre: Emma, Destino: Quito, bus 2, Asientos restantes: 17\n",
      "Tickets: 3, Nombre: Lucas, Destino: Macas, bus 6, Asientos restantes: 37\n",
      "Tickets: 1, Nombre: Mateo, Destino: Guayaquil, bus 1, Asientos restantes: 9\n",
      "Tickets: 5, Nombre: Manuel, Destino: Zamborondon, bus 5, Asientos restantes: 22\n",
      "Tickets: 4, Nombre: Martín, Destino: Zamborondon, bus 5, Asientos restantes: 18\n",
      "Tickets: 1, Nombre: Manuel, Destino: Zamborondon, bus 5, Asientos restantes: 17\n",
      "Tickets: 6, Nombre: Alejandro, Destino: Machala, bus 4, Asientos restantes: 29\n",
      "Tickets: 1, Nombre: Martín, Destino: Quito, bus 2, Asientos restantes: 16\n",
      "Tickets: 3, Nombre: Julia, Destino: Guayaquil, bus 1, Asientos restantes: 6\n",
      "Tickets: 2, Nombre: Mateo, Destino: Quito, bus 2, Asientos restantes: 14\n",
      "Tickets: 5, Nombre: Mateo, Destino: Machala, bus 4, Asientos restantes: 24\n",
      "Tickets: 5, Nombre: Martín, Destino: Quito, bus 2, Asientos restantes: 9\n",
      "Tickets: 4, Nombre: Daniel, Destino: Cuenca, bus 3, Asientos restantes: 28\n",
      "Tickets: 5, Nombre: Alejandro, Destino: Machala, bus 4, Asientos restantes: 19\n",
      "Tickets: 4, Nombre: Manuel, Destino: Machala, bus 4, Asientos restantes: 15\n",
      "Tickets: 1, Nombre: Manuel, Destino: Macas, bus 6, Asientos restantes: 36\n",
      "Tickets: 4, Nombre: Lucas, Destino: Guayaquil, bus 1, Asientos restantes: 2\n",
      "Tickets: 1, Nombre: Manuel, Destino: Cuenca, bus 3, Asientos restantes: 27\n",
      "Tickets: 6, Nombre: Daniel, Destino: Macas, bus 6, Asientos restantes: 30\n",
      "Tickets: 5, Nombre: Martín, Destino: Macas, bus 6, Asientos restantes: 25\n",
      "Tickets: 1, Nombre: Lucas, Destino: Cuenca, bus 3, Asientos restantes: 26\n",
      "Tickets: 3, Nombre: Hugo, Destino: Machala, bus 4, Asientos restantes: 12\n",
      "Tickets: 6, Nombre: Leo, Destino: Machala, bus 4, Asientos restantes: 6\n",
      "Tickets: 2, Nombre: Martín, Destino: Machala, bus 4, Asientos restantes: 4\n",
      "Tickets: 1, Nombre: María, Destino: Machala, bus 4, Asientos restantes: 3\n",
      "Tickets: 3, Nombre: Lucas, Destino: Quito, bus 2, Asientos restantes: 6\n",
      "Tickets: 4, Nombre: Lucas, Destino: Quito, bus 2, Asientos restantes: 2\n",
      "Tickets: 6, Nombre: Daniel, Destino: Cuenca, bus 3, Asientos restantes: 20\n",
      "Tickets: 3, Nombre: Hugo, Destino: Cuenca, bus 3, Asientos restantes: 17\n",
      "Tickets: 2, Nombre: Manuel, Destino: Machala, bus 4, Asientos restantes: 1\n",
      "Tickets: 1, Nombre: Manuel, Destino: Zamborondon, bus 5, Asientos restantes: 16\n",
      "Tickets: 2, Nombre: Daniel, Destino: Quito, bus 2, Asientos restantes: 0\n",
      "Tickets: 4, Nombre: Hugo, Destino: Macas, bus 6, Asientos restantes: 21\n",
      "Tickets: 3, Nombre: Leo, Destino: Macas, bus 6, Asientos restantes: 18\n",
      "Tickets: 4, Nombre: Martín, Destino: Cuenca, bus 3, Asientos restantes: 13\n",
      "Tickets: 2, Nombre: Alejandro, Destino: Macas, bus 6, Asientos restantes: 16\n",
      "Tickets: 1, Nombre: Martín, Destino: Zamborondon, bus 5, Asientos restantes: 15\n",
      "Tickets: 6, Nombre: Lucas, Destino: Cuenca, bus 3, Asientos restantes: 7\n",
      "Tickets: 2, Nombre: Pablo, Destino: Zamborondon, bus 5, Asientos restantes: 13\n",
      "Tickets: 4, Nombre: Daniela, Destino: Macas, bus 6, Asientos restantes: 12\n",
      "Tickets: 5, Nombre: Lucas, Destino: Macas, bus 6, Asientos restantes: 7\n",
      "Tickets: 5, Nombre: Martín, Destino: Macas, bus 6, Asientos restantes: 2\n",
      "Tickets: 1, Nombre: Alejandro, Destino: Cuenca, bus 3, Asientos restantes: 6\n",
      "Tickets: 1, Nombre: Hugo, Destino: Guayaquil, bus 1, Asientos restantes: 1\n",
      "Tickets: 5, Nombre: Lucas, Destino: Cuenca, bus 3, Asientos restantes: 1\n",
      "Tickets: 1, Nombre: Mateo, Destino: Cuenca, bus 3, Asientos restantes: 0\n",
      "Tickets: 1, Nombre: Valeria, Destino: Guayaquil, bus 1, Asientos restantes: 0\n",
      "Tickets: 1, Nombre: Hugo, Destino: Macas, bus 6, Asientos restantes: 1\n",
      "Tickets: 5, Nombre: Leo, Destino: Zamborondon, bus 5, Asientos restantes: 8\n",
      "Tickets: 6, Nombre: Alejandro, Destino: Zamborondon, bus 5, Asientos restantes: 2\n",
      "Tickets: 1, Nombre: Pablo, Destino: Macas, bus 6, Asientos restantes: 0\n",
      "Tickets: 2, Nombre: Martín, Destino: Zamborondon, bus 5, Asientos restantes: 0\n",
      "Tickets: 1, Nombre: Hugo, Destino: Machala, bus 4, Asientos restantes: 0\n",
      "----- Sale el bus 4 hasta Machala con 40 pasajeros\n",
      "----- Regresa el bus 4\n",
      "Tickets: 6, Nombre: María, Destino: Machala, bus 4, Asientos restantes: 34\n",
      "Tickets: 4, Nombre: Hugo, Destino: Machala, bus 4, Asientos restantes: 30\n",
      "Tickets: 3, Nombre: Martín, Destino: Machala, bus 4, Asientos restantes: 27\n",
      "Tickets: 4, Nombre: Lucas, Destino: Machala, bus 4, Asientos restantes: 23\n",
      "Tickets: 5, Nombre: Hugo, Destino: Machala, bus 4, Asientos restantes: 18\n",
      "Tickets: 4, Nombre: Alejandro, Destino: Machala, bus 4, Asientos restantes: 14\n",
      "Tickets: 4, Nombre: Daniel, Destino: Machala, bus 4, Asientos restantes: 10\n",
      "Tickets: 6, Nombre: Lucas, Destino: Machala, bus 4, Asientos restantes: 4\n",
      "Tickets: 1, Nombre: Mateo, Destino: Machala, bus 4, Asientos restantes: 3\n",
      "Tickets: 1, Nombre: Alejandro, Destino: Machala, bus 4, Asientos restantes: 2\n",
      "Tickets: 2, Nombre: Pablo, Destino: Machala, bus 4, Asientos restantes: 0\n",
      "----- Regresa el bus 1\n",
      "Tickets: 4, Nombre: Alejandro, Destino: Guayaquil, bus 1, Asientos restantes: 36\n",
      "Tickets: 1, Nombre: Pablo, Destino: Guayaquil, bus 1, Asientos restantes: 35\n",
      "Tickets: 5, Nombre: Daniel, Destino: Guayaquil, bus 1, Asientos restantes: 30\n",
      "Tickets: 4, Nombre: Lucas, Destino: Guayaquil, bus 1, Asientos restantes: 26\n",
      "Tickets: 3, Nombre: Lucas, Destino: Guayaquil, bus 1, Asientos restantes: 23\n",
      "Tickets: 5, Nombre: Pablo, Destino: Guayaquil, bus 1, Asientos restantes: 18\n",
      "Tickets: 4, Nombre: Daniel, Destino: Guayaquil, bus 1, Asientos restantes: 14\n",
      "Tickets: 1, Nombre: Pablo, Destino: Guayaquil, bus 1, Asientos restantes: 13\n",
      "Tickets: 3, Nombre: Martín, Destino: Guayaquil, bus 1, Asientos restantes: 10\n",
      "Tickets: 4, Nombre: Alejandro, Destino: Guayaquil, bus 1, Asientos restantes: 6\n",
      "Tickets: 5, Nombre: Manuel, Destino: Guayaquil, bus 1, Asientos restantes: 1\n",
      "Tickets: 1, Nombre: Manuel, Destino: Guayaquil, bus 1, Asientos restantes: 0\n",
      "----- Regresa el bus 1\n",
      "Tickets: 3, Nombre: Manuel, Destino: Guayaquil, bus 1, Asientos restantes: 37\n",
      "Tickets: 5, Nombre: Pablo, Destino: Guayaquil, bus 1, Asientos restantes: 32\n",
      "Tickets: 3, Nombre: Daniel, Destino: Guayaquil, bus 1, Asientos restantes: 29\n",
      "Tickets: 5, Nombre: Alejandro, Destino: Guayaquil, bus 1, Asientos restantes: 24\n",
      "Tickets: 4, Nombre: Julia, Destino: Guayaquil, bus 1, Asientos restantes: 20\n",
      "Tickets: 5, Nombre: Leo, Destino: Guayaquil, bus 1, Asientos restantes: 15\n",
      "Tickets: 4, Nombre: Martín, Destino: Guayaquil, bus 1, Asientos restantes: 11\n",
      "Tickets: 3, Nombre: Mateo, Destino: Guayaquil, bus 1, Asientos restantes: 8\n",
      "Tickets: 1, Nombre: Lucas, Destino: Guayaquil, bus 1, Asientos restantes: 7\n",
      "Tickets: 5, Nombre: Mateo, Destino: Guayaquil, bus 1, Asientos restantes: 2\n",
      "Tickets: 2, Nombre: Lucas, Destino: Guayaquil, bus 1, Asientos restantes: 0\n",
      "----- Regresa el bus 3\n",
      "Tickets: 1, Nombre: Mateo, Destino: Cuenca, bus 3, Asientos restantes: 39\n",
      "Tickets: 2, Nombre: Mateo, Destino: Cuenca, bus 3, Asientos restantes: 37\n",
      "Tickets: 3, Nombre: Pablo, Destino: Cuenca, bus 3, Asientos restantes: 34\n",
      "Tickets: 6, Nombre: Hugo, Destino: Cuenca, bus 3, Asientos restantes: 28\n",
      "Tickets: 1, Nombre: Daniel, Destino: Cuenca, bus 3, Asientos restantes: 27\n",
      "Tickets: 6, Nombre: Daniel, Destino: Cuenca, bus 3, Asientos restantes: 21\n",
      "Tickets: 1, Nombre: Lucas, Destino: Cuenca, bus 3, Asientos restantes: 20\n"
     ]
    },
    {
     "name": "stdout",
     "output_type": "stream",
     "text": [
      "Tickets: 6, Nombre: Pablo, Destino: Cuenca, bus 3, Asientos restantes: 14\n",
      "Tickets: 2, Nombre: Hugo, Destino: Cuenca, bus 3, Asientos restantes: 12\n",
      "Tickets: 6, Nombre: Manuel, Destino: Cuenca, bus 3, Asientos restantes: 6\n",
      "Tickets: 4, Nombre: Martina, Destino: Cuenca, bus 3, Asientos restantes: 2\n",
      "Tickets: 1, Nombre: Alejandro, Destino: Cuenca, bus 3, Asientos restantes: 1\n",
      "Tickets: 1, Nombre: Leo, Destino: Cuenca, bus 3, Asientos restantes: 0\n",
      "----- Regresa el bus 2\n",
      "Tickets: 5, Nombre: Lucía, Destino: Quito, bus 2, Asientos restantes: 35\n",
      "Tickets: 2, Nombre: Daniel, Destino: Quito, bus 2, Asientos restantes: 33\n",
      "Tickets: 6, Nombre: Leo, Destino: Quito, bus 2, Asientos restantes: 27\n",
      "Tickets: 4, Nombre: Hugo, Destino: Quito, bus 2, Asientos restantes: 23\n",
      "Tickets: 5, Nombre: Martín, Destino: Quito, bus 2, Asientos restantes: 18\n",
      "Tickets: 4, Nombre: Alejandro, Destino: Quito, bus 2, Asientos restantes: 14\n",
      "Tickets: 6, Nombre: Daniel, Destino: Quito, bus 2, Asientos restantes: 8\n",
      "Tickets: 3, Nombre: Daniel, Destino: Quito, bus 2, Asientos restantes: 5\n",
      "Tickets: 5, Nombre: Mateo, Destino: Quito, bus 2, Asientos restantes: 0\n",
      "----- Regresa el bus 1\n",
      "Tickets: 3, Nombre: Hugo, Destino: Guayaquil, bus 1, Asientos restantes: 37\n",
      "Tickets: 3, Nombre: Martín, Destino: Guayaquil, bus 1, Asientos restantes: 34\n",
      "Tickets: 6, Nombre: Leo, Destino: Guayaquil, bus 1, Asientos restantes: 28\n",
      "Tickets: 2, Nombre: Sofía, Destino: Guayaquil, bus 1, Asientos restantes: 26\n",
      "Tickets: 4, Nombre: Hugo, Destino: Guayaquil, bus 1, Asientos restantes: 22\n",
      "Tickets: 3, Nombre: Manuel, Destino: Guayaquil, bus 1, Asientos restantes: 19\n",
      "Tickets: 3, Nombre: Manuel, Destino: Guayaquil, bus 1, Asientos restantes: 16\n",
      "Tickets: 6, Nombre: Leo, Destino: Guayaquil, bus 1, Asientos restantes: 10\n",
      "Tickets: 6, Nombre: Sofía, Destino: Guayaquil, bus 1, Asientos restantes: 4\n",
      "Tickets: 3, Nombre: Alejandro, Destino: Guayaquil, bus 1, Asientos restantes: 1\n",
      "Tickets: 1, Nombre: Julia, Destino: Guayaquil, bus 1, Asientos restantes: 0\n",
      "----- Regresa el bus 3\n",
      "Tickets: 5, Nombre: Manuel, Destino: Cuenca, bus 3, Asientos restantes: 35\n",
      "Tickets: 1, Nombre: Lucas, Destino: Cuenca, bus 3, Asientos restantes: 34\n",
      "Tickets: 2, Nombre: Leo, Destino: Cuenca, bus 3, Asientos restantes: 32\n",
      "Tickets: 4, Nombre: Mateo, Destino: Cuenca, bus 3, Asientos restantes: 28\n",
      "Tickets: 4, Nombre: Mateo, Destino: Cuenca, bus 3, Asientos restantes: 24\n",
      "Tickets: 2, Nombre: Daniel, Destino: Cuenca, bus 3, Asientos restantes: 22\n",
      "Tickets: 5, Nombre: Manuel, Destino: Cuenca, bus 3, Asientos restantes: 17\n",
      "Tickets: 6, Nombre: Mateo, Destino: Cuenca, bus 3, Asientos restantes: 11\n",
      "Tickets: 2, Nombre: Daniel, Destino: Cuenca, bus 3, Asientos restantes: 9\n",
      "Tickets: 6, Nombre: Martina, Destino: Cuenca, bus 3, Asientos restantes: 3\n",
      "Tickets: 1, Nombre: Alejandro, Destino: Cuenca, bus 3, Asientos restantes: 2\n",
      "Tickets: 1, Nombre: Daniel, Destino: Cuenca, bus 3, Asientos restantes: 1\n",
      "Tickets: 1, Nombre: Lucas, Destino: Cuenca, bus 3, Asientos restantes: 0\n",
      "----- Regresa el bus 1\n",
      "Tickets: 3, Nombre: Pablo, Destino: Guayaquil, bus 1, Asientos restantes: 37\n",
      "Tickets: 3, Nombre: Alejandro, Destino: Guayaquil, bus 1, Asientos restantes: 34\n",
      "Tickets: 5, Nombre: Martín, Destino: Guayaquil, bus 1, Asientos restantes: 29\n",
      "Tickets: 2, Nombre: Martín, Destino: Guayaquil, bus 1, Asientos restantes: 27\n",
      "Tickets: 4, Nombre: Hugo, Destino: Guayaquil, bus 1, Asientos restantes: 23\n",
      "Tickets: 5, Nombre: Alejandro, Destino: Guayaquil, bus 1, Asientos restantes: 18\n",
      "Tickets: 6, Nombre: Lucas, Destino: Guayaquil, bus 1, Asientos restantes: 12\n",
      "Tickets: 2, Nombre: Pablo, Destino: Guayaquil, bus 1, Asientos restantes: 10\n",
      "Tickets: 2, Nombre: Lucas, Destino: Guayaquil, bus 1, Asientos restantes: 8\n",
      "Tickets: 3, Nombre: Pablo, Destino: Guayaquil, bus 1, Asientos restantes: 5\n",
      "Tickets: 4, Nombre: Lucía, Destino: Guayaquil, bus 1, Asientos restantes: 1\n",
      "Tickets: 1, Nombre: Alejandro, Destino: Guayaquil, bus 1, Asientos restantes: 0\n",
      "----- Sale el bus 1 hasta Guayaquil con 40 pasajeros\n",
      "----- Regresa el bus 2\n",
      "Tickets: 4, Nombre: Mateo, Destino: Quito, bus 2, Asientos restantes: 36\n",
      "Tickets: 2, Nombre: Lucas, Destino: Quito, bus 2, Asientos restantes: 34\n",
      "Tickets: 3, Nombre: Martín, Destino: Quito, bus 2, Asientos restantes: 31\n",
      "Tickets: 4, Nombre: Lucas, Destino: Quito, bus 2, Asientos restantes: 27\n",
      "Tickets: 3, Nombre: Leo, Destino: Quito, bus 2, Asientos restantes: 24\n",
      "Tickets: 5, Nombre: Valeria, Destino: Quito, bus 2, Asientos restantes: 19\n",
      "Tickets: 2, Nombre: Alejandro, Destino: Quito, bus 2, Asientos restantes: 17\n",
      "----- Regresa el bus 4\n",
      "Tickets: 4, Nombre: María, Destino: Quito, bus 2, Asientos restantes: 13\n",
      "Tickets: 3, Nombre: Mateo, Destino: Machala, bus 4, Asientos restantes: 37\n",
      "Tickets: 1, Nombre: Leo, Destino: Machala, bus 4, Asientos restantes: 36\n",
      "Tickets: 6, Nombre: Leo, Destino: Machala, bus 4, Asientos restantes: 30\n",
      "Tickets: 6, Nombre: Daniel, Destino: Quito, bus 2, Asientos restantes: 7\n",
      "Tickets: 2, Nombre: Paula, Destino: Quito, bus 2, Asientos restantes: 5\n",
      "Tickets: 4, Nombre: Martina, Destino: Quito, bus 2, Asientos restantes: 1\n",
      "Tickets: 1, Nombre: Manuel, Destino: Machala, bus 4, Asientos restantes: 29\n",
      "Tickets: 1, Nombre: Mateo, Destino: Machala, bus 4, Asientos restantes: 28\n",
      "Tickets: 6, Nombre: Pablo, Destino: Machala, bus 4, Asientos restantes: 22\n",
      "Tickets: 5, Nombre: Alejandro, Destino: Machala, bus 4, Asientos restantes: 17\n",
      "Tickets: 1, Nombre: Daniel, Destino: Machala, bus 4, Asientos restantes: 16\n",
      "Tickets: 1, Nombre: Alejandro, Destino: Machala, bus 4, Asientos restantes: 15\n",
      "Tickets: 2, Nombre: Martín, Destino: Machala, bus 4, Asientos restantes: 13\n",
      "Tickets: 2, Nombre: Lucas, Destino: Machala, bus 4, Asientos restantes: 11\n",
      "Tickets: 4, Nombre: Lucas, Destino: Machala, bus 4, Asientos restantes: 7\n",
      "Tickets: 2, Nombre: Pablo, Destino: Machala, bus 4, Asientos restantes: 5\n",
      "Tickets: 3, Nombre: Pablo, Destino: Machala, bus 4, Asientos restantes: 2\n",
      "Tickets: 1, Nombre: Martín, Destino: Machala, bus 4, Asientos restantes: 1\n",
      "Tickets: 1, Nombre: Daniel, Destino: Quito, bus 2, Asientos restantes: 0\n",
      "Tickets: 1, Nombre: Alejandro, Destino: Machala, bus 4, Asientos restantes: 0\n",
      "----- Regresa el bus 5\n",
      "Tickets: 6, Nombre: Alejandro, Destino: Zamborondon, bus 5, Asientos restantes: 34\n",
      "Tickets: 3, Nombre: Daniel, Destino: Zamborondon, bus 5, Asientos restantes: 31\n",
      "Tickets: 5, Nombre: Pablo, Destino: Zamborondon, bus 5, Asientos restantes: 26\n",
      "Tickets: 4, Nombre: Alejandro, Destino: Zamborondon, bus 5, Asientos restantes: 22\n",
      "Tickets: 2, Nombre: Alejandro, Destino: Zamborondon, bus 5, Asientos restantes: 20\n",
      "----- Regresa el bus 4\n",
      "Tickets: 5, Nombre: Martín, Destino: Zamborondon, bus 5, Asientos restantes: 15\n",
      "Tickets: 6, Nombre: Pablo, Destino: Machala, bus 4, Asientos restantes: 34\n",
      "Tickets: 3, Nombre: Mateo, Destino: Machala, bus 4, Asientos restantes: 31\n",
      "Tickets: 4, Nombre: Manuel, Destino: Machala, bus 4, Asientos restantes: 27\n",
      "Tickets: 3, Nombre: Sofía, Destino: Zamborondon, bus 5, Asientos restantes: 12\n",
      "Tickets: 1, Nombre: Pablo, Destino: Zamborondon, bus 5, Asientos restantes: 11\n",
      "Tickets: 2, Nombre: Manuel, Destino: Machala, bus 4, Asientos restantes: 25\n",
      "Tickets: 4, Nombre: Lucas, Destino: Zamborondon, bus 5, Asientos restantes: 7\n",
      "Tickets: 3, Nombre: Mateo, Destino: Machala, bus 4, Asientos restantes: 22\n",
      "Tickets: 2, Nombre: Mateo, Destino: Zamborondon, bus 5, Asientos restantes: 5\n",
      "Tickets: 5, Nombre: Leo, Destino: Machala, bus 4, Asientos restantes: 17\n",
      "Tickets: 1, Nombre: Emma, Destino: Zamborondon, bus 5, Asientos restantes: 4\n",
      "Tickets: 5, Nombre: Pablo, Destino: Machala, bus 4, Asientos restantes: 12\n",
      "Tickets: 5, Nombre: Mateo, Destino: Machala, bus 4, Asientos restantes: 7\n",
      "Tickets: 6, Nombre: Leo, Destino: Machala, bus 4, Asientos restantes: 1\n",
      "Tickets: 3, Nombre: Hugo, Destino: Zamborondon, bus 5, Asientos restantes: 1\n",
      "Tickets: 1, Nombre: Daniel, Destino: Machala, bus 4, Asientos restantes: 0\n",
      "Tickets: 1, Nombre: Daniel, Destino: Zamborondon, bus 5, Asientos restantes: 0\n",
      "----- Regresa el bus 2\n",
      "Tickets: 6, Nombre: Hugo, Destino: Quito, bus 2, Asientos restantes: 34\n",
      "Tickets: 2, Nombre: Mateo, Destino: Quito, bus 2, Asientos restantes: 32\n",
      "Tickets: 5, Nombre: Martín, Destino: Quito, bus 2, Asientos restantes: 27\n",
      "Tickets: 3, Nombre: Hugo, Destino: Quito, bus 2, Asientos restantes: 24\n",
      "Tickets: 6, Nombre: Hugo, Destino: Quito, bus 2, Asientos restantes: 18\n"
     ]
    },
    {
     "name": "stdout",
     "output_type": "stream",
     "text": [
      "Tickets: 3, Nombre: Martín, Destino: Quito, bus 2, Asientos restantes: 15\n",
      "Tickets: 2, Nombre: Mateo, Destino: Quito, bus 2, Asientos restantes: 13\n",
      "Tickets: 1, Nombre: Martín, Destino: Quito, bus 2, Asientos restantes: 12\n",
      "Tickets: 4, Nombre: Lucía, Destino: Quito, bus 2, Asientos restantes: 8\n",
      "Tickets: 5, Nombre: Lucas, Destino: Quito, bus 2, Asientos restantes: 3\n",
      "Tickets: 2, Nombre: María, Destino: Quito, bus 2, Asientos restantes: 1\n",
      "Tickets: 1, Nombre: Pablo, Destino: Quito, bus 2, Asientos restantes: 0\n",
      "----- Regresa el bus 1\n",
      "Tickets: 2, Nombre: Daniel, Destino: Guayaquil, bus 1, Asientos restantes: 38\n",
      "Tickets: 6, Nombre: Daniel, Destino: Guayaquil, bus 1, Asientos restantes: 32\n",
      "Tickets: 4, Nombre: Manuel, Destino: Guayaquil, bus 1, Asientos restantes: 28\n",
      "Tickets: 1, Nombre: Mateo, Destino: Guayaquil, bus 1, Asientos restantes: 27\n",
      "Tickets: 4, Nombre: Julia, Destino: Guayaquil, bus 1, Asientos restantes: 23\n",
      "Tickets: 4, Nombre: Hugo, Destino: Guayaquil, bus 1, Asientos restantes: 19\n",
      "Tickets: 5, Nombre: Alejandro, Destino: Guayaquil, bus 1, Asientos restantes: 14\n",
      "Tickets: 3, Nombre: Leo, Destino: Guayaquil, bus 1, Asientos restantes: 11\n",
      "Tickets: 1, Nombre: Hugo, Destino: Guayaquil, bus 1, Asientos restantes: 10\n",
      "Tickets: 4, Nombre: Leo, Destino: Guayaquil, bus 1, Asientos restantes: 6\n",
      "Tickets: 1, Nombre: Mateo, Destino: Guayaquil, bus 1, Asientos restantes: 5\n",
      "Tickets: 4, Nombre: Hugo, Destino: Guayaquil, bus 1, Asientos restantes: 1\n",
      "Tickets: 1, Nombre: Manuel, Destino: Guayaquil, bus 1, Asientos restantes: 0\n",
      "----- Regresa el bus 3\n",
      "Tickets: 5, Nombre: Leo, Destino: Cuenca, bus 3, Asientos restantes: 35\n",
      "Tickets: 3, Nombre: Lucas, Destino: Cuenca, bus 3, Asientos restantes: 32\n",
      "Tickets: 6, Nombre: Manuel, Destino: Cuenca, bus 3, Asientos restantes: 26\n",
      "Tickets: 1, Nombre: Manuel, Destino: Cuenca, bus 3, Asientos restantes: 25\n",
      "Tickets: 5, Nombre: Paula, Destino: Cuenca, bus 3, Asientos restantes: 20\n",
      "Tickets: 6, Nombre: Lucas, Destino: Cuenca, bus 3, Asientos restantes: 14\n",
      "Tickets: 3, Nombre: Daniel, Destino: Cuenca, bus 3, Asientos restantes: 11\n",
      "Tickets: 1, Nombre: Valeria, Destino: Cuenca, bus 3, Asientos restantes: 10\n",
      "Tickets: 2, Nombre: Manuel, Destino: Cuenca, bus 3, Asientos restantes: 8\n",
      "Tickets: 1, Nombre: Mateo, Destino: Cuenca, bus 3, Asientos restantes: 7\n",
      "Tickets: 1, Nombre: Leo, Destino: Cuenca, bus 3, Asientos restantes: 6\n",
      "Tickets: 3, Nombre: Pablo, Destino: Cuenca, bus 3, Asientos restantes: 3\n",
      "Tickets: 1, Nombre: Daniel, Destino: Cuenca, bus 3, Asientos restantes: 2\n",
      "----- Regresa el bus 1\n",
      "Tickets: 2, Nombre: Hugo, Destino: Guayaquil, bus 1, Asientos restantes: 38\n",
      "Tickets: 1, Nombre: Martín, Destino: Guayaquil, bus 1, Asientos restantes: 37\n",
      "Tickets: 6, Nombre: Martín, Destino: Guayaquil, bus 1, Asientos restantes: 31\n",
      "Tickets: 6, Nombre: Lucas, Destino: Guayaquil, bus 1, Asientos restantes: 25\n",
      "Tickets: 6, Nombre: Alejandro, Destino: Guayaquil, bus 1, Asientos restantes: 19\n",
      "Tickets: 6, Nombre: Manuel, Destino: Guayaquil, bus 1, Asientos restantes: 13\n",
      "Tickets: 6, Nombre: Paula, Destino: Guayaquil, bus 1, Asientos restantes: 7\n",
      "Tickets: 5, Nombre: Lucas, Destino: Guayaquil, bus 1, Asientos restantes: 2\n",
      "Tickets: 1, Nombre: Martín, Destino: Guayaquil, bus 1, Asientos restantes: 1\n",
      "Tickets: 1, Nombre: Pablo, Destino: Guayaquil, bus 1, Asientos restantes: 0\n",
      "Tickets: 2, Nombre: Manuel, Destino: Cuenca, bus 3, Asientos restantes: 0\n",
      "----- Regresa el bus 3\n",
      "Tickets: 2, Nombre: Mateo, Destino: Cuenca, bus 3, Asientos restantes: 38\n",
      "Tickets: 4, Nombre: Mateo, Destino: Cuenca, bus 3, Asientos restantes: 34\n",
      "Tickets: 5, Nombre: Hugo, Destino: Cuenca, bus 3, Asientos restantes: 29\n",
      "Tickets: 5, Nombre: Leo, Destino: Cuenca, bus 3, Asientos restantes: 24\n",
      "Tickets: 4, Nombre: Mateo, Destino: Cuenca, bus 3, Asientos restantes: 20\n",
      "Tickets: 2, Nombre: Valeria, Destino: Cuenca, bus 3, Asientos restantes: 18\n",
      "Tickets: 6, Nombre: Daniel, Destino: Cuenca, bus 3, Asientos restantes: 12\n",
      "Tickets: 4, Nombre: Alejandro, Destino: Cuenca, bus 3, Asientos restantes: 8\n",
      "Tickets: 5, Nombre: Hugo, Destino: Cuenca, bus 3, Asientos restantes: 3\n",
      "Tickets: 2, Nombre: Daniel, Destino: Cuenca, bus 3, Asientos restantes: 1\n",
      "----- Regresa el bus 5\n",
      "Tickets: 5, Nombre: Lucas, Destino: Zamborondon, bus 5, Asientos restantes: 35\n",
      "Tickets: 1, Nombre: Alejandro, Destino: Zamborondon, bus 5, Asientos restantes: 34\n",
      "Tickets: 2, Nombre: Leo, Destino: Zamborondon, bus 5, Asientos restantes: 32\n",
      "Tickets: 2, Nombre: Alejandro, Destino: Zamborondon, bus 5, Asientos restantes: 30\n",
      "Tickets: 4, Nombre: Daniel, Destino: Zamborondon, bus 5, Asientos restantes: 26\n",
      "Tickets: 2, Nombre: Pablo, Destino: Zamborondon, bus 5, Asientos restantes: 24\n",
      "Tickets: 6, Nombre: Sofía, Destino: Zamborondon, bus 5, Asientos restantes: 18\n",
      "Tickets: 1, Nombre: Pablo, Destino: Zamborondon, bus 5, Asientos restantes: 17\n",
      "Tickets: 2, Nombre: Hugo, Destino: Zamborondon, bus 5, Asientos restantes: 15\n",
      "Tickets: 1, Nombre: Pablo, Destino: Cuenca, bus 3, Asientos restantes: 0\n",
      "Tickets: 5, Nombre: Leo, Destino: Zamborondon, bus 5, Asientos restantes: 10\n",
      "Tickets: 3, Nombre: Hugo, Destino: Zamborondon, bus 5, Asientos restantes: 7\n",
      "Tickets: 6, Nombre: Alejandro, Destino: Zamborondon, bus 5, Asientos restantes: 1\n",
      "Tickets: 1, Nombre: Pablo, Destino: Zamborondon, bus 5, Asientos restantes: 0\n",
      "----- Regresa el bus 5\n",
      "Tickets: 1, Nombre: Alejandro, Destino: Zamborondon, bus 5, Asientos restantes: 39\n",
      "Tickets: 6, Nombre: Pablo, Destino: Zamborondon, bus 5, Asientos restantes: 33\n",
      "Tickets: 1, Nombre: Paula, Destino: Zamborondon, bus 5, Asientos restantes: 32\n",
      "Tickets: 6, Nombre: Manuel, Destino: Zamborondon, bus 5, Asientos restantes: 26\n",
      "Tickets: 5, Nombre: Alejandro, Destino: Zamborondon, bus 5, Asientos restantes: 21\n",
      "Tickets: 2, Nombre: Daniel, Destino: Zamborondon, bus 5, Asientos restantes: 19\n",
      "Tickets: 3, Nombre: Emma, Destino: Zamborondon, bus 5, Asientos restantes: 16\n",
      "Tickets: 4, Nombre: Mateo, Destino: Zamborondon, bus 5, Asientos restantes: 12\n",
      "Tickets: 5, Nombre: Lucía, Destino: Zamborondon, bus 5, Asientos restantes: 7\n",
      "Tickets: 4, Nombre: Mateo, Destino: Zamborondon, bus 5, Asientos restantes: 3\n",
      "Tickets: 2, Nombre: Leo, Destino: Zamborondon, bus 5, Asientos restantes: 1\n",
      "Tickets: 1, Nombre: Paula, Destino: Zamborondon, bus 5, Asientos restantes: 0\n",
      "----- Regresa el bus 2\n",
      "Tickets: 3, Nombre: Martín, Destino: Quito, bus 2, Asientos restantes: 37\n",
      "Tickets: 3, Nombre: Daniel, Destino: Quito, bus 2, Asientos restantes: 34\n",
      "Tickets: 1, Nombre: Lucas, Destino: Quito, bus 2, Asientos restantes: 33\n",
      "Tickets: 2, Nombre: Mateo, Destino: Quito, bus 2, Asientos restantes: 31\n",
      "Tickets: 5, Nombre: Daniela, Destino: Quito, bus 2, Asientos restantes: 26\n",
      "Tickets: 1, Nombre: Hugo, Destino: Quito, bus 2, Asientos restantes: 25\n",
      "Tickets: 6, Nombre: Mateo, Destino: Quito, bus 2, Asientos restantes: 19\n",
      "Tickets: 6, Nombre: Mateo, Destino: Quito, bus 2, Asientos restantes: 13\n",
      "Tickets: 4, Nombre: Leo, Destino: Quito, bus 2, Asientos restantes: 9\n",
      "Tickets: 5, Nombre: Lucas, Destino: Quito, bus 2, Asientos restantes: 4\n",
      "Tickets: 2, Nombre: Martín, Destino: Quito, bus 2, Asientos restantes: 2\n",
      "Tickets: 1, Nombre: Alejandro, Destino: Quito, bus 2, Asientos restantes: 1\n",
      "Tickets: 1, Nombre: Martina, Destino: Quito, bus 2, Asientos restantes: 0\n",
      "----- Regresa el bus 2\n",
      "Tickets: 2, Nombre: Leo, Destino: Quito, bus 2, Asientos restantes: 38\n",
      "Tickets: 6, Nombre: Daniel, Destino: Quito, bus 2, Asientos restantes: 32\n",
      "Tickets: 2, Nombre: Hugo, Destino: Quito, bus 2, Asientos restantes: 30\n",
      "Tickets: 3, Nombre: María, Destino: Quito, bus 2, Asientos restantes: 27\n",
      "Tickets: 2, Nombre: Daniela, Destino: Quito, bus 2, Asientos restantes: 25\n",
      "Tickets: 6, Nombre: Hugo, Destino: Quito, bus 2, Asientos restantes: 19\n",
      "Tickets: 4, Nombre: Martín, Destino: Quito, bus 2, Asientos restantes: 15\n",
      "Tickets: 4, Nombre: Leo, Destino: Quito, bus 2, Asientos restantes: 11\n",
      "Tickets: 2, Nombre: Hugo, Destino: Quito, bus 2, Asientos restantes: 9\n",
      "Tickets: 1, Nombre: Martín, Destino: Quito, bus 2, Asientos restantes: 8\n",
      "Tickets: 4, Nombre: Alejandro, Destino: Quito, bus 2, Asientos restantes: 4\n",
      "Tickets: 1, Nombre: Mateo, Destino: Quito, bus 2, Asientos restantes: 3\n"
     ]
    },
    {
     "name": "stdout",
     "output_type": "stream",
     "text": [
      "Tickets: 2, Nombre: Valeria, Destino: Quito, bus 2, Asientos restantes: 1\n",
      "Tickets: 1, Nombre: Daniela, Destino: Quito, bus 2, Asientos restantes: 0\n",
      "----- Regresa el bus 1\n",
      "Tickets: 2, Nombre: Leo, Destino: Guayaquil, bus 1, Asientos restantes: 38\n",
      "Tickets: 3, Nombre: Daniel, Destino: Guayaquil, bus 1, Asientos restantes: 35\n",
      "Tickets: 2, Nombre: Alejandro, Destino: Guayaquil, bus 1, Asientos restantes: 33\n",
      "Tickets: 1, Nombre: Martín, Destino: Guayaquil, bus 1, Asientos restantes: 32\n",
      "Tickets: 5, Nombre: Pablo, Destino: Guayaquil, bus 1, Asientos restantes: 27\n",
      "Tickets: 3, Nombre: Manuel, Destino: Guayaquil, bus 1, Asientos restantes: 24\n",
      "Tickets: 2, Nombre: Manuel, Destino: Guayaquil, bus 1, Asientos restantes: 22\n",
      "Tickets: 1, Nombre: Emma, Destino: Guayaquil, bus 1, Asientos restantes: 21\n",
      "Tickets: 3, Nombre: Pablo, Destino: Guayaquil, bus 1, Asientos restantes: 18\n",
      "Tickets: 3, Nombre: Leo, Destino: Guayaquil, bus 1, Asientos restantes: 15\n",
      "Tickets: 4, Nombre: Leo, Destino: Guayaquil, bus 1, Asientos restantes: 11\n",
      "Tickets: 5, Nombre: Martín, Destino: Guayaquil, bus 1, Asientos restantes: 6\n",
      "Tickets: 3, Nombre: Pablo, Destino: Guayaquil, bus 1, Asientos restantes: 3\n",
      "Tickets: 3, Nombre: Lucía, Destino: Guayaquil, bus 1, Asientos restantes: 0\n"
     ]
    }
   ],
   "source": [
    "env = simpy.Environment()\n",
    "turismo = UPS_turismo(env)\n",
    "generado = env.process(turismo.arrive_client())\n",
    "env.run(until=TIEMPO_SIMULACION)"
   ]
  },
  {
   "cell_type": "code",
   "execution_count": 476,
   "id": "ed17108b",
   "metadata": {},
   "outputs": [
    {
     "data": {
      "application/vnd.plotly.v1+json": {
       "config": {
        "plotlyServerURL": "https://plot.ly"
       },
       "data": [
        {
         "alignmentgroup": "True",
         "hovertemplate": "Tiempo de Compra=%{x}<br>Tickets=%{y}<extra></extra>",
         "legendgroup": "",
         "marker": {
          "color": "#636efa",
          "pattern": {
           "shape": ""
          }
         },
         "name": "",
         "offsetgroup": "",
         "orientation": "v",
         "showlegend": false,
         "textposition": "auto",
         "type": "bar",
         "x": [
          0.5,
          1.5,
          2.5,
          3.5,
          4.5,
          5.5,
          6.5,
          7.5,
          8.5,
          9.5,
          10.5,
          11.5,
          12.5,
          13.5,
          14.5,
          15.5,
          16.5,
          17.5,
          18.5
         ],
         "xaxis": "x",
         "y": [
          0,
          0,
          0,
          1,
          3,
          5,
          14,
          25,
          61,
          63,
          67,
          39,
          41,
          16,
          6,
          0,
          0,
          0,
          0
         ],
         "yaxis": "y"
        }
       ],
       "layout": {
        "barmode": "relative",
        "legend": {
         "tracegroupgap": 0
        },
        "margin": {
         "t": 60
        },
        "template": {
         "data": {
          "bar": [
           {
            "error_x": {
             "color": "#2a3f5f"
            },
            "error_y": {
             "color": "#2a3f5f"
            },
            "marker": {
             "line": {
              "color": "#E5ECF6",
              "width": 0.5
             },
             "pattern": {
              "fillmode": "overlay",
              "size": 10,
              "solidity": 0.2
             }
            },
            "type": "bar"
           }
          ],
          "barpolar": [
           {
            "marker": {
             "line": {
              "color": "#E5ECF6",
              "width": 0.5
             },
             "pattern": {
              "fillmode": "overlay",
              "size": 10,
              "solidity": 0.2
             }
            },
            "type": "barpolar"
           }
          ],
          "carpet": [
           {
            "aaxis": {
             "endlinecolor": "#2a3f5f",
             "gridcolor": "white",
             "linecolor": "white",
             "minorgridcolor": "white",
             "startlinecolor": "#2a3f5f"
            },
            "baxis": {
             "endlinecolor": "#2a3f5f",
             "gridcolor": "white",
             "linecolor": "white",
             "minorgridcolor": "white",
             "startlinecolor": "#2a3f5f"
            },
            "type": "carpet"
           }
          ],
          "choropleth": [
           {
            "colorbar": {
             "outlinewidth": 0,
             "ticks": ""
            },
            "type": "choropleth"
           }
          ],
          "contour": [
           {
            "colorbar": {
             "outlinewidth": 0,
             "ticks": ""
            },
            "colorscale": [
             [
              0,
              "#0d0887"
             ],
             [
              0.1111111111111111,
              "#46039f"
             ],
             [
              0.2222222222222222,
              "#7201a8"
             ],
             [
              0.3333333333333333,
              "#9c179e"
             ],
             [
              0.4444444444444444,
              "#bd3786"
             ],
             [
              0.5555555555555556,
              "#d8576b"
             ],
             [
              0.6666666666666666,
              "#ed7953"
             ],
             [
              0.7777777777777778,
              "#fb9f3a"
             ],
             [
              0.8888888888888888,
              "#fdca26"
             ],
             [
              1,
              "#f0f921"
             ]
            ],
            "type": "contour"
           }
          ],
          "contourcarpet": [
           {
            "colorbar": {
             "outlinewidth": 0,
             "ticks": ""
            },
            "type": "contourcarpet"
           }
          ],
          "heatmap": [
           {
            "colorbar": {
             "outlinewidth": 0,
             "ticks": ""
            },
            "colorscale": [
             [
              0,
              "#0d0887"
             ],
             [
              0.1111111111111111,
              "#46039f"
             ],
             [
              0.2222222222222222,
              "#7201a8"
             ],
             [
              0.3333333333333333,
              "#9c179e"
             ],
             [
              0.4444444444444444,
              "#bd3786"
             ],
             [
              0.5555555555555556,
              "#d8576b"
             ],
             [
              0.6666666666666666,
              "#ed7953"
             ],
             [
              0.7777777777777778,
              "#fb9f3a"
             ],
             [
              0.8888888888888888,
              "#fdca26"
             ],
             [
              1,
              "#f0f921"
             ]
            ],
            "type": "heatmap"
           }
          ],
          "heatmapgl": [
           {
            "colorbar": {
             "outlinewidth": 0,
             "ticks": ""
            },
            "colorscale": [
             [
              0,
              "#0d0887"
             ],
             [
              0.1111111111111111,
              "#46039f"
             ],
             [
              0.2222222222222222,
              "#7201a8"
             ],
             [
              0.3333333333333333,
              "#9c179e"
             ],
             [
              0.4444444444444444,
              "#bd3786"
             ],
             [
              0.5555555555555556,
              "#d8576b"
             ],
             [
              0.6666666666666666,
              "#ed7953"
             ],
             [
              0.7777777777777778,
              "#fb9f3a"
             ],
             [
              0.8888888888888888,
              "#fdca26"
             ],
             [
              1,
              "#f0f921"
             ]
            ],
            "type": "heatmapgl"
           }
          ],
          "histogram": [
           {
            "marker": {
             "pattern": {
              "fillmode": "overlay",
              "size": 10,
              "solidity": 0.2
             }
            },
            "type": "histogram"
           }
          ],
          "histogram2d": [
           {
            "colorbar": {
             "outlinewidth": 0,
             "ticks": ""
            },
            "colorscale": [
             [
              0,
              "#0d0887"
             ],
             [
              0.1111111111111111,
              "#46039f"
             ],
             [
              0.2222222222222222,
              "#7201a8"
             ],
             [
              0.3333333333333333,
              "#9c179e"
             ],
             [
              0.4444444444444444,
              "#bd3786"
             ],
             [
              0.5555555555555556,
              "#d8576b"
             ],
             [
              0.6666666666666666,
              "#ed7953"
             ],
             [
              0.7777777777777778,
              "#fb9f3a"
             ],
             [
              0.8888888888888888,
              "#fdca26"
             ],
             [
              1,
              "#f0f921"
             ]
            ],
            "type": "histogram2d"
           }
          ],
          "histogram2dcontour": [
           {
            "colorbar": {
             "outlinewidth": 0,
             "ticks": ""
            },
            "colorscale": [
             [
              0,
              "#0d0887"
             ],
             [
              0.1111111111111111,
              "#46039f"
             ],
             [
              0.2222222222222222,
              "#7201a8"
             ],
             [
              0.3333333333333333,
              "#9c179e"
             ],
             [
              0.4444444444444444,
              "#bd3786"
             ],
             [
              0.5555555555555556,
              "#d8576b"
             ],
             [
              0.6666666666666666,
              "#ed7953"
             ],
             [
              0.7777777777777778,
              "#fb9f3a"
             ],
             [
              0.8888888888888888,
              "#fdca26"
             ],
             [
              1,
              "#f0f921"
             ]
            ],
            "type": "histogram2dcontour"
           }
          ],
          "mesh3d": [
           {
            "colorbar": {
             "outlinewidth": 0,
             "ticks": ""
            },
            "type": "mesh3d"
           }
          ],
          "parcoords": [
           {
            "line": {
             "colorbar": {
              "outlinewidth": 0,
              "ticks": ""
             }
            },
            "type": "parcoords"
           }
          ],
          "pie": [
           {
            "automargin": true,
            "type": "pie"
           }
          ],
          "scatter": [
           {
            "fillpattern": {
             "fillmode": "overlay",
             "size": 10,
             "solidity": 0.2
            },
            "type": "scatter"
           }
          ],
          "scatter3d": [
           {
            "line": {
             "colorbar": {
              "outlinewidth": 0,
              "ticks": ""
             }
            },
            "marker": {
             "colorbar": {
              "outlinewidth": 0,
              "ticks": ""
             }
            },
            "type": "scatter3d"
           }
          ],
          "scattercarpet": [
           {
            "marker": {
             "colorbar": {
              "outlinewidth": 0,
              "ticks": ""
             }
            },
            "type": "scattercarpet"
           }
          ],
          "scattergeo": [
           {
            "marker": {
             "colorbar": {
              "outlinewidth": 0,
              "ticks": ""
             }
            },
            "type": "scattergeo"
           }
          ],
          "scattergl": [
           {
            "marker": {
             "colorbar": {
              "outlinewidth": 0,
              "ticks": ""
             }
            },
            "type": "scattergl"
           }
          ],
          "scattermapbox": [
           {
            "marker": {
             "colorbar": {
              "outlinewidth": 0,
              "ticks": ""
             }
            },
            "type": "scattermapbox"
           }
          ],
          "scatterpolar": [
           {
            "marker": {
             "colorbar": {
              "outlinewidth": 0,
              "ticks": ""
             }
            },
            "type": "scatterpolar"
           }
          ],
          "scatterpolargl": [
           {
            "marker": {
             "colorbar": {
              "outlinewidth": 0,
              "ticks": ""
             }
            },
            "type": "scatterpolargl"
           }
          ],
          "scatterternary": [
           {
            "marker": {
             "colorbar": {
              "outlinewidth": 0,
              "ticks": ""
             }
            },
            "type": "scatterternary"
           }
          ],
          "surface": [
           {
            "colorbar": {
             "outlinewidth": 0,
             "ticks": ""
            },
            "colorscale": [
             [
              0,
              "#0d0887"
             ],
             [
              0.1111111111111111,
              "#46039f"
             ],
             [
              0.2222222222222222,
              "#7201a8"
             ],
             [
              0.3333333333333333,
              "#9c179e"
             ],
             [
              0.4444444444444444,
              "#bd3786"
             ],
             [
              0.5555555555555556,
              "#d8576b"
             ],
             [
              0.6666666666666666,
              "#ed7953"
             ],
             [
              0.7777777777777778,
              "#fb9f3a"
             ],
             [
              0.8888888888888888,
              "#fdca26"
             ],
             [
              1,
              "#f0f921"
             ]
            ],
            "type": "surface"
           }
          ],
          "table": [
           {
            "cells": {
             "fill": {
              "color": "#EBF0F8"
             },
             "line": {
              "color": "white"
             }
            },
            "header": {
             "fill": {
              "color": "#C8D4E3"
             },
             "line": {
              "color": "white"
             }
            },
            "type": "table"
           }
          ]
         },
         "layout": {
          "annotationdefaults": {
           "arrowcolor": "#2a3f5f",
           "arrowhead": 0,
           "arrowwidth": 1
          },
          "autotypenumbers": "strict",
          "coloraxis": {
           "colorbar": {
            "outlinewidth": 0,
            "ticks": ""
           }
          },
          "colorscale": {
           "diverging": [
            [
             0,
             "#8e0152"
            ],
            [
             0.1,
             "#c51b7d"
            ],
            [
             0.2,
             "#de77ae"
            ],
            [
             0.3,
             "#f1b6da"
            ],
            [
             0.4,
             "#fde0ef"
            ],
            [
             0.5,
             "#f7f7f7"
            ],
            [
             0.6,
             "#e6f5d0"
            ],
            [
             0.7,
             "#b8e186"
            ],
            [
             0.8,
             "#7fbc41"
            ],
            [
             0.9,
             "#4d9221"
            ],
            [
             1,
             "#276419"
            ]
           ],
           "sequential": [
            [
             0,
             "#0d0887"
            ],
            [
             0.1111111111111111,
             "#46039f"
            ],
            [
             0.2222222222222222,
             "#7201a8"
            ],
            [
             0.3333333333333333,
             "#9c179e"
            ],
            [
             0.4444444444444444,
             "#bd3786"
            ],
            [
             0.5555555555555556,
             "#d8576b"
            ],
            [
             0.6666666666666666,
             "#ed7953"
            ],
            [
             0.7777777777777778,
             "#fb9f3a"
            ],
            [
             0.8888888888888888,
             "#fdca26"
            ],
            [
             1,
             "#f0f921"
            ]
           ],
           "sequentialminus": [
            [
             0,
             "#0d0887"
            ],
            [
             0.1111111111111111,
             "#46039f"
            ],
            [
             0.2222222222222222,
             "#7201a8"
            ],
            [
             0.3333333333333333,
             "#9c179e"
            ],
            [
             0.4444444444444444,
             "#bd3786"
            ],
            [
             0.5555555555555556,
             "#d8576b"
            ],
            [
             0.6666666666666666,
             "#ed7953"
            ],
            [
             0.7777777777777778,
             "#fb9f3a"
            ],
            [
             0.8888888888888888,
             "#fdca26"
            ],
            [
             1,
             "#f0f921"
            ]
           ]
          },
          "colorway": [
           "#636efa",
           "#EF553B",
           "#00cc96",
           "#ab63fa",
           "#FFA15A",
           "#19d3f3",
           "#FF6692",
           "#B6E880",
           "#FF97FF",
           "#FECB52"
          ],
          "font": {
           "color": "#2a3f5f"
          },
          "geo": {
           "bgcolor": "white",
           "lakecolor": "white",
           "landcolor": "#E5ECF6",
           "showlakes": true,
           "showland": true,
           "subunitcolor": "white"
          },
          "hoverlabel": {
           "align": "left"
          },
          "hovermode": "closest",
          "mapbox": {
           "style": "light"
          },
          "paper_bgcolor": "white",
          "plot_bgcolor": "#E5ECF6",
          "polar": {
           "angularaxis": {
            "gridcolor": "white",
            "linecolor": "white",
            "ticks": ""
           },
           "bgcolor": "#E5ECF6",
           "radialaxis": {
            "gridcolor": "white",
            "linecolor": "white",
            "ticks": ""
           }
          },
          "scene": {
           "xaxis": {
            "backgroundcolor": "#E5ECF6",
            "gridcolor": "white",
            "gridwidth": 2,
            "linecolor": "white",
            "showbackground": true,
            "ticks": "",
            "zerolinecolor": "white"
           },
           "yaxis": {
            "backgroundcolor": "#E5ECF6",
            "gridcolor": "white",
            "gridwidth": 2,
            "linecolor": "white",
            "showbackground": true,
            "ticks": "",
            "zerolinecolor": "white"
           },
           "zaxis": {
            "backgroundcolor": "#E5ECF6",
            "gridcolor": "white",
            "gridwidth": 2,
            "linecolor": "white",
            "showbackground": true,
            "ticks": "",
            "zerolinecolor": "white"
           }
          },
          "shapedefaults": {
           "line": {
            "color": "#2a3f5f"
           }
          },
          "ternary": {
           "aaxis": {
            "gridcolor": "white",
            "linecolor": "white",
            "ticks": ""
           },
           "baxis": {
            "gridcolor": "white",
            "linecolor": "white",
            "ticks": ""
           },
           "bgcolor": "#E5ECF6",
           "caxis": {
            "gridcolor": "white",
            "linecolor": "white",
            "ticks": ""
           }
          },
          "title": {
           "x": 0.05
          },
          "xaxis": {
           "automargin": true,
           "gridcolor": "white",
           "linecolor": "white",
           "ticks": "",
           "title": {
            "standoff": 15
           },
           "zerolinecolor": "white",
           "zerolinewidth": 2
          },
          "yaxis": {
           "automargin": true,
           "gridcolor": "white",
           "linecolor": "white",
           "ticks": "",
           "title": {
            "standoff": 15
           },
           "zerolinecolor": "white",
           "zerolinewidth": 2
          }
         }
        },
        "xaxis": {
         "anchor": "y",
         "domain": [
          0,
          1
         ],
         "title": {
          "text": "Tiempo de Compra"
         }
        },
        "yaxis": {
         "anchor": "x",
         "domain": [
          0,
          1
         ],
         "title": {
          "text": "Tickets"
         }
        }
       }
      },
      "text/html": [
       "<div>                            <div id=\"f85a468f-6b6d-40bf-be0b-ca1763932255\" class=\"plotly-graph-div\" style=\"height:525px; width:100%;\"></div>            <script type=\"text/javascript\">                require([\"plotly\"], function(Plotly) {                    window.PLOTLYENV=window.PLOTLYENV || {};                                    if (document.getElementById(\"f85a468f-6b6d-40bf-be0b-ca1763932255\")) {                    Plotly.newPlot(                        \"f85a468f-6b6d-40bf-be0b-ca1763932255\",                        [{\"alignmentgroup\":\"True\",\"hovertemplate\":\"Tiempo de Compra=%{x}<br>Tickets=%{y}<extra></extra>\",\"legendgroup\":\"\",\"marker\":{\"color\":\"#636efa\",\"pattern\":{\"shape\":\"\"}},\"name\":\"\",\"offsetgroup\":\"\",\"orientation\":\"v\",\"showlegend\":false,\"textposition\":\"auto\",\"x\":[0.5,1.5,2.5,3.5,4.5,5.5,6.5,7.5,8.5,9.5,10.5,11.5,12.5,13.5,14.5,15.5,16.5,17.5,18.5],\"xaxis\":\"x\",\"y\":[0,0,0,1,3,5,14,25,61,63,67,39,41,16,6,0,0,0,0],\"yaxis\":\"y\",\"type\":\"bar\"}],                        {\"template\":{\"data\":{\"histogram2dcontour\":[{\"type\":\"histogram2dcontour\",\"colorbar\":{\"outlinewidth\":0,\"ticks\":\"\"},\"colorscale\":[[0.0,\"#0d0887\"],[0.1111111111111111,\"#46039f\"],[0.2222222222222222,\"#7201a8\"],[0.3333333333333333,\"#9c179e\"],[0.4444444444444444,\"#bd3786\"],[0.5555555555555556,\"#d8576b\"],[0.6666666666666666,\"#ed7953\"],[0.7777777777777778,\"#fb9f3a\"],[0.8888888888888888,\"#fdca26\"],[1.0,\"#f0f921\"]]}],\"choropleth\":[{\"type\":\"choropleth\",\"colorbar\":{\"outlinewidth\":0,\"ticks\":\"\"}}],\"histogram2d\":[{\"type\":\"histogram2d\",\"colorbar\":{\"outlinewidth\":0,\"ticks\":\"\"},\"colorscale\":[[0.0,\"#0d0887\"],[0.1111111111111111,\"#46039f\"],[0.2222222222222222,\"#7201a8\"],[0.3333333333333333,\"#9c179e\"],[0.4444444444444444,\"#bd3786\"],[0.5555555555555556,\"#d8576b\"],[0.6666666666666666,\"#ed7953\"],[0.7777777777777778,\"#fb9f3a\"],[0.8888888888888888,\"#fdca26\"],[1.0,\"#f0f921\"]]}],\"heatmap\":[{\"type\":\"heatmap\",\"colorbar\":{\"outlinewidth\":0,\"ticks\":\"\"},\"colorscale\":[[0.0,\"#0d0887\"],[0.1111111111111111,\"#46039f\"],[0.2222222222222222,\"#7201a8\"],[0.3333333333333333,\"#9c179e\"],[0.4444444444444444,\"#bd3786\"],[0.5555555555555556,\"#d8576b\"],[0.6666666666666666,\"#ed7953\"],[0.7777777777777778,\"#fb9f3a\"],[0.8888888888888888,\"#fdca26\"],[1.0,\"#f0f921\"]]}],\"heatmapgl\":[{\"type\":\"heatmapgl\",\"colorbar\":{\"outlinewidth\":0,\"ticks\":\"\"},\"colorscale\":[[0.0,\"#0d0887\"],[0.1111111111111111,\"#46039f\"],[0.2222222222222222,\"#7201a8\"],[0.3333333333333333,\"#9c179e\"],[0.4444444444444444,\"#bd3786\"],[0.5555555555555556,\"#d8576b\"],[0.6666666666666666,\"#ed7953\"],[0.7777777777777778,\"#fb9f3a\"],[0.8888888888888888,\"#fdca26\"],[1.0,\"#f0f921\"]]}],\"contourcarpet\":[{\"type\":\"contourcarpet\",\"colorbar\":{\"outlinewidth\":0,\"ticks\":\"\"}}],\"contour\":[{\"type\":\"contour\",\"colorbar\":{\"outlinewidth\":0,\"ticks\":\"\"},\"colorscale\":[[0.0,\"#0d0887\"],[0.1111111111111111,\"#46039f\"],[0.2222222222222222,\"#7201a8\"],[0.3333333333333333,\"#9c179e\"],[0.4444444444444444,\"#bd3786\"],[0.5555555555555556,\"#d8576b\"],[0.6666666666666666,\"#ed7953\"],[0.7777777777777778,\"#fb9f3a\"],[0.8888888888888888,\"#fdca26\"],[1.0,\"#f0f921\"]]}],\"surface\":[{\"type\":\"surface\",\"colorbar\":{\"outlinewidth\":0,\"ticks\":\"\"},\"colorscale\":[[0.0,\"#0d0887\"],[0.1111111111111111,\"#46039f\"],[0.2222222222222222,\"#7201a8\"],[0.3333333333333333,\"#9c179e\"],[0.4444444444444444,\"#bd3786\"],[0.5555555555555556,\"#d8576b\"],[0.6666666666666666,\"#ed7953\"],[0.7777777777777778,\"#fb9f3a\"],[0.8888888888888888,\"#fdca26\"],[1.0,\"#f0f921\"]]}],\"mesh3d\":[{\"type\":\"mesh3d\",\"colorbar\":{\"outlinewidth\":0,\"ticks\":\"\"}}],\"scatter\":[{\"fillpattern\":{\"fillmode\":\"overlay\",\"size\":10,\"solidity\":0.2},\"type\":\"scatter\"}],\"parcoords\":[{\"type\":\"parcoords\",\"line\":{\"colorbar\":{\"outlinewidth\":0,\"ticks\":\"\"}}}],\"scatterpolargl\":[{\"type\":\"scatterpolargl\",\"marker\":{\"colorbar\":{\"outlinewidth\":0,\"ticks\":\"\"}}}],\"bar\":[{\"error_x\":{\"color\":\"#2a3f5f\"},\"error_y\":{\"color\":\"#2a3f5f\"},\"marker\":{\"line\":{\"color\":\"#E5ECF6\",\"width\":0.5},\"pattern\":{\"fillmode\":\"overlay\",\"size\":10,\"solidity\":0.2}},\"type\":\"bar\"}],\"scattergeo\":[{\"type\":\"scattergeo\",\"marker\":{\"colorbar\":{\"outlinewidth\":0,\"ticks\":\"\"}}}],\"scatterpolar\":[{\"type\":\"scatterpolar\",\"marker\":{\"colorbar\":{\"outlinewidth\":0,\"ticks\":\"\"}}}],\"histogram\":[{\"marker\":{\"pattern\":{\"fillmode\":\"overlay\",\"size\":10,\"solidity\":0.2}},\"type\":\"histogram\"}],\"scattergl\":[{\"type\":\"scattergl\",\"marker\":{\"colorbar\":{\"outlinewidth\":0,\"ticks\":\"\"}}}],\"scatter3d\":[{\"type\":\"scatter3d\",\"line\":{\"colorbar\":{\"outlinewidth\":0,\"ticks\":\"\"}},\"marker\":{\"colorbar\":{\"outlinewidth\":0,\"ticks\":\"\"}}}],\"scattermapbox\":[{\"type\":\"scattermapbox\",\"marker\":{\"colorbar\":{\"outlinewidth\":0,\"ticks\":\"\"}}}],\"scatterternary\":[{\"type\":\"scatterternary\",\"marker\":{\"colorbar\":{\"outlinewidth\":0,\"ticks\":\"\"}}}],\"scattercarpet\":[{\"type\":\"scattercarpet\",\"marker\":{\"colorbar\":{\"outlinewidth\":0,\"ticks\":\"\"}}}],\"carpet\":[{\"aaxis\":{\"endlinecolor\":\"#2a3f5f\",\"gridcolor\":\"white\",\"linecolor\":\"white\",\"minorgridcolor\":\"white\",\"startlinecolor\":\"#2a3f5f\"},\"baxis\":{\"endlinecolor\":\"#2a3f5f\",\"gridcolor\":\"white\",\"linecolor\":\"white\",\"minorgridcolor\":\"white\",\"startlinecolor\":\"#2a3f5f\"},\"type\":\"carpet\"}],\"table\":[{\"cells\":{\"fill\":{\"color\":\"#EBF0F8\"},\"line\":{\"color\":\"white\"}},\"header\":{\"fill\":{\"color\":\"#C8D4E3\"},\"line\":{\"color\":\"white\"}},\"type\":\"table\"}],\"barpolar\":[{\"marker\":{\"line\":{\"color\":\"#E5ECF6\",\"width\":0.5},\"pattern\":{\"fillmode\":\"overlay\",\"size\":10,\"solidity\":0.2}},\"type\":\"barpolar\"}],\"pie\":[{\"automargin\":true,\"type\":\"pie\"}]},\"layout\":{\"autotypenumbers\":\"strict\",\"colorway\":[\"#636efa\",\"#EF553B\",\"#00cc96\",\"#ab63fa\",\"#FFA15A\",\"#19d3f3\",\"#FF6692\",\"#B6E880\",\"#FF97FF\",\"#FECB52\"],\"font\":{\"color\":\"#2a3f5f\"},\"hovermode\":\"closest\",\"hoverlabel\":{\"align\":\"left\"},\"paper_bgcolor\":\"white\",\"plot_bgcolor\":\"#E5ECF6\",\"polar\":{\"bgcolor\":\"#E5ECF6\",\"angularaxis\":{\"gridcolor\":\"white\",\"linecolor\":\"white\",\"ticks\":\"\"},\"radialaxis\":{\"gridcolor\":\"white\",\"linecolor\":\"white\",\"ticks\":\"\"}},\"ternary\":{\"bgcolor\":\"#E5ECF6\",\"aaxis\":{\"gridcolor\":\"white\",\"linecolor\":\"white\",\"ticks\":\"\"},\"baxis\":{\"gridcolor\":\"white\",\"linecolor\":\"white\",\"ticks\":\"\"},\"caxis\":{\"gridcolor\":\"white\",\"linecolor\":\"white\",\"ticks\":\"\"}},\"coloraxis\":{\"colorbar\":{\"outlinewidth\":0,\"ticks\":\"\"}},\"colorscale\":{\"sequential\":[[0.0,\"#0d0887\"],[0.1111111111111111,\"#46039f\"],[0.2222222222222222,\"#7201a8\"],[0.3333333333333333,\"#9c179e\"],[0.4444444444444444,\"#bd3786\"],[0.5555555555555556,\"#d8576b\"],[0.6666666666666666,\"#ed7953\"],[0.7777777777777778,\"#fb9f3a\"],[0.8888888888888888,\"#fdca26\"],[1.0,\"#f0f921\"]],\"sequentialminus\":[[0.0,\"#0d0887\"],[0.1111111111111111,\"#46039f\"],[0.2222222222222222,\"#7201a8\"],[0.3333333333333333,\"#9c179e\"],[0.4444444444444444,\"#bd3786\"],[0.5555555555555556,\"#d8576b\"],[0.6666666666666666,\"#ed7953\"],[0.7777777777777778,\"#fb9f3a\"],[0.8888888888888888,\"#fdca26\"],[1.0,\"#f0f921\"]],\"diverging\":[[0,\"#8e0152\"],[0.1,\"#c51b7d\"],[0.2,\"#de77ae\"],[0.3,\"#f1b6da\"],[0.4,\"#fde0ef\"],[0.5,\"#f7f7f7\"],[0.6,\"#e6f5d0\"],[0.7,\"#b8e186\"],[0.8,\"#7fbc41\"],[0.9,\"#4d9221\"],[1,\"#276419\"]]},\"xaxis\":{\"gridcolor\":\"white\",\"linecolor\":\"white\",\"ticks\":\"\",\"title\":{\"standoff\":15},\"zerolinecolor\":\"white\",\"automargin\":true,\"zerolinewidth\":2},\"yaxis\":{\"gridcolor\":\"white\",\"linecolor\":\"white\",\"ticks\":\"\",\"title\":{\"standoff\":15},\"zerolinecolor\":\"white\",\"automargin\":true,\"zerolinewidth\":2},\"scene\":{\"xaxis\":{\"backgroundcolor\":\"#E5ECF6\",\"gridcolor\":\"white\",\"linecolor\":\"white\",\"showbackground\":true,\"ticks\":\"\",\"zerolinecolor\":\"white\",\"gridwidth\":2},\"yaxis\":{\"backgroundcolor\":\"#E5ECF6\",\"gridcolor\":\"white\",\"linecolor\":\"white\",\"showbackground\":true,\"ticks\":\"\",\"zerolinecolor\":\"white\",\"gridwidth\":2},\"zaxis\":{\"backgroundcolor\":\"#E5ECF6\",\"gridcolor\":\"white\",\"linecolor\":\"white\",\"showbackground\":true,\"ticks\":\"\",\"zerolinecolor\":\"white\",\"gridwidth\":2}},\"shapedefaults\":{\"line\":{\"color\":\"#2a3f5f\"}},\"annotationdefaults\":{\"arrowcolor\":\"#2a3f5f\",\"arrowhead\":0,\"arrowwidth\":1},\"geo\":{\"bgcolor\":\"white\",\"landcolor\":\"#E5ECF6\",\"subunitcolor\":\"white\",\"showland\":true,\"showlakes\":true,\"lakecolor\":\"white\"},\"title\":{\"x\":0.05},\"mapbox\":{\"style\":\"light\"}}},\"xaxis\":{\"anchor\":\"y\",\"domain\":[0.0,1.0],\"title\":{\"text\":\"Tiempo de Compra\"}},\"yaxis\":{\"anchor\":\"x\",\"domain\":[0.0,1.0],\"title\":{\"text\":\"Tickets\"}},\"legend\":{\"tracegroupgap\":0},\"margin\":{\"t\":60},\"barmode\":\"relative\"},                        {\"responsive\": true}                    ).then(function(){\n",
       "                            \n",
       "var gd = document.getElementById('f85a468f-6b6d-40bf-be0b-ca1763932255');\n",
       "var x = new MutationObserver(function (mutations, observer) {{\n",
       "        var display = window.getComputedStyle(gd).display;\n",
       "        if (!display || display === 'none') {{\n",
       "            console.log([gd, 'removed!']);\n",
       "            Plotly.purge(gd);\n",
       "            observer.disconnect();\n",
       "        }}\n",
       "}});\n",
       "\n",
       "// Listen for the removal of the full notebook cells\n",
       "var notebookContainer = gd.closest('#notebook-container');\n",
       "if (notebookContainer) {{\n",
       "    x.observe(notebookContainer, {childList: true});\n",
       "}}\n",
       "\n",
       "// Listen for the clearing of the current output cell\n",
       "var outputEl = gd.closest('.output');\n",
       "if (outputEl) {{\n",
       "    x.observe(outputEl, {childList: true});\n",
       "}}\n",
       "\n",
       "                        })                };                });            </script>        </div>"
      ]
     },
     "metadata": {},
     "output_type": "display_data"
    }
   ],
   "source": [
    "# Report Venta de tickets\n",
    "counts, bins = np.histogram([boleto[\"tiempo_compra\"] for boleto in turismo.boleteria[\"boletos\"]], bins=range(0, 20, 1))\n",
    "bins = 0.5 * (bins[:-1] + bins[1:])\n",
    "fig = px.bar(x=bins, y=counts, labels={'x':'Tiempo de Compra', 'y':'Tickets'})\n",
    "fig.show()"
   ]
  },
  {
   "cell_type": "code",
   "execution_count": 477,
   "id": "d6c6839e",
   "metadata": {},
   "outputs": [
    {
     "data": {
      "application/vnd.plotly.v1+json": {
       "config": {
        "plotlyServerURL": "https://plot.ly"
       },
       "data": [
        {
         "insidetextorientation": "radial",
         "labels": [
          "Guayaquil",
          "Quito",
          "Cuenca",
          "Machala",
          "Zamborondon",
          "Macas"
         ],
         "textinfo": "label+percent",
         "type": "pie",
         "values": [
          95,
          71,
          64,
          49,
          50,
          12
         ]
        }
       ],
       "layout": {
        "template": {
         "data": {
          "bar": [
           {
            "error_x": {
             "color": "#2a3f5f"
            },
            "error_y": {
             "color": "#2a3f5f"
            },
            "marker": {
             "line": {
              "color": "#E5ECF6",
              "width": 0.5
             },
             "pattern": {
              "fillmode": "overlay",
              "size": 10,
              "solidity": 0.2
             }
            },
            "type": "bar"
           }
          ],
          "barpolar": [
           {
            "marker": {
             "line": {
              "color": "#E5ECF6",
              "width": 0.5
             },
             "pattern": {
              "fillmode": "overlay",
              "size": 10,
              "solidity": 0.2
             }
            },
            "type": "barpolar"
           }
          ],
          "carpet": [
           {
            "aaxis": {
             "endlinecolor": "#2a3f5f",
             "gridcolor": "white",
             "linecolor": "white",
             "minorgridcolor": "white",
             "startlinecolor": "#2a3f5f"
            },
            "baxis": {
             "endlinecolor": "#2a3f5f",
             "gridcolor": "white",
             "linecolor": "white",
             "minorgridcolor": "white",
             "startlinecolor": "#2a3f5f"
            },
            "type": "carpet"
           }
          ],
          "choropleth": [
           {
            "colorbar": {
             "outlinewidth": 0,
             "ticks": ""
            },
            "type": "choropleth"
           }
          ],
          "contour": [
           {
            "colorbar": {
             "outlinewidth": 0,
             "ticks": ""
            },
            "colorscale": [
             [
              0,
              "#0d0887"
             ],
             [
              0.1111111111111111,
              "#46039f"
             ],
             [
              0.2222222222222222,
              "#7201a8"
             ],
             [
              0.3333333333333333,
              "#9c179e"
             ],
             [
              0.4444444444444444,
              "#bd3786"
             ],
             [
              0.5555555555555556,
              "#d8576b"
             ],
             [
              0.6666666666666666,
              "#ed7953"
             ],
             [
              0.7777777777777778,
              "#fb9f3a"
             ],
             [
              0.8888888888888888,
              "#fdca26"
             ],
             [
              1,
              "#f0f921"
             ]
            ],
            "type": "contour"
           }
          ],
          "contourcarpet": [
           {
            "colorbar": {
             "outlinewidth": 0,
             "ticks": ""
            },
            "type": "contourcarpet"
           }
          ],
          "heatmap": [
           {
            "colorbar": {
             "outlinewidth": 0,
             "ticks": ""
            },
            "colorscale": [
             [
              0,
              "#0d0887"
             ],
             [
              0.1111111111111111,
              "#46039f"
             ],
             [
              0.2222222222222222,
              "#7201a8"
             ],
             [
              0.3333333333333333,
              "#9c179e"
             ],
             [
              0.4444444444444444,
              "#bd3786"
             ],
             [
              0.5555555555555556,
              "#d8576b"
             ],
             [
              0.6666666666666666,
              "#ed7953"
             ],
             [
              0.7777777777777778,
              "#fb9f3a"
             ],
             [
              0.8888888888888888,
              "#fdca26"
             ],
             [
              1,
              "#f0f921"
             ]
            ],
            "type": "heatmap"
           }
          ],
          "heatmapgl": [
           {
            "colorbar": {
             "outlinewidth": 0,
             "ticks": ""
            },
            "colorscale": [
             [
              0,
              "#0d0887"
             ],
             [
              0.1111111111111111,
              "#46039f"
             ],
             [
              0.2222222222222222,
              "#7201a8"
             ],
             [
              0.3333333333333333,
              "#9c179e"
             ],
             [
              0.4444444444444444,
              "#bd3786"
             ],
             [
              0.5555555555555556,
              "#d8576b"
             ],
             [
              0.6666666666666666,
              "#ed7953"
             ],
             [
              0.7777777777777778,
              "#fb9f3a"
             ],
             [
              0.8888888888888888,
              "#fdca26"
             ],
             [
              1,
              "#f0f921"
             ]
            ],
            "type": "heatmapgl"
           }
          ],
          "histogram": [
           {
            "marker": {
             "pattern": {
              "fillmode": "overlay",
              "size": 10,
              "solidity": 0.2
             }
            },
            "type": "histogram"
           }
          ],
          "histogram2d": [
           {
            "colorbar": {
             "outlinewidth": 0,
             "ticks": ""
            },
            "colorscale": [
             [
              0,
              "#0d0887"
             ],
             [
              0.1111111111111111,
              "#46039f"
             ],
             [
              0.2222222222222222,
              "#7201a8"
             ],
             [
              0.3333333333333333,
              "#9c179e"
             ],
             [
              0.4444444444444444,
              "#bd3786"
             ],
             [
              0.5555555555555556,
              "#d8576b"
             ],
             [
              0.6666666666666666,
              "#ed7953"
             ],
             [
              0.7777777777777778,
              "#fb9f3a"
             ],
             [
              0.8888888888888888,
              "#fdca26"
             ],
             [
              1,
              "#f0f921"
             ]
            ],
            "type": "histogram2d"
           }
          ],
          "histogram2dcontour": [
           {
            "colorbar": {
             "outlinewidth": 0,
             "ticks": ""
            },
            "colorscale": [
             [
              0,
              "#0d0887"
             ],
             [
              0.1111111111111111,
              "#46039f"
             ],
             [
              0.2222222222222222,
              "#7201a8"
             ],
             [
              0.3333333333333333,
              "#9c179e"
             ],
             [
              0.4444444444444444,
              "#bd3786"
             ],
             [
              0.5555555555555556,
              "#d8576b"
             ],
             [
              0.6666666666666666,
              "#ed7953"
             ],
             [
              0.7777777777777778,
              "#fb9f3a"
             ],
             [
              0.8888888888888888,
              "#fdca26"
             ],
             [
              1,
              "#f0f921"
             ]
            ],
            "type": "histogram2dcontour"
           }
          ],
          "mesh3d": [
           {
            "colorbar": {
             "outlinewidth": 0,
             "ticks": ""
            },
            "type": "mesh3d"
           }
          ],
          "parcoords": [
           {
            "line": {
             "colorbar": {
              "outlinewidth": 0,
              "ticks": ""
             }
            },
            "type": "parcoords"
           }
          ],
          "pie": [
           {
            "automargin": true,
            "type": "pie"
           }
          ],
          "scatter": [
           {
            "fillpattern": {
             "fillmode": "overlay",
             "size": 10,
             "solidity": 0.2
            },
            "type": "scatter"
           }
          ],
          "scatter3d": [
           {
            "line": {
             "colorbar": {
              "outlinewidth": 0,
              "ticks": ""
             }
            },
            "marker": {
             "colorbar": {
              "outlinewidth": 0,
              "ticks": ""
             }
            },
            "type": "scatter3d"
           }
          ],
          "scattercarpet": [
           {
            "marker": {
             "colorbar": {
              "outlinewidth": 0,
              "ticks": ""
             }
            },
            "type": "scattercarpet"
           }
          ],
          "scattergeo": [
           {
            "marker": {
             "colorbar": {
              "outlinewidth": 0,
              "ticks": ""
             }
            },
            "type": "scattergeo"
           }
          ],
          "scattergl": [
           {
            "marker": {
             "colorbar": {
              "outlinewidth": 0,
              "ticks": ""
             }
            },
            "type": "scattergl"
           }
          ],
          "scattermapbox": [
           {
            "marker": {
             "colorbar": {
              "outlinewidth": 0,
              "ticks": ""
             }
            },
            "type": "scattermapbox"
           }
          ],
          "scatterpolar": [
           {
            "marker": {
             "colorbar": {
              "outlinewidth": 0,
              "ticks": ""
             }
            },
            "type": "scatterpolar"
           }
          ],
          "scatterpolargl": [
           {
            "marker": {
             "colorbar": {
              "outlinewidth": 0,
              "ticks": ""
             }
            },
            "type": "scatterpolargl"
           }
          ],
          "scatterternary": [
           {
            "marker": {
             "colorbar": {
              "outlinewidth": 0,
              "ticks": ""
             }
            },
            "type": "scatterternary"
           }
          ],
          "surface": [
           {
            "colorbar": {
             "outlinewidth": 0,
             "ticks": ""
            },
            "colorscale": [
             [
              0,
              "#0d0887"
             ],
             [
              0.1111111111111111,
              "#46039f"
             ],
             [
              0.2222222222222222,
              "#7201a8"
             ],
             [
              0.3333333333333333,
              "#9c179e"
             ],
             [
              0.4444444444444444,
              "#bd3786"
             ],
             [
              0.5555555555555556,
              "#d8576b"
             ],
             [
              0.6666666666666666,
              "#ed7953"
             ],
             [
              0.7777777777777778,
              "#fb9f3a"
             ],
             [
              0.8888888888888888,
              "#fdca26"
             ],
             [
              1,
              "#f0f921"
             ]
            ],
            "type": "surface"
           }
          ],
          "table": [
           {
            "cells": {
             "fill": {
              "color": "#EBF0F8"
             },
             "line": {
              "color": "white"
             }
            },
            "header": {
             "fill": {
              "color": "#C8D4E3"
             },
             "line": {
              "color": "white"
             }
            },
            "type": "table"
           }
          ]
         },
         "layout": {
          "annotationdefaults": {
           "arrowcolor": "#2a3f5f",
           "arrowhead": 0,
           "arrowwidth": 1
          },
          "autotypenumbers": "strict",
          "coloraxis": {
           "colorbar": {
            "outlinewidth": 0,
            "ticks": ""
           }
          },
          "colorscale": {
           "diverging": [
            [
             0,
             "#8e0152"
            ],
            [
             0.1,
             "#c51b7d"
            ],
            [
             0.2,
             "#de77ae"
            ],
            [
             0.3,
             "#f1b6da"
            ],
            [
             0.4,
             "#fde0ef"
            ],
            [
             0.5,
             "#f7f7f7"
            ],
            [
             0.6,
             "#e6f5d0"
            ],
            [
             0.7,
             "#b8e186"
            ],
            [
             0.8,
             "#7fbc41"
            ],
            [
             0.9,
             "#4d9221"
            ],
            [
             1,
             "#276419"
            ]
           ],
           "sequential": [
            [
             0,
             "#0d0887"
            ],
            [
             0.1111111111111111,
             "#46039f"
            ],
            [
             0.2222222222222222,
             "#7201a8"
            ],
            [
             0.3333333333333333,
             "#9c179e"
            ],
            [
             0.4444444444444444,
             "#bd3786"
            ],
            [
             0.5555555555555556,
             "#d8576b"
            ],
            [
             0.6666666666666666,
             "#ed7953"
            ],
            [
             0.7777777777777778,
             "#fb9f3a"
            ],
            [
             0.8888888888888888,
             "#fdca26"
            ],
            [
             1,
             "#f0f921"
            ]
           ],
           "sequentialminus": [
            [
             0,
             "#0d0887"
            ],
            [
             0.1111111111111111,
             "#46039f"
            ],
            [
             0.2222222222222222,
             "#7201a8"
            ],
            [
             0.3333333333333333,
             "#9c179e"
            ],
            [
             0.4444444444444444,
             "#bd3786"
            ],
            [
             0.5555555555555556,
             "#d8576b"
            ],
            [
             0.6666666666666666,
             "#ed7953"
            ],
            [
             0.7777777777777778,
             "#fb9f3a"
            ],
            [
             0.8888888888888888,
             "#fdca26"
            ],
            [
             1,
             "#f0f921"
            ]
           ]
          },
          "colorway": [
           "#636efa",
           "#EF553B",
           "#00cc96",
           "#ab63fa",
           "#FFA15A",
           "#19d3f3",
           "#FF6692",
           "#B6E880",
           "#FF97FF",
           "#FECB52"
          ],
          "font": {
           "color": "#2a3f5f"
          },
          "geo": {
           "bgcolor": "white",
           "lakecolor": "white",
           "landcolor": "#E5ECF6",
           "showlakes": true,
           "showland": true,
           "subunitcolor": "white"
          },
          "hoverlabel": {
           "align": "left"
          },
          "hovermode": "closest",
          "mapbox": {
           "style": "light"
          },
          "paper_bgcolor": "white",
          "plot_bgcolor": "#E5ECF6",
          "polar": {
           "angularaxis": {
            "gridcolor": "white",
            "linecolor": "white",
            "ticks": ""
           },
           "bgcolor": "#E5ECF6",
           "radialaxis": {
            "gridcolor": "white",
            "linecolor": "white",
            "ticks": ""
           }
          },
          "scene": {
           "xaxis": {
            "backgroundcolor": "#E5ECF6",
            "gridcolor": "white",
            "gridwidth": 2,
            "linecolor": "white",
            "showbackground": true,
            "ticks": "",
            "zerolinecolor": "white"
           },
           "yaxis": {
            "backgroundcolor": "#E5ECF6",
            "gridcolor": "white",
            "gridwidth": 2,
            "linecolor": "white",
            "showbackground": true,
            "ticks": "",
            "zerolinecolor": "white"
           },
           "zaxis": {
            "backgroundcolor": "#E5ECF6",
            "gridcolor": "white",
            "gridwidth": 2,
            "linecolor": "white",
            "showbackground": true,
            "ticks": "",
            "zerolinecolor": "white"
           }
          },
          "shapedefaults": {
           "line": {
            "color": "#2a3f5f"
           }
          },
          "ternary": {
           "aaxis": {
            "gridcolor": "white",
            "linecolor": "white",
            "ticks": ""
           },
           "baxis": {
            "gridcolor": "white",
            "linecolor": "white",
            "ticks": ""
           },
           "bgcolor": "#E5ECF6",
           "caxis": {
            "gridcolor": "white",
            "linecolor": "white",
            "ticks": ""
           }
          },
          "title": {
           "x": 0.05
          },
          "xaxis": {
           "automargin": true,
           "gridcolor": "white",
           "linecolor": "white",
           "ticks": "",
           "title": {
            "standoff": 15
           },
           "zerolinecolor": "white",
           "zerolinewidth": 2
          },
          "yaxis": {
           "automargin": true,
           "gridcolor": "white",
           "linecolor": "white",
           "ticks": "",
           "title": {
            "standoff": 15
           },
           "zerolinecolor": "white",
           "zerolinewidth": 2
          }
         }
        }
       }
      },
      "text/html": [
       "<div>                            <div id=\"ee92b90b-d843-4aaf-af4a-8822ad37c4af\" class=\"plotly-graph-div\" style=\"height:525px; width:100%;\"></div>            <script type=\"text/javascript\">                require([\"plotly\"], function(Plotly) {                    window.PLOTLYENV=window.PLOTLYENV || {};                                    if (document.getElementById(\"ee92b90b-d843-4aaf-af4a-8822ad37c4af\")) {                    Plotly.newPlot(                        \"ee92b90b-d843-4aaf-af4a-8822ad37c4af\",                        [{\"insidetextorientation\":\"radial\",\"labels\":[\"Guayaquil\",\"Quito\",\"Cuenca\",\"Machala\",\"Zamborondon\",\"Macas\"],\"textinfo\":\"label+percent\",\"values\":[95,71,64,49,50,12],\"type\":\"pie\"}],                        {\"template\":{\"data\":{\"histogram2dcontour\":[{\"type\":\"histogram2dcontour\",\"colorbar\":{\"outlinewidth\":0,\"ticks\":\"\"},\"colorscale\":[[0.0,\"#0d0887\"],[0.1111111111111111,\"#46039f\"],[0.2222222222222222,\"#7201a8\"],[0.3333333333333333,\"#9c179e\"],[0.4444444444444444,\"#bd3786\"],[0.5555555555555556,\"#d8576b\"],[0.6666666666666666,\"#ed7953\"],[0.7777777777777778,\"#fb9f3a\"],[0.8888888888888888,\"#fdca26\"],[1.0,\"#f0f921\"]]}],\"choropleth\":[{\"type\":\"choropleth\",\"colorbar\":{\"outlinewidth\":0,\"ticks\":\"\"}}],\"histogram2d\":[{\"type\":\"histogram2d\",\"colorbar\":{\"outlinewidth\":0,\"ticks\":\"\"},\"colorscale\":[[0.0,\"#0d0887\"],[0.1111111111111111,\"#46039f\"],[0.2222222222222222,\"#7201a8\"],[0.3333333333333333,\"#9c179e\"],[0.4444444444444444,\"#bd3786\"],[0.5555555555555556,\"#d8576b\"],[0.6666666666666666,\"#ed7953\"],[0.7777777777777778,\"#fb9f3a\"],[0.8888888888888888,\"#fdca26\"],[1.0,\"#f0f921\"]]}],\"heatmap\":[{\"type\":\"heatmap\",\"colorbar\":{\"outlinewidth\":0,\"ticks\":\"\"},\"colorscale\":[[0.0,\"#0d0887\"],[0.1111111111111111,\"#46039f\"],[0.2222222222222222,\"#7201a8\"],[0.3333333333333333,\"#9c179e\"],[0.4444444444444444,\"#bd3786\"],[0.5555555555555556,\"#d8576b\"],[0.6666666666666666,\"#ed7953\"],[0.7777777777777778,\"#fb9f3a\"],[0.8888888888888888,\"#fdca26\"],[1.0,\"#f0f921\"]]}],\"heatmapgl\":[{\"type\":\"heatmapgl\",\"colorbar\":{\"outlinewidth\":0,\"ticks\":\"\"},\"colorscale\":[[0.0,\"#0d0887\"],[0.1111111111111111,\"#46039f\"],[0.2222222222222222,\"#7201a8\"],[0.3333333333333333,\"#9c179e\"],[0.4444444444444444,\"#bd3786\"],[0.5555555555555556,\"#d8576b\"],[0.6666666666666666,\"#ed7953\"],[0.7777777777777778,\"#fb9f3a\"],[0.8888888888888888,\"#fdca26\"],[1.0,\"#f0f921\"]]}],\"contourcarpet\":[{\"type\":\"contourcarpet\",\"colorbar\":{\"outlinewidth\":0,\"ticks\":\"\"}}],\"contour\":[{\"type\":\"contour\",\"colorbar\":{\"outlinewidth\":0,\"ticks\":\"\"},\"colorscale\":[[0.0,\"#0d0887\"],[0.1111111111111111,\"#46039f\"],[0.2222222222222222,\"#7201a8\"],[0.3333333333333333,\"#9c179e\"],[0.4444444444444444,\"#bd3786\"],[0.5555555555555556,\"#d8576b\"],[0.6666666666666666,\"#ed7953\"],[0.7777777777777778,\"#fb9f3a\"],[0.8888888888888888,\"#fdca26\"],[1.0,\"#f0f921\"]]}],\"surface\":[{\"type\":\"surface\",\"colorbar\":{\"outlinewidth\":0,\"ticks\":\"\"},\"colorscale\":[[0.0,\"#0d0887\"],[0.1111111111111111,\"#46039f\"],[0.2222222222222222,\"#7201a8\"],[0.3333333333333333,\"#9c179e\"],[0.4444444444444444,\"#bd3786\"],[0.5555555555555556,\"#d8576b\"],[0.6666666666666666,\"#ed7953\"],[0.7777777777777778,\"#fb9f3a\"],[0.8888888888888888,\"#fdca26\"],[1.0,\"#f0f921\"]]}],\"mesh3d\":[{\"type\":\"mesh3d\",\"colorbar\":{\"outlinewidth\":0,\"ticks\":\"\"}}],\"scatter\":[{\"fillpattern\":{\"fillmode\":\"overlay\",\"size\":10,\"solidity\":0.2},\"type\":\"scatter\"}],\"parcoords\":[{\"type\":\"parcoords\",\"line\":{\"colorbar\":{\"outlinewidth\":0,\"ticks\":\"\"}}}],\"scatterpolargl\":[{\"type\":\"scatterpolargl\",\"marker\":{\"colorbar\":{\"outlinewidth\":0,\"ticks\":\"\"}}}],\"bar\":[{\"error_x\":{\"color\":\"#2a3f5f\"},\"error_y\":{\"color\":\"#2a3f5f\"},\"marker\":{\"line\":{\"color\":\"#E5ECF6\",\"width\":0.5},\"pattern\":{\"fillmode\":\"overlay\",\"size\":10,\"solidity\":0.2}},\"type\":\"bar\"}],\"scattergeo\":[{\"type\":\"scattergeo\",\"marker\":{\"colorbar\":{\"outlinewidth\":0,\"ticks\":\"\"}}}],\"scatterpolar\":[{\"type\":\"scatterpolar\",\"marker\":{\"colorbar\":{\"outlinewidth\":0,\"ticks\":\"\"}}}],\"histogram\":[{\"marker\":{\"pattern\":{\"fillmode\":\"overlay\",\"size\":10,\"solidity\":0.2}},\"type\":\"histogram\"}],\"scattergl\":[{\"type\":\"scattergl\",\"marker\":{\"colorbar\":{\"outlinewidth\":0,\"ticks\":\"\"}}}],\"scatter3d\":[{\"type\":\"scatter3d\",\"line\":{\"colorbar\":{\"outlinewidth\":0,\"ticks\":\"\"}},\"marker\":{\"colorbar\":{\"outlinewidth\":0,\"ticks\":\"\"}}}],\"scattermapbox\":[{\"type\":\"scattermapbox\",\"marker\":{\"colorbar\":{\"outlinewidth\":0,\"ticks\":\"\"}}}],\"scatterternary\":[{\"type\":\"scatterternary\",\"marker\":{\"colorbar\":{\"outlinewidth\":0,\"ticks\":\"\"}}}],\"scattercarpet\":[{\"type\":\"scattercarpet\",\"marker\":{\"colorbar\":{\"outlinewidth\":0,\"ticks\":\"\"}}}],\"carpet\":[{\"aaxis\":{\"endlinecolor\":\"#2a3f5f\",\"gridcolor\":\"white\",\"linecolor\":\"white\",\"minorgridcolor\":\"white\",\"startlinecolor\":\"#2a3f5f\"},\"baxis\":{\"endlinecolor\":\"#2a3f5f\",\"gridcolor\":\"white\",\"linecolor\":\"white\",\"minorgridcolor\":\"white\",\"startlinecolor\":\"#2a3f5f\"},\"type\":\"carpet\"}],\"table\":[{\"cells\":{\"fill\":{\"color\":\"#EBF0F8\"},\"line\":{\"color\":\"white\"}},\"header\":{\"fill\":{\"color\":\"#C8D4E3\"},\"line\":{\"color\":\"white\"}},\"type\":\"table\"}],\"barpolar\":[{\"marker\":{\"line\":{\"color\":\"#E5ECF6\",\"width\":0.5},\"pattern\":{\"fillmode\":\"overlay\",\"size\":10,\"solidity\":0.2}},\"type\":\"barpolar\"}],\"pie\":[{\"automargin\":true,\"type\":\"pie\"}]},\"layout\":{\"autotypenumbers\":\"strict\",\"colorway\":[\"#636efa\",\"#EF553B\",\"#00cc96\",\"#ab63fa\",\"#FFA15A\",\"#19d3f3\",\"#FF6692\",\"#B6E880\",\"#FF97FF\",\"#FECB52\"],\"font\":{\"color\":\"#2a3f5f\"},\"hovermode\":\"closest\",\"hoverlabel\":{\"align\":\"left\"},\"paper_bgcolor\":\"white\",\"plot_bgcolor\":\"#E5ECF6\",\"polar\":{\"bgcolor\":\"#E5ECF6\",\"angularaxis\":{\"gridcolor\":\"white\",\"linecolor\":\"white\",\"ticks\":\"\"},\"radialaxis\":{\"gridcolor\":\"white\",\"linecolor\":\"white\",\"ticks\":\"\"}},\"ternary\":{\"bgcolor\":\"#E5ECF6\",\"aaxis\":{\"gridcolor\":\"white\",\"linecolor\":\"white\",\"ticks\":\"\"},\"baxis\":{\"gridcolor\":\"white\",\"linecolor\":\"white\",\"ticks\":\"\"},\"caxis\":{\"gridcolor\":\"white\",\"linecolor\":\"white\",\"ticks\":\"\"}},\"coloraxis\":{\"colorbar\":{\"outlinewidth\":0,\"ticks\":\"\"}},\"colorscale\":{\"sequential\":[[0.0,\"#0d0887\"],[0.1111111111111111,\"#46039f\"],[0.2222222222222222,\"#7201a8\"],[0.3333333333333333,\"#9c179e\"],[0.4444444444444444,\"#bd3786\"],[0.5555555555555556,\"#d8576b\"],[0.6666666666666666,\"#ed7953\"],[0.7777777777777778,\"#fb9f3a\"],[0.8888888888888888,\"#fdca26\"],[1.0,\"#f0f921\"]],\"sequentialminus\":[[0.0,\"#0d0887\"],[0.1111111111111111,\"#46039f\"],[0.2222222222222222,\"#7201a8\"],[0.3333333333333333,\"#9c179e\"],[0.4444444444444444,\"#bd3786\"],[0.5555555555555556,\"#d8576b\"],[0.6666666666666666,\"#ed7953\"],[0.7777777777777778,\"#fb9f3a\"],[0.8888888888888888,\"#fdca26\"],[1.0,\"#f0f921\"]],\"diverging\":[[0,\"#8e0152\"],[0.1,\"#c51b7d\"],[0.2,\"#de77ae\"],[0.3,\"#f1b6da\"],[0.4,\"#fde0ef\"],[0.5,\"#f7f7f7\"],[0.6,\"#e6f5d0\"],[0.7,\"#b8e186\"],[0.8,\"#7fbc41\"],[0.9,\"#4d9221\"],[1,\"#276419\"]]},\"xaxis\":{\"gridcolor\":\"white\",\"linecolor\":\"white\",\"ticks\":\"\",\"title\":{\"standoff\":15},\"zerolinecolor\":\"white\",\"automargin\":true,\"zerolinewidth\":2},\"yaxis\":{\"gridcolor\":\"white\",\"linecolor\":\"white\",\"ticks\":\"\",\"title\":{\"standoff\":15},\"zerolinecolor\":\"white\",\"automargin\":true,\"zerolinewidth\":2},\"scene\":{\"xaxis\":{\"backgroundcolor\":\"#E5ECF6\",\"gridcolor\":\"white\",\"linecolor\":\"white\",\"showbackground\":true,\"ticks\":\"\",\"zerolinecolor\":\"white\",\"gridwidth\":2},\"yaxis\":{\"backgroundcolor\":\"#E5ECF6\",\"gridcolor\":\"white\",\"linecolor\":\"white\",\"showbackground\":true,\"ticks\":\"\",\"zerolinecolor\":\"white\",\"gridwidth\":2},\"zaxis\":{\"backgroundcolor\":\"#E5ECF6\",\"gridcolor\":\"white\",\"linecolor\":\"white\",\"showbackground\":true,\"ticks\":\"\",\"zerolinecolor\":\"white\",\"gridwidth\":2}},\"shapedefaults\":{\"line\":{\"color\":\"#2a3f5f\"}},\"annotationdefaults\":{\"arrowcolor\":\"#2a3f5f\",\"arrowhead\":0,\"arrowwidth\":1},\"geo\":{\"bgcolor\":\"white\",\"landcolor\":\"#E5ECF6\",\"subunitcolor\":\"white\",\"showland\":true,\"showlakes\":true,\"lakecolor\":\"white\"},\"title\":{\"x\":0.05},\"mapbox\":{\"style\":\"light\"}}}},                        {\"responsive\": true}                    ).then(function(){\n",
       "                            \n",
       "var gd = document.getElementById('ee92b90b-d843-4aaf-af4a-8822ad37c4af');\n",
       "var x = new MutationObserver(function (mutations, observer) {{\n",
       "        var display = window.getComputedStyle(gd).display;\n",
       "        if (!display || display === 'none') {{\n",
       "            console.log([gd, 'removed!']);\n",
       "            Plotly.purge(gd);\n",
       "            observer.disconnect();\n",
       "        }}\n",
       "}});\n",
       "\n",
       "// Listen for the removal of the full notebook cells\n",
       "var notebookContainer = gd.closest('#notebook-container');\n",
       "if (notebookContainer) {{\n",
       "    x.observe(notebookContainer, {childList: true});\n",
       "}}\n",
       "\n",
       "// Listen for the clearing of the current output cell\n",
       "var outputEl = gd.closest('.output');\n",
       "if (outputEl) {{\n",
       "    x.observe(outputEl, {childList: true});\n",
       "}}\n",
       "\n",
       "                        })                };                });            </script>        </div>"
      ]
     },
     "metadata": {},
     "output_type": "display_data"
    }
   ],
   "source": [
    "# Lugares mas visitados\n",
    "import plotly.graph_objects as go\n",
    "boleto_destino = [boleto[\"customer\"][\"destination\"] for boleto in turismo.boleteria[\"boletos\"]]\n",
    "dest = [destinantion[\"destination\"] for destinantion in datos_destino]\n",
    "count = [sum(x == destinantion for x in boleto_destino) for destinantion in dest]\n",
    "\n",
    "fig = go.Figure(data=[go.Pie(labels=dest, values=count, textinfo='label+percent', insidetextorientation='radial')])\n",
    "fig.show()"
   ]
  },
  {
   "cell_type": "code",
   "execution_count": 478,
   "id": "84f1e4b9",
   "metadata": {},
   "outputs": [
    {
     "name": "stdout",
     "output_type": "stream",
     "text": [
      "Cantidad de buses ocupados 3\n"
     ]
    },
    {
     "data": {
      "application/vnd.plotly.v1+json": {
       "config": {
        "plotlyServerURL": "https://plot.ly"
       },
       "data": [
        {
         "insidetextorientation": "radial",
         "labels": [
          "-bus 1",
          "-bus 2",
          "-bus 3",
          "-bus 4",
          "-bus 5",
          "-bus 6"
         ],
         "textinfo": "label+percent",
         "type": "pie",
         "values": [
          2,
          0,
          0,
          1,
          0,
          0
         ]
        }
       ],
       "layout": {
        "template": {
         "data": {
          "bar": [
           {
            "error_x": {
             "color": "#2a3f5f"
            },
            "error_y": {
             "color": "#2a3f5f"
            },
            "marker": {
             "line": {
              "color": "#E5ECF6",
              "width": 0.5
             },
             "pattern": {
              "fillmode": "overlay",
              "size": 10,
              "solidity": 0.2
             }
            },
            "type": "bar"
           }
          ],
          "barpolar": [
           {
            "marker": {
             "line": {
              "color": "#E5ECF6",
              "width": 0.5
             },
             "pattern": {
              "fillmode": "overlay",
              "size": 10,
              "solidity": 0.2
             }
            },
            "type": "barpolar"
           }
          ],
          "carpet": [
           {
            "aaxis": {
             "endlinecolor": "#2a3f5f",
             "gridcolor": "white",
             "linecolor": "white",
             "minorgridcolor": "white",
             "startlinecolor": "#2a3f5f"
            },
            "baxis": {
             "endlinecolor": "#2a3f5f",
             "gridcolor": "white",
             "linecolor": "white",
             "minorgridcolor": "white",
             "startlinecolor": "#2a3f5f"
            },
            "type": "carpet"
           }
          ],
          "choropleth": [
           {
            "colorbar": {
             "outlinewidth": 0,
             "ticks": ""
            },
            "type": "choropleth"
           }
          ],
          "contour": [
           {
            "colorbar": {
             "outlinewidth": 0,
             "ticks": ""
            },
            "colorscale": [
             [
              0,
              "#0d0887"
             ],
             [
              0.1111111111111111,
              "#46039f"
             ],
             [
              0.2222222222222222,
              "#7201a8"
             ],
             [
              0.3333333333333333,
              "#9c179e"
             ],
             [
              0.4444444444444444,
              "#bd3786"
             ],
             [
              0.5555555555555556,
              "#d8576b"
             ],
             [
              0.6666666666666666,
              "#ed7953"
             ],
             [
              0.7777777777777778,
              "#fb9f3a"
             ],
             [
              0.8888888888888888,
              "#fdca26"
             ],
             [
              1,
              "#f0f921"
             ]
            ],
            "type": "contour"
           }
          ],
          "contourcarpet": [
           {
            "colorbar": {
             "outlinewidth": 0,
             "ticks": ""
            },
            "type": "contourcarpet"
           }
          ],
          "heatmap": [
           {
            "colorbar": {
             "outlinewidth": 0,
             "ticks": ""
            },
            "colorscale": [
             [
              0,
              "#0d0887"
             ],
             [
              0.1111111111111111,
              "#46039f"
             ],
             [
              0.2222222222222222,
              "#7201a8"
             ],
             [
              0.3333333333333333,
              "#9c179e"
             ],
             [
              0.4444444444444444,
              "#bd3786"
             ],
             [
              0.5555555555555556,
              "#d8576b"
             ],
             [
              0.6666666666666666,
              "#ed7953"
             ],
             [
              0.7777777777777778,
              "#fb9f3a"
             ],
             [
              0.8888888888888888,
              "#fdca26"
             ],
             [
              1,
              "#f0f921"
             ]
            ],
            "type": "heatmap"
           }
          ],
          "heatmapgl": [
           {
            "colorbar": {
             "outlinewidth": 0,
             "ticks": ""
            },
            "colorscale": [
             [
              0,
              "#0d0887"
             ],
             [
              0.1111111111111111,
              "#46039f"
             ],
             [
              0.2222222222222222,
              "#7201a8"
             ],
             [
              0.3333333333333333,
              "#9c179e"
             ],
             [
              0.4444444444444444,
              "#bd3786"
             ],
             [
              0.5555555555555556,
              "#d8576b"
             ],
             [
              0.6666666666666666,
              "#ed7953"
             ],
             [
              0.7777777777777778,
              "#fb9f3a"
             ],
             [
              0.8888888888888888,
              "#fdca26"
             ],
             [
              1,
              "#f0f921"
             ]
            ],
            "type": "heatmapgl"
           }
          ],
          "histogram": [
           {
            "marker": {
             "pattern": {
              "fillmode": "overlay",
              "size": 10,
              "solidity": 0.2
             }
            },
            "type": "histogram"
           }
          ],
          "histogram2d": [
           {
            "colorbar": {
             "outlinewidth": 0,
             "ticks": ""
            },
            "colorscale": [
             [
              0,
              "#0d0887"
             ],
             [
              0.1111111111111111,
              "#46039f"
             ],
             [
              0.2222222222222222,
              "#7201a8"
             ],
             [
              0.3333333333333333,
              "#9c179e"
             ],
             [
              0.4444444444444444,
              "#bd3786"
             ],
             [
              0.5555555555555556,
              "#d8576b"
             ],
             [
              0.6666666666666666,
              "#ed7953"
             ],
             [
              0.7777777777777778,
              "#fb9f3a"
             ],
             [
              0.8888888888888888,
              "#fdca26"
             ],
             [
              1,
              "#f0f921"
             ]
            ],
            "type": "histogram2d"
           }
          ],
          "histogram2dcontour": [
           {
            "colorbar": {
             "outlinewidth": 0,
             "ticks": ""
            },
            "colorscale": [
             [
              0,
              "#0d0887"
             ],
             [
              0.1111111111111111,
              "#46039f"
             ],
             [
              0.2222222222222222,
              "#7201a8"
             ],
             [
              0.3333333333333333,
              "#9c179e"
             ],
             [
              0.4444444444444444,
              "#bd3786"
             ],
             [
              0.5555555555555556,
              "#d8576b"
             ],
             [
              0.6666666666666666,
              "#ed7953"
             ],
             [
              0.7777777777777778,
              "#fb9f3a"
             ],
             [
              0.8888888888888888,
              "#fdca26"
             ],
             [
              1,
              "#f0f921"
             ]
            ],
            "type": "histogram2dcontour"
           }
          ],
          "mesh3d": [
           {
            "colorbar": {
             "outlinewidth": 0,
             "ticks": ""
            },
            "type": "mesh3d"
           }
          ],
          "parcoords": [
           {
            "line": {
             "colorbar": {
              "outlinewidth": 0,
              "ticks": ""
             }
            },
            "type": "parcoords"
           }
          ],
          "pie": [
           {
            "automargin": true,
            "type": "pie"
           }
          ],
          "scatter": [
           {
            "fillpattern": {
             "fillmode": "overlay",
             "size": 10,
             "solidity": 0.2
            },
            "type": "scatter"
           }
          ],
          "scatter3d": [
           {
            "line": {
             "colorbar": {
              "outlinewidth": 0,
              "ticks": ""
             }
            },
            "marker": {
             "colorbar": {
              "outlinewidth": 0,
              "ticks": ""
             }
            },
            "type": "scatter3d"
           }
          ],
          "scattercarpet": [
           {
            "marker": {
             "colorbar": {
              "outlinewidth": 0,
              "ticks": ""
             }
            },
            "type": "scattercarpet"
           }
          ],
          "scattergeo": [
           {
            "marker": {
             "colorbar": {
              "outlinewidth": 0,
              "ticks": ""
             }
            },
            "type": "scattergeo"
           }
          ],
          "scattergl": [
           {
            "marker": {
             "colorbar": {
              "outlinewidth": 0,
              "ticks": ""
             }
            },
            "type": "scattergl"
           }
          ],
          "scattermapbox": [
           {
            "marker": {
             "colorbar": {
              "outlinewidth": 0,
              "ticks": ""
             }
            },
            "type": "scattermapbox"
           }
          ],
          "scatterpolar": [
           {
            "marker": {
             "colorbar": {
              "outlinewidth": 0,
              "ticks": ""
             }
            },
            "type": "scatterpolar"
           }
          ],
          "scatterpolargl": [
           {
            "marker": {
             "colorbar": {
              "outlinewidth": 0,
              "ticks": ""
             }
            },
            "type": "scatterpolargl"
           }
          ],
          "scatterternary": [
           {
            "marker": {
             "colorbar": {
              "outlinewidth": 0,
              "ticks": ""
             }
            },
            "type": "scatterternary"
           }
          ],
          "surface": [
           {
            "colorbar": {
             "outlinewidth": 0,
             "ticks": ""
            },
            "colorscale": [
             [
              0,
              "#0d0887"
             ],
             [
              0.1111111111111111,
              "#46039f"
             ],
             [
              0.2222222222222222,
              "#7201a8"
             ],
             [
              0.3333333333333333,
              "#9c179e"
             ],
             [
              0.4444444444444444,
              "#bd3786"
             ],
             [
              0.5555555555555556,
              "#d8576b"
             ],
             [
              0.6666666666666666,
              "#ed7953"
             ],
             [
              0.7777777777777778,
              "#fb9f3a"
             ],
             [
              0.8888888888888888,
              "#fdca26"
             ],
             [
              1,
              "#f0f921"
             ]
            ],
            "type": "surface"
           }
          ],
          "table": [
           {
            "cells": {
             "fill": {
              "color": "#EBF0F8"
             },
             "line": {
              "color": "white"
             }
            },
            "header": {
             "fill": {
              "color": "#C8D4E3"
             },
             "line": {
              "color": "white"
             }
            },
            "type": "table"
           }
          ]
         },
         "layout": {
          "annotationdefaults": {
           "arrowcolor": "#2a3f5f",
           "arrowhead": 0,
           "arrowwidth": 1
          },
          "autotypenumbers": "strict",
          "coloraxis": {
           "colorbar": {
            "outlinewidth": 0,
            "ticks": ""
           }
          },
          "colorscale": {
           "diverging": [
            [
             0,
             "#8e0152"
            ],
            [
             0.1,
             "#c51b7d"
            ],
            [
             0.2,
             "#de77ae"
            ],
            [
             0.3,
             "#f1b6da"
            ],
            [
             0.4,
             "#fde0ef"
            ],
            [
             0.5,
             "#f7f7f7"
            ],
            [
             0.6,
             "#e6f5d0"
            ],
            [
             0.7,
             "#b8e186"
            ],
            [
             0.8,
             "#7fbc41"
            ],
            [
             0.9,
             "#4d9221"
            ],
            [
             1,
             "#276419"
            ]
           ],
           "sequential": [
            [
             0,
             "#0d0887"
            ],
            [
             0.1111111111111111,
             "#46039f"
            ],
            [
             0.2222222222222222,
             "#7201a8"
            ],
            [
             0.3333333333333333,
             "#9c179e"
            ],
            [
             0.4444444444444444,
             "#bd3786"
            ],
            [
             0.5555555555555556,
             "#d8576b"
            ],
            [
             0.6666666666666666,
             "#ed7953"
            ],
            [
             0.7777777777777778,
             "#fb9f3a"
            ],
            [
             0.8888888888888888,
             "#fdca26"
            ],
            [
             1,
             "#f0f921"
            ]
           ],
           "sequentialminus": [
            [
             0,
             "#0d0887"
            ],
            [
             0.1111111111111111,
             "#46039f"
            ],
            [
             0.2222222222222222,
             "#7201a8"
            ],
            [
             0.3333333333333333,
             "#9c179e"
            ],
            [
             0.4444444444444444,
             "#bd3786"
            ],
            [
             0.5555555555555556,
             "#d8576b"
            ],
            [
             0.6666666666666666,
             "#ed7953"
            ],
            [
             0.7777777777777778,
             "#fb9f3a"
            ],
            [
             0.8888888888888888,
             "#fdca26"
            ],
            [
             1,
             "#f0f921"
            ]
           ]
          },
          "colorway": [
           "#636efa",
           "#EF553B",
           "#00cc96",
           "#ab63fa",
           "#FFA15A",
           "#19d3f3",
           "#FF6692",
           "#B6E880",
           "#FF97FF",
           "#FECB52"
          ],
          "font": {
           "color": "#2a3f5f"
          },
          "geo": {
           "bgcolor": "white",
           "lakecolor": "white",
           "landcolor": "#E5ECF6",
           "showlakes": true,
           "showland": true,
           "subunitcolor": "white"
          },
          "hoverlabel": {
           "align": "left"
          },
          "hovermode": "closest",
          "mapbox": {
           "style": "light"
          },
          "paper_bgcolor": "white",
          "plot_bgcolor": "#E5ECF6",
          "polar": {
           "angularaxis": {
            "gridcolor": "white",
            "linecolor": "white",
            "ticks": ""
           },
           "bgcolor": "#E5ECF6",
           "radialaxis": {
            "gridcolor": "white",
            "linecolor": "white",
            "ticks": ""
           }
          },
          "scene": {
           "xaxis": {
            "backgroundcolor": "#E5ECF6",
            "gridcolor": "white",
            "gridwidth": 2,
            "linecolor": "white",
            "showbackground": true,
            "ticks": "",
            "zerolinecolor": "white"
           },
           "yaxis": {
            "backgroundcolor": "#E5ECF6",
            "gridcolor": "white",
            "gridwidth": 2,
            "linecolor": "white",
            "showbackground": true,
            "ticks": "",
            "zerolinecolor": "white"
           },
           "zaxis": {
            "backgroundcolor": "#E5ECF6",
            "gridcolor": "white",
            "gridwidth": 2,
            "linecolor": "white",
            "showbackground": true,
            "ticks": "",
            "zerolinecolor": "white"
           }
          },
          "shapedefaults": {
           "line": {
            "color": "#2a3f5f"
           }
          },
          "ternary": {
           "aaxis": {
            "gridcolor": "white",
            "linecolor": "white",
            "ticks": ""
           },
           "baxis": {
            "gridcolor": "white",
            "linecolor": "white",
            "ticks": ""
           },
           "bgcolor": "#E5ECF6",
           "caxis": {
            "gridcolor": "white",
            "linecolor": "white",
            "ticks": ""
           }
          },
          "title": {
           "x": 0.05
          },
          "xaxis": {
           "automargin": true,
           "gridcolor": "white",
           "linecolor": "white",
           "ticks": "",
           "title": {
            "standoff": 15
           },
           "zerolinecolor": "white",
           "zerolinewidth": 2
          },
          "yaxis": {
           "automargin": true,
           "gridcolor": "white",
           "linecolor": "white",
           "ticks": "",
           "title": {
            "standoff": 15
           },
           "zerolinecolor": "white",
           "zerolinewidth": 2
          }
         }
        }
       }
      },
      "text/html": [
       "<div>                            <div id=\"875cbc7a-c2ab-4e51-9d3e-6b8ac0960cdd\" class=\"plotly-graph-div\" style=\"height:525px; width:100%;\"></div>            <script type=\"text/javascript\">                require([\"plotly\"], function(Plotly) {                    window.PLOTLYENV=window.PLOTLYENV || {};                                    if (document.getElementById(\"875cbc7a-c2ab-4e51-9d3e-6b8ac0960cdd\")) {                    Plotly.newPlot(                        \"875cbc7a-c2ab-4e51-9d3e-6b8ac0960cdd\",                        [{\"insidetextorientation\":\"radial\",\"labels\":[\"-bus 1\",\"-bus 2\",\"-bus 3\",\"-bus 4\",\"-bus 5\",\"-bus 6\"],\"textinfo\":\"label+percent\",\"values\":[2,0,0,1,0,0],\"type\":\"pie\"}],                        {\"template\":{\"data\":{\"histogram2dcontour\":[{\"type\":\"histogram2dcontour\",\"colorbar\":{\"outlinewidth\":0,\"ticks\":\"\"},\"colorscale\":[[0.0,\"#0d0887\"],[0.1111111111111111,\"#46039f\"],[0.2222222222222222,\"#7201a8\"],[0.3333333333333333,\"#9c179e\"],[0.4444444444444444,\"#bd3786\"],[0.5555555555555556,\"#d8576b\"],[0.6666666666666666,\"#ed7953\"],[0.7777777777777778,\"#fb9f3a\"],[0.8888888888888888,\"#fdca26\"],[1.0,\"#f0f921\"]]}],\"choropleth\":[{\"type\":\"choropleth\",\"colorbar\":{\"outlinewidth\":0,\"ticks\":\"\"}}],\"histogram2d\":[{\"type\":\"histogram2d\",\"colorbar\":{\"outlinewidth\":0,\"ticks\":\"\"},\"colorscale\":[[0.0,\"#0d0887\"],[0.1111111111111111,\"#46039f\"],[0.2222222222222222,\"#7201a8\"],[0.3333333333333333,\"#9c179e\"],[0.4444444444444444,\"#bd3786\"],[0.5555555555555556,\"#d8576b\"],[0.6666666666666666,\"#ed7953\"],[0.7777777777777778,\"#fb9f3a\"],[0.8888888888888888,\"#fdca26\"],[1.0,\"#f0f921\"]]}],\"heatmap\":[{\"type\":\"heatmap\",\"colorbar\":{\"outlinewidth\":0,\"ticks\":\"\"},\"colorscale\":[[0.0,\"#0d0887\"],[0.1111111111111111,\"#46039f\"],[0.2222222222222222,\"#7201a8\"],[0.3333333333333333,\"#9c179e\"],[0.4444444444444444,\"#bd3786\"],[0.5555555555555556,\"#d8576b\"],[0.6666666666666666,\"#ed7953\"],[0.7777777777777778,\"#fb9f3a\"],[0.8888888888888888,\"#fdca26\"],[1.0,\"#f0f921\"]]}],\"heatmapgl\":[{\"type\":\"heatmapgl\",\"colorbar\":{\"outlinewidth\":0,\"ticks\":\"\"},\"colorscale\":[[0.0,\"#0d0887\"],[0.1111111111111111,\"#46039f\"],[0.2222222222222222,\"#7201a8\"],[0.3333333333333333,\"#9c179e\"],[0.4444444444444444,\"#bd3786\"],[0.5555555555555556,\"#d8576b\"],[0.6666666666666666,\"#ed7953\"],[0.7777777777777778,\"#fb9f3a\"],[0.8888888888888888,\"#fdca26\"],[1.0,\"#f0f921\"]]}],\"contourcarpet\":[{\"type\":\"contourcarpet\",\"colorbar\":{\"outlinewidth\":0,\"ticks\":\"\"}}],\"contour\":[{\"type\":\"contour\",\"colorbar\":{\"outlinewidth\":0,\"ticks\":\"\"},\"colorscale\":[[0.0,\"#0d0887\"],[0.1111111111111111,\"#46039f\"],[0.2222222222222222,\"#7201a8\"],[0.3333333333333333,\"#9c179e\"],[0.4444444444444444,\"#bd3786\"],[0.5555555555555556,\"#d8576b\"],[0.6666666666666666,\"#ed7953\"],[0.7777777777777778,\"#fb9f3a\"],[0.8888888888888888,\"#fdca26\"],[1.0,\"#f0f921\"]]}],\"surface\":[{\"type\":\"surface\",\"colorbar\":{\"outlinewidth\":0,\"ticks\":\"\"},\"colorscale\":[[0.0,\"#0d0887\"],[0.1111111111111111,\"#46039f\"],[0.2222222222222222,\"#7201a8\"],[0.3333333333333333,\"#9c179e\"],[0.4444444444444444,\"#bd3786\"],[0.5555555555555556,\"#d8576b\"],[0.6666666666666666,\"#ed7953\"],[0.7777777777777778,\"#fb9f3a\"],[0.8888888888888888,\"#fdca26\"],[1.0,\"#f0f921\"]]}],\"mesh3d\":[{\"type\":\"mesh3d\",\"colorbar\":{\"outlinewidth\":0,\"ticks\":\"\"}}],\"scatter\":[{\"fillpattern\":{\"fillmode\":\"overlay\",\"size\":10,\"solidity\":0.2},\"type\":\"scatter\"}],\"parcoords\":[{\"type\":\"parcoords\",\"line\":{\"colorbar\":{\"outlinewidth\":0,\"ticks\":\"\"}}}],\"scatterpolargl\":[{\"type\":\"scatterpolargl\",\"marker\":{\"colorbar\":{\"outlinewidth\":0,\"ticks\":\"\"}}}],\"bar\":[{\"error_x\":{\"color\":\"#2a3f5f\"},\"error_y\":{\"color\":\"#2a3f5f\"},\"marker\":{\"line\":{\"color\":\"#E5ECF6\",\"width\":0.5},\"pattern\":{\"fillmode\":\"overlay\",\"size\":10,\"solidity\":0.2}},\"type\":\"bar\"}],\"scattergeo\":[{\"type\":\"scattergeo\",\"marker\":{\"colorbar\":{\"outlinewidth\":0,\"ticks\":\"\"}}}],\"scatterpolar\":[{\"type\":\"scatterpolar\",\"marker\":{\"colorbar\":{\"outlinewidth\":0,\"ticks\":\"\"}}}],\"histogram\":[{\"marker\":{\"pattern\":{\"fillmode\":\"overlay\",\"size\":10,\"solidity\":0.2}},\"type\":\"histogram\"}],\"scattergl\":[{\"type\":\"scattergl\",\"marker\":{\"colorbar\":{\"outlinewidth\":0,\"ticks\":\"\"}}}],\"scatter3d\":[{\"type\":\"scatter3d\",\"line\":{\"colorbar\":{\"outlinewidth\":0,\"ticks\":\"\"}},\"marker\":{\"colorbar\":{\"outlinewidth\":0,\"ticks\":\"\"}}}],\"scattermapbox\":[{\"type\":\"scattermapbox\",\"marker\":{\"colorbar\":{\"outlinewidth\":0,\"ticks\":\"\"}}}],\"scatterternary\":[{\"type\":\"scatterternary\",\"marker\":{\"colorbar\":{\"outlinewidth\":0,\"ticks\":\"\"}}}],\"scattercarpet\":[{\"type\":\"scattercarpet\",\"marker\":{\"colorbar\":{\"outlinewidth\":0,\"ticks\":\"\"}}}],\"carpet\":[{\"aaxis\":{\"endlinecolor\":\"#2a3f5f\",\"gridcolor\":\"white\",\"linecolor\":\"white\",\"minorgridcolor\":\"white\",\"startlinecolor\":\"#2a3f5f\"},\"baxis\":{\"endlinecolor\":\"#2a3f5f\",\"gridcolor\":\"white\",\"linecolor\":\"white\",\"minorgridcolor\":\"white\",\"startlinecolor\":\"#2a3f5f\"},\"type\":\"carpet\"}],\"table\":[{\"cells\":{\"fill\":{\"color\":\"#EBF0F8\"},\"line\":{\"color\":\"white\"}},\"header\":{\"fill\":{\"color\":\"#C8D4E3\"},\"line\":{\"color\":\"white\"}},\"type\":\"table\"}],\"barpolar\":[{\"marker\":{\"line\":{\"color\":\"#E5ECF6\",\"width\":0.5},\"pattern\":{\"fillmode\":\"overlay\",\"size\":10,\"solidity\":0.2}},\"type\":\"barpolar\"}],\"pie\":[{\"automargin\":true,\"type\":\"pie\"}]},\"layout\":{\"autotypenumbers\":\"strict\",\"colorway\":[\"#636efa\",\"#EF553B\",\"#00cc96\",\"#ab63fa\",\"#FFA15A\",\"#19d3f3\",\"#FF6692\",\"#B6E880\",\"#FF97FF\",\"#FECB52\"],\"font\":{\"color\":\"#2a3f5f\"},\"hovermode\":\"closest\",\"hoverlabel\":{\"align\":\"left\"},\"paper_bgcolor\":\"white\",\"plot_bgcolor\":\"#E5ECF6\",\"polar\":{\"bgcolor\":\"#E5ECF6\",\"angularaxis\":{\"gridcolor\":\"white\",\"linecolor\":\"white\",\"ticks\":\"\"},\"radialaxis\":{\"gridcolor\":\"white\",\"linecolor\":\"white\",\"ticks\":\"\"}},\"ternary\":{\"bgcolor\":\"#E5ECF6\",\"aaxis\":{\"gridcolor\":\"white\",\"linecolor\":\"white\",\"ticks\":\"\"},\"baxis\":{\"gridcolor\":\"white\",\"linecolor\":\"white\",\"ticks\":\"\"},\"caxis\":{\"gridcolor\":\"white\",\"linecolor\":\"white\",\"ticks\":\"\"}},\"coloraxis\":{\"colorbar\":{\"outlinewidth\":0,\"ticks\":\"\"}},\"colorscale\":{\"sequential\":[[0.0,\"#0d0887\"],[0.1111111111111111,\"#46039f\"],[0.2222222222222222,\"#7201a8\"],[0.3333333333333333,\"#9c179e\"],[0.4444444444444444,\"#bd3786\"],[0.5555555555555556,\"#d8576b\"],[0.6666666666666666,\"#ed7953\"],[0.7777777777777778,\"#fb9f3a\"],[0.8888888888888888,\"#fdca26\"],[1.0,\"#f0f921\"]],\"sequentialminus\":[[0.0,\"#0d0887\"],[0.1111111111111111,\"#46039f\"],[0.2222222222222222,\"#7201a8\"],[0.3333333333333333,\"#9c179e\"],[0.4444444444444444,\"#bd3786\"],[0.5555555555555556,\"#d8576b\"],[0.6666666666666666,\"#ed7953\"],[0.7777777777777778,\"#fb9f3a\"],[0.8888888888888888,\"#fdca26\"],[1.0,\"#f0f921\"]],\"diverging\":[[0,\"#8e0152\"],[0.1,\"#c51b7d\"],[0.2,\"#de77ae\"],[0.3,\"#f1b6da\"],[0.4,\"#fde0ef\"],[0.5,\"#f7f7f7\"],[0.6,\"#e6f5d0\"],[0.7,\"#b8e186\"],[0.8,\"#7fbc41\"],[0.9,\"#4d9221\"],[1,\"#276419\"]]},\"xaxis\":{\"gridcolor\":\"white\",\"linecolor\":\"white\",\"ticks\":\"\",\"title\":{\"standoff\":15},\"zerolinecolor\":\"white\",\"automargin\":true,\"zerolinewidth\":2},\"yaxis\":{\"gridcolor\":\"white\",\"linecolor\":\"white\",\"ticks\":\"\",\"title\":{\"standoff\":15},\"zerolinecolor\":\"white\",\"automargin\":true,\"zerolinewidth\":2},\"scene\":{\"xaxis\":{\"backgroundcolor\":\"#E5ECF6\",\"gridcolor\":\"white\",\"linecolor\":\"white\",\"showbackground\":true,\"ticks\":\"\",\"zerolinecolor\":\"white\",\"gridwidth\":2},\"yaxis\":{\"backgroundcolor\":\"#E5ECF6\",\"gridcolor\":\"white\",\"linecolor\":\"white\",\"showbackground\":true,\"ticks\":\"\",\"zerolinecolor\":\"white\",\"gridwidth\":2},\"zaxis\":{\"backgroundcolor\":\"#E5ECF6\",\"gridcolor\":\"white\",\"linecolor\":\"white\",\"showbackground\":true,\"ticks\":\"\",\"zerolinecolor\":\"white\",\"gridwidth\":2}},\"shapedefaults\":{\"line\":{\"color\":\"#2a3f5f\"}},\"annotationdefaults\":{\"arrowcolor\":\"#2a3f5f\",\"arrowhead\":0,\"arrowwidth\":1},\"geo\":{\"bgcolor\":\"white\",\"landcolor\":\"#E5ECF6\",\"subunitcolor\":\"white\",\"showland\":true,\"showlakes\":true,\"lakecolor\":\"white\"},\"title\":{\"x\":0.05},\"mapbox\":{\"style\":\"light\"}}}},                        {\"responsive\": true}                    ).then(function(){\n",
       "                            \n",
       "var gd = document.getElementById('875cbc7a-c2ab-4e51-9d3e-6b8ac0960cdd');\n",
       "var x = new MutationObserver(function (mutations, observer) {{\n",
       "        var display = window.getComputedStyle(gd).display;\n",
       "        if (!display || display === 'none') {{\n",
       "            console.log([gd, 'removed!']);\n",
       "            Plotly.purge(gd);\n",
       "            observer.disconnect();\n",
       "        }}\n",
       "}});\n",
       "\n",
       "// Listen for the removal of the full notebook cells\n",
       "var notebookContainer = gd.closest('#notebook-container');\n",
       "if (notebookContainer) {{\n",
       "    x.observe(notebookContainer, {childList: true});\n",
       "}}\n",
       "\n",
       "// Listen for the clearing of the current output cell\n",
       "var outputEl = gd.closest('.output');\n",
       "if (outputEl) {{\n",
       "    x.observe(outputEl, {childList: true});\n",
       "}}\n",
       "\n",
       "                        })                };                });            </script>        </div>"
      ]
     },
     "metadata": {},
     "output_type": "display_data"
    }
   ],
   "source": [
    "#Buses mas usados y cantidad ocupados\n",
    "import plotly.graph_objects as go\n",
    "#print(agaencia.vieajes)\n",
    "print(\"Cantidad de buses ocupados\", len(turismo.viajes))\n",
    "\n",
    "buses = [{'name': bus[\"name\"], 'destination': bus[\"destination\"]} for bus in turismo.viajes]\n",
    "data = [{'name': bus[\"name\"], 'destination': bus[\"destination\"]} for bus in data_bus]\n",
    "count = [sum(x == bus for x in buses) for bus in data]\n",
    "fig = go.Figure(data=[go.Pie(labels=[\"-\"+bus[\"name\"] for bus in data], values=count, textinfo='label+percent',\n",
    "                             insidetextorientation='radial'\n",
    "                            )])\n",
    "fig.show()"
   ]
  },
  {
   "cell_type": "code",
   "execution_count": null,
   "id": "bd2c0012",
   "metadata": {},
   "outputs": [],
   "source": []
  }
 ],
 "metadata": {
  "kernelspec": {
   "display_name": "Python 3 (ipykernel)",
   "language": "python",
   "name": "python3"
  },
  "language_info": {
   "codemirror_mode": {
    "name": "ipython",
    "version": 3
   },
   "file_extension": ".py",
   "mimetype": "text/x-python",
   "name": "python",
   "nbconvert_exporter": "python",
   "pygments_lexer": "ipython3",
   "version": "3.9.7"
  }
 },
 "nbformat": 4,
 "nbformat_minor": 5
}
