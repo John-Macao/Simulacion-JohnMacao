{
 "cells": [
  {
   "cell_type": "code",
   "execution_count": 2,
   "id": "fa5ba70e",
   "metadata": {},
   "outputs": [],
   "source": [
    "import simpy\n",
    "import random\n",
    "import matplotlib.pyplot as plt\n",
    "from scipy import stats "
   ]
  },
  {
   "cell_type": "markdown",
   "id": "d83e2166",
   "metadata": {},
   "source": [
    "## Practica.\n",
    "\n",
    "Realizar la planificación y modelado de una simulacion basado en eventos discretos para identificar los contagios dentro de un establecimiento de estudiantes post COVID-19 para el reingreso de clases. Los pasos para el regreso progresivo a clases se describe a continuación:\n",
    "\n",
    "    ▪ Calcular e Identificar el aforo máximo permitido en la institución educativa.\n",
    "    ▪ Identificar el número de estudiantes y el porcentaje de contagio dentro del contexto poblacional el mismo que se aplicara dentro de la simulación por el contagio.\n",
    "    ▪ Generar la simulación desde la puerta de ingreso y la salida del plantel por día.\n",
    "    ▪ Los estudiantes hacen fila para ingresar al establecimiento y no pueden superar el aforo permitido.\n",
    "    ▪ Realizar con un tiempo de un 1 mes.\n",
    "   \n",
    "Generar graficas que indiquen los estudiantes que presentaron complicaciones y el total de estudiantes por establecimiento en cada día o semana.\n",
    "\n",
    "Nota: No tomar datos de transporte, numero de aulas, personal docente, etc. Solo se el ingreso, salida y el contagio dentro del establecimiento."
   ]
  },
  {
   "cell_type": "code",
   "execution_count": 4,
   "id": "8e43d9be",
   "metadata": {},
   "outputs": [
    {
     "name": "stdout",
     "output_type": "stream",
     "text": [
      "{1: 62, 2: 59, 3: 73, 4: 68, 5: 86, 6: 60, 7: 68, 8: 64, 9: 89, 10: 79, 11: 64, 12: 54, 13: 58, 14: 71, 15: 75, 16: 67, 17: 60, 18: 62, 19: 80, 20: 86, 21: 70, 22: 67, 23: 77, 24: 71, 25: 26}\n"
     ]
    }
   ],
   "source": [
    "contagio=0.05\n",
    "aforo=300\n",
    "tiempo = 360 * 30  # 6 horas al dia * 30 dias que es 1 mes\n",
    "dia=1\n",
    "tiempoestadia=0\n",
    "\n",
    "contagiosaldia={}\n",
    "\n",
    "class Escuela(object):\n",
    "    \n",
    "    def __init__(self, environment, aforo):\n",
    "        self.env=environment\n",
    "        self.aforo = simpy.Resource(environment, aforo)\n",
    "\n",
    "    def enclases(self):\n",
    "        \n",
    "        yield self.env.timeout(360)\n",
    "    \n",
    "    \n",
    "def llegada_estudiantes(env, escuela, contagio , dia):\n",
    "    \n",
    "    with escuela.aforo.request() as aforo:\n",
    "        yield aforo\n",
    "        contagiado = 0\n",
    "        yield env.process(escuela.enclases())\n",
    "\n",
    "        if tiempoestadia<=0 and tiempoestadia<60:\n",
    "            bernoulli = stats.bernoulli(contagio)\n",
    "            contagiado=bernoulli.rvs(1)\n",
    "        elif tiempoestadia<=60 and tiempoestadia<120:\n",
    "            contagio=+0.1\n",
    "            bernoulli = stats.bernoulli(contagio)\n",
    "            contagiado=bernoulli.rvs(1)\n",
    "        elif tiempoestadia>=120 and tiempoestadia<180:\n",
    "            contagio=+0.2\n",
    "            bernoulli = stats.bernoulli(contagio)\n",
    "            contagiado=bernoulli.rvs(1)\n",
    "        elif tiempoestadia>=180 and tiempoestadia<240:\n",
    "            contagio=+0.3\n",
    "            bernoulli = stats.bernoulli(contagio)\n",
    "            contagiado=bernoulli.rvs(1)\n",
    "        elif tiempoestadia>=240 and tiempoestadia<300:\n",
    "            contagio=+0.4\n",
    "            bernoulli = stats.bernoulli(contagio)\n",
    "            contagiado=bernoulli.rvs(1)\n",
    "        elif tiempoestadia>=300 and tiempoestadia<360:\n",
    "            contagio=+0.5\n",
    "            bernoulli = stats.bernoulli(contagio)\n",
    "            contagiado=bernoulli.rvs(1)\n",
    "        if contagiado == 1 :\n",
    "            if dia in contagiosaldia.keys():\n",
    "                contagiosaldia[dia]+=1\n",
    "            else:\n",
    "                contagiosaldia[dia]=1\n",
    "\n",
    "\n",
    "def poner_contagios_porDia(lasHoras, PROBABILIDAD_CONTAGIO):\n",
    "    contadorContagios=0\n",
    "    for k in list(lasHoras.keys()):\n",
    "        bernoulli = stats.bernoulli(PROBABILIDAD_CONTAGIO)\n",
    "        contagios=bernoulli.rvs(lasHoras[k])\n",
    "        for c in contagios:\n",
    "            if c == 1:\n",
    "                contadorContagios+=1\n",
    "    return contadorContagios\n",
    "\n",
    "def ejecutar_simulacion(env, aforo):\n",
    "    escuela=Escuela(env, aforo)\n",
    "    global contagiosaldia\n",
    "    global dia\n",
    "    global tiempoestadia\n",
    "    while True:\n",
    "        tiempoestadia+=1\n",
    "        yield env.timeout(1)\n",
    "        env.process(llegada_estudiantes(env, escuela, contagio, dia))\n",
    "        \n",
    "        if tiempoestadia==360:\n",
    "            dia=dia+1\n",
    "            tiempoestadia=0\n",
    "\n",
    "            \n",
    "env=simpy.Environment()\n",
    "env.process(ejecutar_simulacion(env, aforo))\n",
    "env.run(until = tiempo)\n",
    "\n",
    "print(contagiosaldia)"
   ]
  },
  {
   "cell_type": "markdown",
   "id": "13890b56",
   "metadata": {},
   "source": [
    "## Gráfica"
   ]
  },
  {
   "cell_type": "code",
   "execution_count": 5,
   "id": "4be3328c",
   "metadata": {},
   "outputs": [
    {
     "data": {
      "image/png": "[encoded data removed]",
      "text/plain": [
       "<Figure size 432x288 with 1 Axes>"
      ]
     },
     "metadata": {
      "needs_background": "light"
     },
     "output_type": "display_data"
    }
   ],
   "source": [
    "label =  list(contagiosaldia.keys())\n",
    "values = list(contagiosaldia.values())\n",
    "plt.bar(label, values, align=\"center\", color='g')\n",
    "plt.title(\"Contagios por dia\")\n",
    "plt.xlabel(\"Dia\")\n",
    "plt.ylabel(\"Nro. de Contagios\")\n",
    "plt.show()"
   ]
  },
  {
   "cell_type": "code",
   "execution_count": null,
   "id": "7ede1d94",
   "metadata": {},
   "outputs": [],
   "source": []
  }
 ],
 "metadata": {
  "kernelspec": {
   "display_name": "Python 3 (ipykernel)",
   "language": "python",
   "name": "python3"
  },
  "language_info": {
   "codemirror_mode": {
    "name": "ipython",
    "version": 3
   },
   "file_extension": ".py",
   "mimetype": "text/x-python",
   "name": "python",
   "nbconvert_exporter": "python",
   "pygments_lexer": "ipython3",
   "version": "3.9.7"
  }
 },
 "nbformat": 4,
 "nbformat_minor": 5
}
