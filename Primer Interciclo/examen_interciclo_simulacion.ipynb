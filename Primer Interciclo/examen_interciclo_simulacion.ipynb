{
  "nbformat": 4,
  "nbformat_minor": 0,
  "metadata": {
    "colab": {
      "name": "examen interciclo - simulacion.ipynb",
      "provenance": [],
      "authorship_tag": "ABX9TyMYHpYmXjYVzPEE19uhAtGP",
      "include_colab_link": true
    },
    "kernelspec": {
      "name": "python3",
      "display_name": "Python 3"
    },
    "language_info": {
      "name": "python"
    }
  },
  "cells": [
    {
      "cell_type": "markdown",
      "metadata": {
        "id": "view-in-github",
        "colab_type": "text"
      },
      "source": [
        "<a href=\"https://colab.research.google.com/github/John-Macao/Simulacion-JohnMacao/blob/main/examen_interciclo_simulacion.ipynb\" target=\"_parent\"><img src=\"https://colab.research.google.com/assets/colab-badge.svg\" alt=\"Open In Colab\"/></a>"
      ]
    },
    {
      "cell_type": "markdown",
      "source": [
        "**Examen - Simulación**\n",
        "\n",
        "Jon Macao"
      ],
      "metadata": {
        "id": "lsHGhPc9iGy6"
      }
    },
    {
      "cell_type": "code",
      "source": [
        "# Cuadrados medios\n",
        "\n",
        "digitos = 7\n",
        "xn = 74731897457\n",
        "valoresRamdom = []\n",
        "\n",
        "for i in range(100):\n",
        "  xnn = xn**2\n",
        "  txnn = str(xnn).zfill(8)\n",
        "  tam = len(txnn)\n",
        "  ui = int(txnn[int(tam/2-digitos/2):int(tam/2+digitos/2)])\n",
        "  rn = ui / (int('9'*digitos)+1)\n",
        "  xn = ui\n",
        "  valoresRamdom.append(rn)\n",
        "\n",
        "print(\"Valores Generados 1 : \" , valoresRamdom)\n",
        "print(len(valoresRamdom))"
      ],
      "metadata": {
        "colab": {
          "base_uri": "https://localhost:8080/"
        },
        "id": "ebHV8Cl5iGQb",
        "outputId": "84db0425-bcfa-41a9-e1b4-25f14b045aff"
      },
      "execution_count": 170,
      "outputs": [
        {
          "output_type": "stream",
          "name": "stdout",
          "text": [
            "Valores Generados 1 :  [0.4975235, 0.529633, 0.5111146, 0.2381343, 0.0794483, 0.1203237, 0.7779278, 0.171662, 0.6784224, 0.2569528, 0.2474142, 0.1378636, 0.063722, 0.6049328, 0.9436925, 0.5555345, 0.6185806, 0.6419586, 0.1108441, 0.864145, 0.746581, 0.3831895, 0.8341929, 0.8777944, 0.5230086, 0.5379956, 0.4392656, 0.9542673, 0.6260798, 0.9759159, 0.4118438, 0.6153155, 0.6131645, 0.970704, 0.2662556, 0.9204453, 0.2195502, 0.0229032, 0.455657, 0.6233016, 0.5048845, 0.9083583, 0.1148011, 0.7929256, 0.7310071, 0.3713802, 0.9232529, 0.3959173, 0.7505084, 0.2628584, 0.9453845, 0.7518528, 0.2826328, 0.8129963, 0.9629838, 0.337799, 0.1081644, 0.9953742, 0.769798, 0.5889608, 0.8748239, 0.316856, 0.3977247, 0.1849369, 0.0165698, 0.4558272, 0.7784362, 0.9629174, 0.2099192, 0.6607052, 0.5313613, 0.3448311, 0.9084875, 0.3495376, 0.1765338, 0.6418254, 0.939844, 0.3067443, 0.9206558, 0.607102, 0.5728384, 0.1438325, 0.8778805, 0.6741722, 0.5081552, 0.2217072, 0.5408253, 0.4920051, 0.0690184, 0.6353953, 0.7271872, 0.8012238, 0.9595776, 0.7891704, 0.7899202, 0.9739223, 0.5246464, 0.253845, 0.3728402, 0.0098147]\n",
            "100\n"
          ]
        }
      ]
    },
    {
      "cell_type": "code",
      "source": [
        "# Congruencia lineal\n",
        "\n",
        "xo = 7\n",
        "a = 74731897457\n",
        "b = 37747318974\n",
        "m = 19\n",
        "iteraciones = 100\n",
        "\n",
        "valoresRamdom2 = []\n",
        "\n",
        "xn = xo\n",
        "for i in range(iteraciones):\n",
        "  xnn = (a*xn+b) % m\n",
        "  ui = xnn/m\n",
        "  xn = xnn\n",
        "  valoresRamdom2.append(ui)\n",
        "\n",
        "print(\"Valores Generados 2 : \",  valoresRamdom2)\n",
        "print(len(valoresRamdom2))"
      ],
      "metadata": {
        "colab": {
          "base_uri": "https://localhost:8080/"
        },
        "id": "VkDMOZfhiGTc",
        "outputId": "62059c8b-3fb1-4674-9b5e-4c8e965de36c"
      },
      "execution_count": 171,
      "outputs": [
        {
          "output_type": "stream",
          "name": "stdout",
          "text": [
            "Valores Generados 2 :  [0.8947368421052632, 0.8421052631578947, 0.9473684210526315, 0.7368421052631579, 0.15789473684210525, 0.3157894736842105, 0.0, 0.631578947368421, 0.3684210526315789, 0.8947368421052632, 0.8421052631578947, 0.9473684210526315, 0.7368421052631579, 0.15789473684210525, 0.3157894736842105, 0.0, 0.631578947368421, 0.3684210526315789, 0.8947368421052632, 0.8421052631578947, 0.9473684210526315, 0.7368421052631579, 0.15789473684210525, 0.3157894736842105, 0.0, 0.631578947368421, 0.3684210526315789, 0.8947368421052632, 0.8421052631578947, 0.9473684210526315, 0.7368421052631579, 0.15789473684210525, 0.3157894736842105, 0.0, 0.631578947368421, 0.3684210526315789, 0.8947368421052632, 0.8421052631578947, 0.9473684210526315, 0.7368421052631579, 0.15789473684210525, 0.3157894736842105, 0.0, 0.631578947368421, 0.3684210526315789, 0.8947368421052632, 0.8421052631578947, 0.9473684210526315, 0.7368421052631579, 0.15789473684210525, 0.3157894736842105, 0.0, 0.631578947368421, 0.3684210526315789, 0.8947368421052632, 0.8421052631578947, 0.9473684210526315, 0.7368421052631579, 0.15789473684210525, 0.3157894736842105, 0.0, 0.631578947368421, 0.3684210526315789, 0.8947368421052632, 0.8421052631578947, 0.9473684210526315, 0.7368421052631579, 0.15789473684210525, 0.3157894736842105, 0.0, 0.631578947368421, 0.3684210526315789, 0.8947368421052632, 0.8421052631578947, 0.9473684210526315, 0.7368421052631579, 0.15789473684210525, 0.3157894736842105, 0.0, 0.631578947368421, 0.3684210526315789, 0.8947368421052632, 0.8421052631578947, 0.9473684210526315, 0.7368421052631579, 0.15789473684210525, 0.3157894736842105, 0.0, 0.631578947368421, 0.3684210526315789, 0.8947368421052632, 0.8421052631578947, 0.9473684210526315, 0.7368421052631579, 0.15789473684210525, 0.3157894736842105, 0.0, 0.631578947368421, 0.3684210526315789, 0.8947368421052632]\n",
            "100\n"
          ]
        }
      ]
    },
    {
      "cell_type": "code",
      "source": [
        "import random\n",
        "def random_python(N=100):\n",
        "  numeros = []\n",
        "  random.seed(1032022)\n",
        "  [numeros.append(random.random())for i in range(N)]\n",
        "  return numeros\n",
        "\n",
        "valoresRamdom3 = []\n",
        "valoresRamdom3 = random_python()\n",
        "\n",
        "print(\"Valores Generados 3 : \",  valoresRamdom3)\n",
        "print(len(valoresRamdom3))"
      ],
      "metadata": {
        "colab": {
          "base_uri": "https://localhost:8080/"
        },
        "id": "TKETRsuGiGWj",
        "outputId": "46dcf221-c191-4f19-dee0-ffa6371f2d46"
      },
      "execution_count": 172,
      "outputs": [
        {
          "output_type": "stream",
          "name": "stdout",
          "text": [
            "Valores Generados 3 :  [0.6009619083013497, 0.7544824379607146, 0.12043532987383554, 0.2238116361922322, 0.3554416664685648, 0.3649338752279483, 0.17405451171268804, 0.32250705110103095, 0.07365121514270778, 0.22328536228547846, 0.5657683456996286, 0.47192384810364474, 0.4202981677611177, 0.37108436054595506, 0.10650450605448003, 0.3833193199640059, 0.7049825780489426, 0.13690172112654952, 0.5716984080534419, 0.9789396569474001, 0.236780550670054, 0.006725889464470058, 0.5139046449054391, 0.6438650174292219, 0.6777000434949092, 0.18065102285418133, 0.2600319514322885, 0.9990112973850298, 0.7819230179134201, 0.6528163281009259, 0.41158028245500233, 0.3503230957715354, 0.6321520503728941, 0.24128644445389802, 0.15876526910544175, 0.06886725630014012, 0.2203104909550485, 0.0635925351918386, 0.6359586015601617, 0.5954035256577749, 0.6798685267659752, 0.24934012141223982, 0.9701534277917231, 0.5175900365934477, 0.01464956149171004, 0.6278570013514053, 0.6043945007908113, 0.5734521355309034, 0.09193215386527398, 0.3885752568025084, 0.3909804104914554, 0.945658627305166, 0.13011539995676968, 0.6506256093446959, 0.7454756950859892, 0.8342918835115891, 0.2892542969224021, 0.9904729062525761, 0.5220267020050497, 0.4584973094952861, 0.09767653440846813, 0.37267806023837, 0.71644289685708, 0.159200695065717, 0.09577358702053396, 0.549918018722397, 0.9041868896200025, 0.6850750382431942, 0.2001955274458772, 0.8083919048404493, 0.3161948255419441, 0.42123653439319697, 0.5731389441360007, 0.6776554503641572, 0.25347312055783877, 0.04977951434635797, 0.06577601866758842, 0.13836261636902591, 0.5730827129072832, 0.12501985614704625, 0.24218510917433356, 0.3666791329622998, 0.7377455218774518, 0.20541870468384327, 0.2645631680052909, 0.14637340534332044, 0.49109053574685047, 0.5183049190475788, 0.3345750171977261, 0.7485856186324178, 0.7954750084066264, 0.29900407630811343, 0.4972484295923325, 0.8204541836374504, 0.4178880927495301, 0.02400819373489338, 0.628752571840199, 0.8370232490830278, 0.6546392165183474, 0.04217411313955488]\n",
            "100\n"
          ]
        }
      ]
    },
    {
      "cell_type": "code",
      "source": [
        "\n",
        "def tauswoth():\n",
        "    \n",
        "    valoresRamdom4 = []\n",
        "    q=15\n",
        "    h=7\n",
        "    l=7\n",
        "    nBits=700 #700\n",
        "\n",
        "    generador=[]\n",
        "    conversion=[]\n",
        "    conversion2=[]\n",
        "    result=0\n",
        "\n",
        "    vector_l=list(range(l))\n",
        "    vector_l.reverse()\n",
        "\n",
        "    for i in range(1,len(list(range(1,nBits+1)))+1):\n",
        "        if i<=q:\n",
        "            generador.append(1)\n",
        "        else:\n",
        "            aux1=i-(h+1)\n",
        "            aux2=i-(q+1)\n",
        "            generador.append((generador[aux1]+generador[aux2])%2)\n",
        "\n",
        "    for i in range(l,len(generador)+1,l):\n",
        "        fragmento=generador[i-l:i]\n",
        "        for j in range(len(fragmento)):\n",
        "            result+=fragmento[j]*2**vector_l[j]\n",
        "        conversion.append(result)\n",
        "        conversion2.append(result/(2**l))\n",
        "        result=0\n",
        "\n",
        "    df = pd.DataFrame(generador,index=list(range(1,nBits+1)))\n",
        "    valoresRamdom4 = conversion2\n",
        "    \n",
        "    print(len(valoresRamdom4))\n",
        "\n",
        "    return valoresRamdom4\n",
        "  \n",
        "vaa = tauswoth()\n",
        "print(vaa)"
      ],
      "metadata": {
        "colab": {
          "base_uri": "https://localhost:8080/"
        },
        "id": "C6Op-mLdiGY_",
        "outputId": "864e28c8-2c05-4f10-b989-6414cb9c5017"
      },
      "execution_count": 185,
      "outputs": [
        {
          "output_type": "stream",
          "name": "stdout",
          "text": [
            "100\n",
            "[0.9921875, 0.9921875, 0.5, 0.4921875, 0.7421875, 0.5, 0.3671875, 0.6171875, 0.6875, 0.4921875, 0.6484375, 0.59375, 0.2890625, 0.5234375, 0.6328125, 0.375, 0.6875, 0.0, 0.34375, 0.34375, 0.453125, 0.34375, 0.3828125, 0.3046875, 0.4921875, 0.84375, 0.3984375, 0.5390625, 0.71875, 0.484375, 0.625, 0.6171875, 0.8046875, 0.5, 0.3984375, 0.6484375, 0.578125, 0.2734375, 0.546875, 0.6796875, 0.40625, 0.2421875, 0.5390625, 0.578125, 0.3125, 0.6015625, 0.6953125, 0.9921875, 0.1484375, 0.84375, 0.2890625, 0.6484375, 0.5078125, 0.3125, 0.5625, 0.21875, 0.4375, 0.421875, 0.328125, 0.3828125, 0.28125, 0.46875, 0.859375, 0.875, 0.5546875, 0.9921875, 0.71875, 0.2734375, 0.6015625, 0.71875, 0.453125, 0.65625, 0.5703125, 0.7734375, 0.5546875, 0.421875, 0.6640625, 0.109375, 0.28125, 0.7734375, 0.8828125, 0.5, 0.4375, 0.6875, 0.53125, 0.8125, 0.578125, 0.984375, 0.7109375, 0.78125, 0.5703125, 0.4609375, 0.2421875, 0.515625, 0.1015625, 0.84375, 0.828125, 0.21875, 0.3203125, 0.3046875]\n"
          ]
        }
      ]
    },
    {
      "cell_type": "markdown",
      "source": [
        "## **Validacion de las 7 condiciones**"
      ],
      "metadata": {
        "id": "6vXefyouioWb"
      }
    },
    {
      "cell_type": "markdown",
      "source": [
        "### **Cuadrados medios**"
      ],
      "metadata": {
        "id": "fN6F7wVMzZax"
      }
    },
    {
      "cell_type": "code",
      "source": [
        "from decimal import *\n",
        "import numpy as np\n",
        "\n",
        "\n",
        "td = 0\n",
        "par = 0\n",
        "dosPares=0\n",
        "tercia= 0\n",
        "terciaPar = 0\n",
        "poker=0\n",
        "quintilla=0\n",
        "\n",
        "c=0\n",
        "aa=0\n",
        "\n",
        "cadena = \"0123456789\"\n",
        "\n",
        "print(\"valores originales : \",valoresRamdom)\n",
        "print(len(valoresRamdom))\n",
        "\n",
        "#print(valoresRamdom2)\n",
        "\n",
        "c1 = 0\n",
        "c2 =0\n",
        "c3 =0\n",
        "\n",
        "for i in valoresRamdom:\n",
        "  #print(\"contador 1 : \" , c1)\n",
        "  cadenaAux = []\n",
        "  cadenaAux2 = []\n",
        "  \n",
        "  vl = str(i)\n",
        "  valor = vl[:7]\n",
        "  valor = valor.replace(\"0.\", \"MM\")\n",
        "  for j in range(len(cadena)):\n",
        "    aux = valor.count(str(j))\n",
        "    cadenaAux.append(aux)\n",
        "  #print(cadenaAux)\n",
        "  for k in cadenaAux:\n",
        "    if k != 0:\n",
        "      cadenaAux2.append(k)\n",
        "  \n",
        "  c= c+1\n",
        "  if cadenaAux2 == [1,1,1,1,1]:\n",
        "    td = td+1\n",
        "    #print(\"cadenaAux2 : \",  str(c), \"  \", cadenaAux2)\n",
        "  if cadenaAux2 == [1]:\n",
        "    td = td+1\n",
        "  \n",
        "  if cadenaAux2 == [2,1,1,1]:\n",
        "    par = par+1\n",
        "  if cadenaAux2 == [1,2,1,1]:\n",
        "    par = par+1\n",
        "  if cadenaAux2 == [1,1,2,1]:\n",
        "    par = par+1\n",
        "  if cadenaAux2 == [1,1,1,2]:\n",
        "    par = par+1\n",
        "  \n",
        "  if cadenaAux2 == [2,2,1]:\n",
        "    dosPares = dosPares+1\n",
        "  if cadenaAux2 == [2,1,2]:\n",
        "    dosPares = dosPares+1\n",
        "  if cadenaAux2 == [1,2,2]:\n",
        "    dosPares = dosPares+1\n",
        "  \n",
        "  if cadenaAux2 == [3,1,1]:\n",
        "    tercia = tercia+1\n",
        "  if cadenaAux2 == [1,3,1]:\n",
        "    tercia = tercia+1\n",
        "  if cadenaAux2 == [1,1,3]:\n",
        "    tercia = tercia+1\n",
        "\n",
        "  if cadenaAux2 == [3,2]:\n",
        "    terciaPar = terciaPar+1\n",
        "  if cadenaAux2 == [2,3]:\n",
        "    terciaPar = terciaPar+1\n",
        "  \n",
        "  if cadenaAux2 == [4,1]:\n",
        "    poker = poker+1\n",
        "  if cadenaAux2 == [1,4]:\n",
        "    poker = poker+1\n",
        "  \n",
        "  if cadenaAux2 == [5]:\n",
        "    quintilla = quintilla+1\n",
        "\n",
        "  if c == 100:\n",
        "    break\n",
        "\n",
        "print( \"ver valor td : \" , td)\n",
        "print( \"ver valor par : \" , par)\n",
        "print( \"ver valor dosPares : \" , dosPares)\n",
        "print( \"ver valor tercia : \" , tercia)\n",
        "print( \"ver valor terciaPar : \" , terciaPar)\n",
        "print( \"ver valor poker : \" , poker)\n",
        "print( \"ver valor quintilla : \" , quintilla)\n",
        "arrayCategorias = [td, par, dosPares, terciaPar, tercia , poker,  quintilla]\n",
        "print(arrayCategorias)\n"
      ],
      "metadata": {
        "colab": {
          "base_uri": "https://localhost:8080/"
        },
        "id": "K2xN_N_vjV1z",
        "outputId": "24f028c7-81c7-4235-ee7d-64ae0d390ec2"
      },
      "execution_count": 186,
      "outputs": [
        {
          "output_type": "stream",
          "name": "stdout",
          "text": [
            "valores originales :  [0.4975235, 0.529633, 0.5111146, 0.2381343, 0.0794483, 0.1203237, 0.7779278, 0.171662, 0.6784224, 0.2569528, 0.2474142, 0.1378636, 0.063722, 0.6049328, 0.9436925, 0.5555345, 0.6185806, 0.6419586, 0.1108441, 0.864145, 0.746581, 0.3831895, 0.8341929, 0.8777944, 0.5230086, 0.5379956, 0.4392656, 0.9542673, 0.6260798, 0.9759159, 0.4118438, 0.6153155, 0.6131645, 0.970704, 0.2662556, 0.9204453, 0.2195502, 0.0229032, 0.455657, 0.6233016, 0.5048845, 0.9083583, 0.1148011, 0.7929256, 0.7310071, 0.3713802, 0.9232529, 0.3959173, 0.7505084, 0.2628584, 0.9453845, 0.7518528, 0.2826328, 0.8129963, 0.9629838, 0.337799, 0.1081644, 0.9953742, 0.769798, 0.5889608, 0.8748239, 0.316856, 0.3977247, 0.1849369, 0.0165698, 0.4558272, 0.7784362, 0.9629174, 0.2099192, 0.6607052, 0.5313613, 0.3448311, 0.9084875, 0.3495376, 0.1765338, 0.6418254, 0.939844, 0.3067443, 0.9206558, 0.607102, 0.5728384, 0.1438325, 0.8778805, 0.6741722, 0.5081552, 0.2217072, 0.5408253, 0.4920051, 0.0690184, 0.6353953, 0.7271872, 0.8012238, 0.9595776, 0.7891704, 0.7899202, 0.9739223, 0.5246464, 0.253845, 0.3728402, 0.0098147]\n",
            "100\n",
            "ver valor td :  23\n",
            "ver valor par :  57\n",
            "ver valor dosPares :  14\n",
            "ver valor tercia :  3\n",
            "ver valor terciaPar :  1\n",
            "ver valor poker :  2\n",
            "ver valor quintilla :  0\n",
            "[23, 57, 14, 1, 3, 2, 0]\n"
          ]
        }
      ]
    },
    {
      "cell_type": "code",
      "source": [
        "\n",
        "valoresTabla = [0.3024, 0.5040, 0.1080, 0.0090, 0.0720, 0.0045, 0.0001]\n",
        "\n",
        "multi = []\n",
        "nAleatorios = 100\n",
        "\n",
        "for i in valoresTabla:\n",
        "  m = i*nAleatorios\n",
        "  multi.append(m)\n",
        "\n",
        "print(multi)\n",
        "suma =0\n",
        "contador=0\n",
        "arrayEcua = []\n",
        "for j in multi:\n",
        "  ecuacion = (j-arrayCategorias[contador])**2 / j\n",
        "  arrayEcua.append(ecuacion)\n",
        "  contador = contador+1\n",
        "\n",
        "print(arrayEcua)\n",
        "\n",
        "sumaTotal = 0\n",
        "\n",
        "for k in arrayEcua:\n",
        "  sumaTotal = sumaTotal + k\n",
        "\n",
        "print(sumaTotal)\n",
        "print(\"Acepta\")\n",
        "\n"
      ],
      "metadata": {
        "colab": {
          "base_uri": "https://localhost:8080/"
        },
        "id": "IER6umTytbay",
        "outputId": "98b1f2ff-e119-4a0b-819c-dc88c188e18b"
      },
      "execution_count": 187,
      "outputs": [
        {
          "output_type": "stream",
          "name": "stdout",
          "text": [
            "[30.240000000000002, 50.4, 10.8, 0.8999999999999999, 7.199999999999999, 0.44999999999999996, 0.01]\n",
            "[1.7333862433862441, 0.8642857142857147, 0.9481481481481476, 0.011111111111111132, 2.4499999999999993, 5.33888888888889, 0.01]\n",
            "11.355820105820106\n",
            "Acepta\n"
          ]
        }
      ]
    },
    {
      "cell_type": "markdown",
      "source": [
        "### **Congruencia lineal**"
      ],
      "metadata": {
        "id": "EyLszswLzguz"
      }
    },
    {
      "cell_type": "code",
      "source": [
        "from decimal import *\n",
        "import numpy as np\n",
        "\n",
        "\n",
        "td = 0\n",
        "par = 0\n",
        "dosPares=0\n",
        "tercia= 0\n",
        "terciaPar = 0\n",
        "poker=0\n",
        "quintilla=0\n",
        "\n",
        "c=0\n",
        "aa=0\n",
        "\n",
        "cadena = \"0123456789\"\n",
        "\n",
        "print(\"valores originales : \",valoresRamdom2)\n",
        "print(len(valoresRamdom2))\n",
        "\n",
        "#print(valoresRamdom2)\n",
        "\n",
        "c1 = 0\n",
        "c2 =0\n",
        "c3 =0\n",
        "\n",
        "for i in valoresRamdom2:\n",
        "  #print(\"contador 1 : \" , c1)\n",
        "  cadenaAux = []\n",
        "  cadenaAux2 = []\n",
        "  \n",
        "  vl = str(i)\n",
        "  valor = vl[:7]\n",
        "  valor = valor.replace(\"0.\", \"MM\")\n",
        "  for j in range(len(cadena)):\n",
        "    aux = valor.count(str(j))\n",
        "    cadenaAux.append(aux)\n",
        "  #print(cadenaAux)\n",
        "  for k in cadenaAux:\n",
        "    if k != 0:\n",
        "      cadenaAux2.append(k)\n",
        "  \n",
        "  c= c+1\n",
        "  if cadenaAux2 == [1,1,1,1,1]:\n",
        "    td = td+1\n",
        "    #print(\"cadenaAux2 : \",  str(c), \"  \", cadenaAux2)\n",
        "  if cadenaAux2 == [1]:\n",
        "    td = td+1\n",
        "  \n",
        "  if cadenaAux2 == [2,1,1,1]:\n",
        "    par = par+1\n",
        "  if cadenaAux2 == [1,2,1,1]:\n",
        "    par = par+1\n",
        "  if cadenaAux2 == [1,1,2,1]:\n",
        "    par = par+1\n",
        "  if cadenaAux2 == [1,1,1,2]:\n",
        "    par = par+1\n",
        "  \n",
        "  if cadenaAux2 == [2,2,1]:\n",
        "    dosPares = dosPares+1\n",
        "  if cadenaAux2 == [2,1,2]:\n",
        "    dosPares = dosPares+1\n",
        "  if cadenaAux2 == [1,2,2]:\n",
        "    dosPares = dosPares+1\n",
        "  \n",
        "  if cadenaAux2 == [3,1,1]:\n",
        "    tercia = tercia+1\n",
        "  if cadenaAux2 == [1,3,1]:\n",
        "    tercia = tercia+1\n",
        "  if cadenaAux2 == [1,1,3]:\n",
        "    tercia = tercia+1\n",
        "\n",
        "  if cadenaAux2 == [3,2]:\n",
        "    terciaPar = terciaPar+1\n",
        "  if cadenaAux2 == [2,3]:\n",
        "    terciaPar = terciaPar+1\n",
        "  \n",
        "  if cadenaAux2 == [4,1]:\n",
        "    poker = poker+1\n",
        "  if cadenaAux2 == [1,4]:\n",
        "    poker = poker+1\n",
        "  \n",
        "  if cadenaAux2 == [5]:\n",
        "    quintilla = quintilla+1\n",
        "\n",
        "  if c == 100:\n",
        "    break\n",
        "\n",
        "print( \"ver valor td : \" , td)\n",
        "print( \"ver valor par : \" , par)\n",
        "print( \"ver valor dosPares : \" , dosPares)\n",
        "print( \"ver valor tercia : \" , tercia)\n",
        "print( \"ver valor terciaPar : \" , terciaPar)\n",
        "print( \"ver valor poker : \" , poker)\n",
        "print( \"ver valor quintilla : \" , quintilla)\n",
        "arrayCategorias2 = [td, par, dosPares, terciaPar, tercia , poker,  quintilla]\n",
        "print(arrayCategorias2)"
      ],
      "metadata": {
        "colab": {
          "base_uri": "https://localhost:8080/"
        },
        "id": "GQ94L1Puyyl5",
        "outputId": "01c0e8d4-8b1f-4071-807c-d11e68b2472a"
      },
      "execution_count": 188,
      "outputs": [
        {
          "output_type": "stream",
          "name": "stdout",
          "text": [
            "valores originales :  [0.8947368421052632, 0.8421052631578947, 0.9473684210526315, 0.7368421052631579, 0.15789473684210525, 0.3157894736842105, 0.0, 0.631578947368421, 0.3684210526315789, 0.8947368421052632, 0.8421052631578947, 0.9473684210526315, 0.7368421052631579, 0.15789473684210525, 0.3157894736842105, 0.0, 0.631578947368421, 0.3684210526315789, 0.8947368421052632, 0.8421052631578947, 0.9473684210526315, 0.7368421052631579, 0.15789473684210525, 0.3157894736842105, 0.0, 0.631578947368421, 0.3684210526315789, 0.8947368421052632, 0.8421052631578947, 0.9473684210526315, 0.7368421052631579, 0.15789473684210525, 0.3157894736842105, 0.0, 0.631578947368421, 0.3684210526315789, 0.8947368421052632, 0.8421052631578947, 0.9473684210526315, 0.7368421052631579, 0.15789473684210525, 0.3157894736842105, 0.0, 0.631578947368421, 0.3684210526315789, 0.8947368421052632, 0.8421052631578947, 0.9473684210526315, 0.7368421052631579, 0.15789473684210525, 0.3157894736842105, 0.0, 0.631578947368421, 0.3684210526315789, 0.8947368421052632, 0.8421052631578947, 0.9473684210526315, 0.7368421052631579, 0.15789473684210525, 0.3157894736842105, 0.0, 0.631578947368421, 0.3684210526315789, 0.8947368421052632, 0.8421052631578947, 0.9473684210526315, 0.7368421052631579, 0.15789473684210525, 0.3157894736842105, 0.0, 0.631578947368421, 0.3684210526315789, 0.8947368421052632, 0.8421052631578947, 0.9473684210526315, 0.7368421052631579, 0.15789473684210525, 0.3157894736842105, 0.0, 0.631578947368421, 0.3684210526315789, 0.8947368421052632, 0.8421052631578947, 0.9473684210526315, 0.7368421052631579, 0.15789473684210525, 0.3157894736842105, 0.0, 0.631578947368421, 0.3684210526315789, 0.8947368421052632, 0.8421052631578947, 0.9473684210526315, 0.7368421052631579, 0.15789473684210525, 0.3157894736842105, 0.0, 0.631578947368421, 0.3684210526315789, 0.8947368421052632]\n",
            "100\n",
            "ver valor td :  100\n",
            "ver valor par :  0\n",
            "ver valor dosPares :  0\n",
            "ver valor tercia :  0\n",
            "ver valor terciaPar :  0\n",
            "ver valor poker :  0\n",
            "ver valor quintilla :  0\n",
            "[100, 0, 0, 0, 0, 0, 0]\n"
          ]
        }
      ]
    },
    {
      "cell_type": "code",
      "source": [
        "\n",
        "valoresTabla = [0.3024, 0.5040, 0.1080, 0.0090, 0.0720, 0.0045, 0.0001]\n",
        "\n",
        "multi = []\n",
        "nAleatorios = 100\n",
        "\n",
        "for i in valoresTabla:\n",
        "  m = i*nAleatorios\n",
        "  multi.append(m)\n",
        "\n",
        "print(multi)\n",
        "suma =0\n",
        "contador=0\n",
        "arrayEcua = []\n",
        "for j in multi:\n",
        "  ecuacion = (j-arrayCategorias2[contador])**2 / j\n",
        "  arrayEcua.append(ecuacion)\n",
        "  contador = contador+1\n",
        "\n",
        "print(arrayEcua)\n",
        "\n",
        "sumaTotal = 0\n",
        "\n",
        "for k in arrayEcua:\n",
        "  sumaTotal = sumaTotal + k\n",
        "\n",
        "print(sumaTotal)\n",
        "print(\"No se acepta\")\n"
      ],
      "metadata": {
        "colab": {
          "base_uri": "https://localhost:8080/"
        },
        "id": "smQPxJnLzuFu",
        "outputId": "278b97b5-e4eb-43ad-81fc-6aa87c9e6516"
      },
      "execution_count": 189,
      "outputs": [
        {
          "output_type": "stream",
          "name": "stdout",
          "text": [
            "[30.240000000000002, 50.4, 10.8, 0.8999999999999999, 7.199999999999999, 0.44999999999999996, 0.01]\n",
            "[160.92783068783064, 50.4, 10.8, 0.8999999999999999, 7.199999999999999, 0.44999999999999996, 0.01]\n",
            "230.68783068783063\n",
            "No se acepta\n"
          ]
        }
      ]
    },
    {
      "cell_type": "markdown",
      "source": [
        "### **Random**"
      ],
      "metadata": {
        "id": "acIyhb6Yzupx"
      }
    },
    {
      "cell_type": "code",
      "source": [
        "from decimal import *\n",
        "import numpy as np\n",
        "\n",
        "\n",
        "td = 0\n",
        "par = 0\n",
        "dosPares=0\n",
        "tercia= 0\n",
        "terciaPar = 0\n",
        "poker=0\n",
        "quintilla=0\n",
        "\n",
        "c=0\n",
        "aa=0\n",
        "\n",
        "cadena = \"0123456789\"\n",
        "\n",
        "print(\"valores originales : \",valoresRamdom3)\n",
        "print(len(valoresRamdom3))\n",
        "\n",
        "#print(valoresRamdom2)\n",
        "\n",
        "c1 = 0\n",
        "c2 =0\n",
        "c3 =0\n",
        "\n",
        "for i in valoresRamdom3:\n",
        "  #print(\"contador 1 : \" , c1)\n",
        "  cadenaAux = []\n",
        "  cadenaAux2 = []\n",
        "  \n",
        "  vl = str(i)\n",
        "  valor = vl[:7]\n",
        "  valor = valor.replace(\"0.\", \"MM\")\n",
        "  for j in range(len(cadena)):\n",
        "    aux = valor.count(str(j))\n",
        "    cadenaAux.append(aux)\n",
        "  #print(cadenaAux)\n",
        "  for k in cadenaAux:\n",
        "    if k != 0:\n",
        "      cadenaAux2.append(k)\n",
        "  \n",
        "  c= c+1\n",
        "  if cadenaAux2 == [1,1,1,1,1]:\n",
        "    td = td+1\n",
        "    #print(\"cadenaAux2 : \",  str(c), \"  \", cadenaAux2)\n",
        "  if cadenaAux2 == [1]:\n",
        "    td = td+1\n",
        "  \n",
        "  if cadenaAux2 == [2,1,1,1]:\n",
        "    par = par+1\n",
        "  if cadenaAux2 == [1,2,1,1]:\n",
        "    par = par+1\n",
        "  if cadenaAux2 == [1,1,2,1]:\n",
        "    par = par+1\n",
        "  if cadenaAux2 == [1,1,1,2]:\n",
        "    par = par+1\n",
        "  \n",
        "  if cadenaAux2 == [2,2,1]:\n",
        "    dosPares = dosPares+1\n",
        "  if cadenaAux2 == [2,1,2]:\n",
        "    dosPares = dosPares+1\n",
        "  if cadenaAux2 == [1,2,2]:\n",
        "    dosPares = dosPares+1\n",
        "  \n",
        "  if cadenaAux2 == [3,1,1]:\n",
        "    tercia = tercia+1\n",
        "  if cadenaAux2 == [1,3,1]:\n",
        "    tercia = tercia+1\n",
        "  if cadenaAux2 == [1,1,3]:\n",
        "    tercia = tercia+1\n",
        "\n",
        "  if cadenaAux2 == [3,2]:\n",
        "    terciaPar = terciaPar+1\n",
        "  if cadenaAux2 == [2,3]:\n",
        "    terciaPar = terciaPar+1\n",
        "  \n",
        "  if cadenaAux2 == [4,1]:\n",
        "    poker = poker+1\n",
        "  if cadenaAux2 == [1,4]:\n",
        "    poker = poker+1\n",
        "  \n",
        "  if cadenaAux2 == [5]:\n",
        "    quintilla = quintilla+1\n",
        "\n",
        "  if c == 100:\n",
        "    break\n",
        "\n",
        "print( \"ver valor td : \" , td)\n",
        "print( \"ver valor par : \" , par)\n",
        "print( \"ver valor dosPares : \" , dosPares)\n",
        "print( \"ver valor tercia : \" , tercia)\n",
        "print( \"ver valor terciaPar : \" , terciaPar)\n",
        "print( \"ver valor poker : \" , poker)\n",
        "print( \"ver valor quintilla : \" , quintilla)\n",
        "arrayCategorias3 = [td, par, dosPares, terciaPar, tercia , poker,  quintilla]\n",
        "print(arrayCategorias3)"
      ],
      "metadata": {
        "colab": {
          "base_uri": "https://localhost:8080/"
        },
        "id": "uE9WM2Xl0HRn",
        "outputId": "2e657046-2517-4ca6-d07f-65d2dc9ec6aa"
      },
      "execution_count": 190,
      "outputs": [
        {
          "output_type": "stream",
          "name": "stdout",
          "text": [
            "valores originales :  [0.6009619083013497, 0.7544824379607146, 0.12043532987383554, 0.2238116361922322, 0.3554416664685648, 0.3649338752279483, 0.17405451171268804, 0.32250705110103095, 0.07365121514270778, 0.22328536228547846, 0.5657683456996286, 0.47192384810364474, 0.4202981677611177, 0.37108436054595506, 0.10650450605448003, 0.3833193199640059, 0.7049825780489426, 0.13690172112654952, 0.5716984080534419, 0.9789396569474001, 0.236780550670054, 0.006725889464470058, 0.5139046449054391, 0.6438650174292219, 0.6777000434949092, 0.18065102285418133, 0.2600319514322885, 0.9990112973850298, 0.7819230179134201, 0.6528163281009259, 0.41158028245500233, 0.3503230957715354, 0.6321520503728941, 0.24128644445389802, 0.15876526910544175, 0.06886725630014012, 0.2203104909550485, 0.0635925351918386, 0.6359586015601617, 0.5954035256577749, 0.6798685267659752, 0.24934012141223982, 0.9701534277917231, 0.5175900365934477, 0.01464956149171004, 0.6278570013514053, 0.6043945007908113, 0.5734521355309034, 0.09193215386527398, 0.3885752568025084, 0.3909804104914554, 0.945658627305166, 0.13011539995676968, 0.6506256093446959, 0.7454756950859892, 0.8342918835115891, 0.2892542969224021, 0.9904729062525761, 0.5220267020050497, 0.4584973094952861, 0.09767653440846813, 0.37267806023837, 0.71644289685708, 0.159200695065717, 0.09577358702053396, 0.549918018722397, 0.9041868896200025, 0.6850750382431942, 0.2001955274458772, 0.8083919048404493, 0.3161948255419441, 0.42123653439319697, 0.5731389441360007, 0.6776554503641572, 0.25347312055783877, 0.04977951434635797, 0.06577601866758842, 0.13836261636902591, 0.5730827129072832, 0.12501985614704625, 0.24218510917433356, 0.3666791329622998, 0.7377455218774518, 0.20541870468384327, 0.2645631680052909, 0.14637340534332044, 0.49109053574685047, 0.5183049190475788, 0.3345750171977261, 0.7485856186324178, 0.7954750084066264, 0.29900407630811343, 0.4972484295923325, 0.8204541836374504, 0.4178880927495301, 0.02400819373489338, 0.628752571840199, 0.8370232490830278, 0.6546392165183474, 0.04217411313955488]\n",
            "100\n",
            "ver valor td :  32\n",
            "ver valor par :  52\n",
            "ver valor dosPares :  7\n",
            "ver valor tercia :  9\n",
            "ver valor terciaPar :  0\n",
            "ver valor poker :  0\n",
            "ver valor quintilla :  0\n",
            "[32, 52, 7, 0, 9, 0, 0]\n"
          ]
        }
      ]
    },
    {
      "cell_type": "code",
      "source": [
        "\n",
        "valoresTabla = [0.3024, 0.5040, 0.1080, 0.0090, 0.0720, 0.0045, 0.0001]\n",
        "\n",
        "multi = []\n",
        "nAleatorios = 100\n",
        "\n",
        "for i in valoresTabla:\n",
        "  m = i*nAleatorios\n",
        "  multi.append(m)\n",
        "\n",
        "print(multi)\n",
        "suma =0\n",
        "contador=0\n",
        "arrayEcua = []\n",
        "for j in multi:\n",
        "  ecuacion = (j-arrayCategorias3[contador])**2 / j\n",
        "  arrayEcua.append(ecuacion)\n",
        "  contador = contador+1\n",
        "\n",
        "print(arrayEcua)\n",
        "\n",
        "sumaTotal = 0\n",
        "\n",
        "for k in arrayEcua:\n",
        "  sumaTotal = sumaTotal + k\n",
        "\n",
        "print(sumaTotal)\n",
        "print(\"Acepta\")"
      ],
      "metadata": {
        "colab": {
          "base_uri": "https://localhost:8080/"
        },
        "id": "ia8gWvO80kmV",
        "outputId": "2a569a95-cc23-4848-e685-8a77a80a8015"
      },
      "execution_count": 191,
      "outputs": [
        {
          "output_type": "stream",
          "name": "stdout",
          "text": [
            "[30.240000000000002, 50.4, 10.8, 0.8999999999999999, 7.199999999999999, 0.44999999999999996, 0.01]\n",
            "[0.10243386243386218, 0.050793650793650884, 1.3370370370370375, 0.8999999999999999, 0.4500000000000004, 0.44999999999999996, 0.01]\n",
            "3.3002645502645507\n",
            "Acepta\n"
          ]
        }
      ]
    },
    {
      "cell_type": "markdown",
      "source": [
        "### **Tauswoth **"
      ],
      "metadata": {
        "id": "yXy7BXmU1DoK"
      }
    },
    {
      "cell_type": "code",
      "source": [
        "from decimal import *\n",
        "import numpy as np\n",
        "\n",
        "\n",
        "td = 0\n",
        "par = 0\n",
        "dosPares=0\n",
        "tercia= 0\n",
        "terciaPar = 0\n",
        "poker=0\n",
        "quintilla=0\n",
        "\n",
        "c=0\n",
        "aa=0\n",
        "\n",
        "cadena = \"0123456789\"\n",
        "\n",
        "#print(\"valores originales : \",valoresRamdom4)\n",
        "#print(len(valoresRamdom4))\n",
        "\n",
        "#print(valoresRamdom2)\n",
        "\n",
        "c1 = 0\n",
        "c2 =0\n",
        "c3 =0\n",
        "valoresRamdom4 = tauswoth()\n",
        "\n",
        "for i in valoresRamdom4:\n",
        "  #print(\"contador 1 : \" , c1)\n",
        "  cadenaAux = []\n",
        "  cadenaAux2 = []\n",
        "  \n",
        "  vl = str(i)\n",
        "  valor = vl[:7]\n",
        "  valor = valor.replace(\"0.\", \"MM\")\n",
        "  for j in range(len(cadena)):\n",
        "    aux = valor.count(str(j))\n",
        "    cadenaAux.append(aux)\n",
        "  #print(cadenaAux)\n",
        "  for k in cadenaAux:\n",
        "    if k != 0:\n",
        "      cadenaAux2.append(k)\n",
        "  \n",
        "  c= c+1\n",
        "  if cadenaAux2 == [1,1,1,1,1]:\n",
        "    td = td+1\n",
        "    #print(\"cadenaAux2 : \",  str(c), \"  \", cadenaAux2)\n",
        "  if cadenaAux2 == [1]:\n",
        "    td = td+1\n",
        "  \n",
        "  if cadenaAux2 == [2,1,1,1]:\n",
        "    par = par+1\n",
        "  if cadenaAux2 == [1,2,1,1]:\n",
        "    par = par+1\n",
        "  if cadenaAux2 == [1,1,2,1]:\n",
        "    par = par+1\n",
        "  if cadenaAux2 == [1,1,1,2]:\n",
        "    par = par+1\n",
        "  \n",
        "  if cadenaAux2 == [2,2,1]:\n",
        "    dosPares = dosPares+1\n",
        "  if cadenaAux2 == [2,1,2]:\n",
        "    dosPares = dosPares+1\n",
        "  if cadenaAux2 == [1,2,2]:\n",
        "    dosPares = dosPares+1\n",
        "  \n",
        "  if cadenaAux2 == [3,1,1]:\n",
        "    tercia = tercia+1\n",
        "  if cadenaAux2 == [1,3,1]:\n",
        "    tercia = tercia+1\n",
        "  if cadenaAux2 == [1,1,3]:\n",
        "    tercia = tercia+1\n",
        "\n",
        "  if cadenaAux2 == [3,2]:\n",
        "    terciaPar = terciaPar+1\n",
        "  if cadenaAux2 == [2,3]:\n",
        "    terciaPar = terciaPar+1\n",
        "  \n",
        "  if cadenaAux2 == [4,1]:\n",
        "    poker = poker+1\n",
        "  if cadenaAux2 == [1,4]:\n",
        "    poker = poker+1\n",
        "  \n",
        "  if cadenaAux2 == [5]:\n",
        "    quintilla = quintilla+1\n",
        "\n",
        "  if c == 100:\n",
        "    break\n",
        "\n",
        "print( \"ver valor td : \" , td)\n",
        "print( \"ver valor par : \" , par)\n",
        "print( \"ver valor dosPares : \" , dosPares)\n",
        "print( \"ver valor tercia : \" , tercia)\n",
        "print( \"ver valor terciaPar : \" , terciaPar)\n",
        "print( \"ver valor poker : \" , poker)\n",
        "print( \"ver valor quintilla : \" , quintilla)\n",
        "arrayCategorias4 = [td, par, dosPares, terciaPar, tercia , poker,  quintilla]\n",
        "print(arrayCategorias4)"
      ],
      "metadata": {
        "colab": {
          "base_uri": "https://localhost:8080/"
        },
        "id": "yPqbVq6D1DEo",
        "outputId": "0f2636ec-7732-44be-c197-341f9b9477c1"
      },
      "execution_count": 192,
      "outputs": [
        {
          "output_type": "stream",
          "name": "stdout",
          "text": [
            "100\n",
            "ver valor td :  42\n",
            "ver valor par :  40\n",
            "ver valor dosPares :  4\n",
            "ver valor tercia :  2\n",
            "ver valor terciaPar :  0\n",
            "ver valor poker :  0\n",
            "ver valor quintilla :  0\n",
            "[42, 40, 4, 0, 2, 0, 0]\n"
          ]
        }
      ]
    },
    {
      "cell_type": "code",
      "source": [
        "valoresTabla = [0.3024, 0.5040, 0.1080, 0.0090, 0.0720, 0.0045, 0.0001]\n",
        "\n",
        "multi = []\n",
        "nAleatorios = 100\n",
        "\n",
        "for i in valoresTabla:\n",
        "  m = i*nAleatorios\n",
        "  multi.append(m)\n",
        "\n",
        "print(multi)\n",
        "suma =0\n",
        "contador=0\n",
        "arrayEcua = []\n",
        "for j in multi:\n",
        "  ecuacion = (j-arrayCategorias4[contador])**2 / j\n",
        "  arrayEcua.append(ecuacion)\n",
        "  contador = contador+1\n",
        "\n",
        "print(arrayEcua)\n",
        "\n",
        "sumaTotal = 0\n",
        "\n",
        "for k in arrayEcua:\n",
        "  sumaTotal = sumaTotal + k\n",
        "\n",
        "print(sumaTotal)\n",
        "print(\"No se acepta\")"
      ],
      "metadata": {
        "colab": {
          "base_uri": "https://localhost:8080/"
        },
        "id": "ab-2jiRW3MoQ",
        "outputId": "5b63af5a-f409-499a-ced7-b1616ae5b0f3"
      },
      "execution_count": 193,
      "outputs": [
        {
          "output_type": "stream",
          "name": "stdout",
          "text": [
            "[30.240000000000002, 50.4, 10.8, 0.8999999999999999, 7.199999999999999, 0.44999999999999996, 0.01]\n",
            "[4.5733333333333315, 2.1460317460317455, 4.281481481481482, 0.8999999999999999, 3.7555555555555546, 0.44999999999999996, 0.01]\n",
            "16.116402116402114\n",
            "No se acepta\n"
          ]
        }
      ]
    }
  ]
}