{
 "cells": [
  {
   "cell_type": "code",
   "execution_count": 1,
   "id": "69c7fe94",
   "metadata": {},
   "outputs": [],
   "source": [
    "#librerias\n",
    "import matplotlib.pyplot as plt\n",
    "import numpy as np\n",
    "from scipy.stats import pearsonr, linregress\n",
    "from matplotlib.pyplot import figure\n",
    "import os \n",
    "import math\n",
    "import scipy.stats as st"
   ]
  },
  {
   "cell_type": "markdown",
   "id": "b4ae71db",
   "metadata": {},
   "source": [
    "# **Covarianza**\n",
    "\n",
    "### **Ejercicio 1**\n",
    "\n",
    "Dado el conjunto de datos Forest-Fires-Data (AVAC), realice el cálculo de la covarianza empleando Excel o Python. Deberá considerar las variables: viento (wind) y humedad relativa (rH). \n",
    "La descripción del archivo se encuentra en:  Forest-Fires-Description\n"
   ]
  },
  {
   "cell_type": "code",
   "execution_count": 50,
   "id": "4fc40f31",
   "metadata": {},
   "outputs": [
    {
     "data": {
      "text/html": [
       "<div>\n",
       "<style scoped>\n",
       "    .dataframe tbody tr th:only-of-type {\n",
       "        vertical-align: middle;\n",
       "    }\n",
       "\n",
       "    .dataframe tbody tr th {\n",
       "        vertical-align: top;\n",
       "    }\n",
       "\n",
       "    .dataframe thead th {\n",
       "        text-align: right;\n",
       "    }\n",
       "</style>\n",
       "<table border=\"1\" class=\"dataframe\">\n",
       "  <thead>\n",
       "    <tr style=\"text-align: right;\">\n",
       "      <th></th>\n",
       "      <th>X</th>\n",
       "      <th>Y</th>\n",
       "      <th>month</th>\n",
       "      <th>day</th>\n",
       "      <th>FFMC</th>\n",
       "      <th>DMC</th>\n",
       "      <th>DC</th>\n",
       "      <th>ISI</th>\n",
       "      <th>temp</th>\n",
       "      <th>RH</th>\n",
       "      <th>wind</th>\n",
       "      <th>rain</th>\n",
       "      <th>area</th>\n",
       "    </tr>\n",
       "  </thead>\n",
       "  <tbody>\n",
       "    <tr>\n",
       "      <th>0</th>\n",
       "      <td>7</td>\n",
       "      <td>5</td>\n",
       "      <td>mar</td>\n",
       "      <td>fri</td>\n",
       "      <td>86.2</td>\n",
       "      <td>26.2</td>\n",
       "      <td>94.3</td>\n",
       "      <td>5.1</td>\n",
       "      <td>8.2</td>\n",
       "      <td>51</td>\n",
       "      <td>6.7</td>\n",
       "      <td>0.0</td>\n",
       "      <td>0.0</td>\n",
       "    </tr>\n",
       "    <tr>\n",
       "      <th>1</th>\n",
       "      <td>7</td>\n",
       "      <td>4</td>\n",
       "      <td>oct</td>\n",
       "      <td>tue</td>\n",
       "      <td>90.6</td>\n",
       "      <td>35.4</td>\n",
       "      <td>669.1</td>\n",
       "      <td>6.7</td>\n",
       "      <td>18.0</td>\n",
       "      <td>33</td>\n",
       "      <td>0.9</td>\n",
       "      <td>0.0</td>\n",
       "      <td>0.0</td>\n",
       "    </tr>\n",
       "    <tr>\n",
       "      <th>2</th>\n",
       "      <td>7</td>\n",
       "      <td>4</td>\n",
       "      <td>oct</td>\n",
       "      <td>sat</td>\n",
       "      <td>90.6</td>\n",
       "      <td>43.7</td>\n",
       "      <td>686.9</td>\n",
       "      <td>6.7</td>\n",
       "      <td>14.6</td>\n",
       "      <td>33</td>\n",
       "      <td>1.3</td>\n",
       "      <td>0.0</td>\n",
       "      <td>0.0</td>\n",
       "    </tr>\n",
       "    <tr>\n",
       "      <th>3</th>\n",
       "      <td>8</td>\n",
       "      <td>6</td>\n",
       "      <td>mar</td>\n",
       "      <td>fri</td>\n",
       "      <td>91.7</td>\n",
       "      <td>33.3</td>\n",
       "      <td>77.5</td>\n",
       "      <td>9.0</td>\n",
       "      <td>8.3</td>\n",
       "      <td>97</td>\n",
       "      <td>4.0</td>\n",
       "      <td>0.2</td>\n",
       "      <td>0.0</td>\n",
       "    </tr>\n",
       "    <tr>\n",
       "      <th>4</th>\n",
       "      <td>8</td>\n",
       "      <td>6</td>\n",
       "      <td>mar</td>\n",
       "      <td>sun</td>\n",
       "      <td>89.3</td>\n",
       "      <td>51.3</td>\n",
       "      <td>102.2</td>\n",
       "      <td>9.6</td>\n",
       "      <td>11.4</td>\n",
       "      <td>99</td>\n",
       "      <td>1.8</td>\n",
       "      <td>0.0</td>\n",
       "      <td>0.0</td>\n",
       "    </tr>\n",
       "  </tbody>\n",
       "</table>\n",
       "</div>"
      ],
      "text/plain": [
       "   X  Y month  day  FFMC   DMC     DC  ISI  temp  RH  wind  rain  area\n",
       "0  7  5   mar  fri  86.2  26.2   94.3  5.1   8.2  51   6.7   0.0   0.0\n",
       "1  7  4   oct  tue  90.6  35.4  669.1  6.7  18.0  33   0.9   0.0   0.0\n",
       "2  7  4   oct  sat  90.6  43.7  686.9  6.7  14.6  33   1.3   0.0   0.0\n",
       "3  8  6   mar  fri  91.7  33.3   77.5  9.0   8.3  97   4.0   0.2   0.0\n",
       "4  8  6   mar  sun  89.3  51.3  102.2  9.6  11.4  99   1.8   0.0   0.0"
      ]
     },
     "execution_count": 50,
     "metadata": {},
     "output_type": "execute_result"
    }
   ],
   "source": [
    "df = pd.read_csv(\"https://archive.ics.uci.edu/ml/machine-learning-databases/forest-fires/forestfires.csv\")\n",
    "df.head()"
   ]
  },
  {
   "cell_type": "code",
   "execution_count": 51,
   "id": "fb1d5551",
   "metadata": {},
   "outputs": [
    {
     "name": "stdout",
     "output_type": "stream",
     "text": [
      "COVARIANZA =  2.0292197082152548\n"
     ]
    },
    {
     "data": {
      "image/png": "[encoded data removed]",
      "text/plain": [
       "<Figure size 1280x480 with 1 Axes>"
      ]
     },
     "metadata": {
      "needs_background": "light"
     },
     "output_type": "display_data"
    }
   ],
   "source": [
    "viento = df['wind']\n",
    "rh = df['RH']\n",
    "covarianza = np.cov(viento, rh)[0][1]\n",
    "print(\"COVARIANZA = \", covarianza)\n",
    "\n",
    "figure(figsize=(16, 6), dpi=80)\n",
    "plt.scatter(viento, rh, color='green')\n",
    "plt.title(\"Grafica de Dispersion\")\n",
    "plt.xlabel(\"Viento\")\n",
    "plt.ylabel(\"Humedad Relativa\")\n",
    "plt.show()"
   ]
  },
  {
   "cell_type": "markdown",
   "id": "d71321ca",
   "metadata": {},
   "source": [
    "**Deberá indicar la conclusión a la que ha llegado \n",
    "luego de haber obtenido el valor y graficar el \n",
    "diagrama de dispersión.**"
   ]
  },
  {
   "cell_type": "markdown",
   "id": "a2f8cf50",
   "metadata": {},
   "source": [
    "La grafica nos indica que existe en cierta medida una correlacion entre las variables dado que algunas se cruzan entre los valores inciales. Sin embargo con los valores mayoritarios no parece suceder lo mismo, esto quiere decir que la correlacion existe en los valores de 2 - 5.\n",
    "\n",
    "Asi mismo la covarianza nos da un valor de 2.02 siendo este el valor donde mas existe una correlacion entre ambas variales."
   ]
  },
  {
   "cell_type": "markdown",
   "id": "618e70d5",
   "metadata": {},
   "source": [
    "### **Ejercicio 2**\n",
    "\n",
    "Dado el conjunto de datos Forest-Fires-Data \n",
    "(AVAC), realice el cálculo del coeficiente de \n",
    "correllación lineal de Pearson empleando Excel o \n",
    "Python. Deberá considerar las variables: viento \n",
    "(wind) y humedad relativa (rH). \n",
    "\n",
    "Deberá calcular también la regresión lineal e \n",
    "indicar la conclusión a la que ha llegado luego de \n",
    "haber obtenido el valor."
   ]
  },
  {
   "cell_type": "code",
   "execution_count": 52,
   "id": "6104aae4",
   "metadata": {},
   "outputs": [
    {
     "name": "stdout",
     "output_type": "stream",
     "text": [
      "Coeficiente de correlacion lineal de pearson :  0.06941006715607248\n"
     ]
    },
    {
     "data": {
      "image/png": "[encoded data removed]",
      "text/plain": [
       "<Figure size 1280x480 with 1 Axes>"
      ]
     },
     "metadata": {
      "needs_background": "light"
     },
     "output_type": "display_data"
    }
   ],
   "source": [
    "viento = df['wind']\n",
    "rh = df['RH']\n",
    "corPer, _ = pearsonr(viento, rh) \n",
    "\n",
    "print(\"Coeficiente de correlacion lineal de pearson : \", corPer)\n",
    "\n",
    "rLineal= linregress(viento, rh)\n",
    "\n",
    "figure(figsize=(16, 6), dpi=80)\n",
    "plt.title(\"Regresion Lineal de Pearson \")\n",
    "plt.plot(viento, rh, 'o', color='green' )\n",
    "plt.plot(viento, rLineal.intercept + rLineal.slope*viento, color='red')\n",
    "plt.xlabel(\"Viento\")\n",
    "plt.ylabel(\"Humedad Relativa\")\n",
    "plt.show()"
   ]
  },
  {
   "cell_type": "markdown",
   "id": "eaf20a30",
   "metadata": {},
   "source": [
    "**Indicar la conclusión a la que ha llegado luego de \n",
    "haber obtenido el valor.**"
   ]
  },
  {
   "cell_type": "markdown",
   "id": "fd319f63",
   "metadata": {},
   "source": [
    "La grafica de correlacion lineal de pearson nos indica que no hay gran correlacion entre las variables dado que la linea que traza no sufre mayor subida a lo largo de la grafica y esto se puedo deducir gracias al valor obtenido anteriormente de la correlacion entre las dos varibles."
   ]
  },
  {
   "cell_type": "markdown",
   "id": "c36a09a5",
   "metadata": {},
   "source": [
    "### **Ejercicio 3**\n",
    "\n",
    "Aplicar el test de autocorrelación 100 números \n",
    "generados por:\n",
    "\n",
    "a) Productos medios (X0=7363423178943, X1=1324356789532, D=7)\n",
    "\n",
    "b) Cuadrados medios (X0=7363423178943)\n",
    "\n",
    "c) El generador Urand (ver el AVAC), x=7363423178943\n",
    "\n",
    "d) RandomNumbers.txt (archivo cargado al AVAC)\n"
   ]
  },
  {
   "cell_type": "code",
   "execution_count": 2,
   "id": "4c1286b2",
   "metadata": {},
   "outputs": [],
   "source": [
    "# Productos medios\n",
    "\n",
    "def getMiddleCharacters(x, d): \n",
    "    middle = int(len(x)/2)\n",
    "    if ((len(x)%2) != 0) and ((d%2) != 0):  \n",
    "      y = int(d/2)\n",
    "      left = int(middle-y)\n",
    "      right = int(middle+y)+1\n",
    "\n",
    "    else:\n",
    "      y = int(d/2)\n",
    "      left = int(middle-y)\n",
    "      right = int(middle+y)\n",
    "      \n",
    "    return x[left:right]\n",
    "    \n",
    "\n",
    "def random_product(x0= 7363423178943 , x1=1324356789532, d=7, N=100):\n",
    "  numeros = []\n",
    "  \n",
    "  for i in range(N):\n",
    "    y0 = x0*x1\n",
    "    x2 = int(getMiddleCharacters(str(y0), d))\n",
    "    numeros.append(float(f'0.{x2}'))\n",
    "\n",
    "    x0=x1\n",
    "    x1=x2\n",
    "\n",
    "  return numeros"
   ]
  },
  {
   "cell_type": "code",
   "execution_count": 3,
   "id": "1ce7aba8",
   "metadata": {},
   "outputs": [],
   "source": [
    "# Cuadrados medios\n",
    "\n",
    "def cuadrados_medios():\n",
    "    digitos = 7\n",
    "    xn = 7363423178943\n",
    "    valoresRamdom = []\n",
    "\n",
    "    for i in range(100):\n",
    "        xnn = xn**2\n",
    "        txnn = str(xnn).zfill(8)\n",
    "        tam = len(txnn)\n",
    "        ui = int(txnn[int(tam/2-digitos/2):int(tam/2+digitos/2)])\n",
    "        rn = ui / (int('9'*digitos)+1)\n",
    "        xn = ui\n",
    "        valoresRamdom.append(rn)\n",
    "    return valoresRamdom\n",
    "\n",
    "#print(\"Valores Generados 1 : \" , valoresRamdom)"
   ]
  },
  {
   "cell_type": "code",
   "execution_count": 6,
   "id": "e872d474",
   "metadata": {},
   "outputs": [],
   "source": [
    "# test de autocorrelación\n",
    "\n",
    "def autocorrelation_test(numeros, lag, i):\n",
    "  size = (len(numeros))\n",
    "\n",
    "  for k in range(i-1):\n",
    "    aux = np.delete(numeros,[i])\n",
    "\n",
    "  rng_cal = len(aux)/lag\n",
    "\n",
    "  rho = 0\n",
    "  for j in range(int(rng_cal)):\n",
    "    rho += aux[j*lag]*aux[(j*lag)+lag]\n",
    "\n",
    "  m = (size-i)/(lag-1)\n",
    "  m = m-(m-int(m))\n",
    "\n",
    "  m1 = 1/(1+m)\n",
    "  rho_im = m1*rho-0.25\n",
    "  \n",
    "  x = math.sqrt(13*m+1)\n",
    "  s_dev = x/(12*(m+1))\n",
    "  \n",
    "  sigma_im = rho_im/s_dev\n",
    "  z0 = 2*(1-st.norm.cdf(sigma_im))\n",
    "\n",
    "  if z0 <= 0.05:\n",
    "    return f'No Acepta : {z0}'\n",
    "  else:\n",
    "    return f'Acepta : {z0}'"
   ]
  },
  {
   "cell_type": "code",
   "execution_count": 9,
   "id": "d702e5da",
   "metadata": {},
   "outputs": [
    {
     "name": "stdout",
     "output_type": "stream",
     "text": [
      "Numeros aleatorios de Productos Medios\n",
      "[0.1230465, 0.4677031, 0.4922949, 0.478508, 0.567048, 0.3370043, 0.976143, 0.9643884, 0.3809859, 0.183825, 0.34733, 0.8479372, 0.5140276, 0.631238, 0.4737541, 0.515905, 0.4121089, 0.609042, 0.916286, 0.56658, 0.149321, 0.6022921, 0.348586, 0.9505939, 0.3637252, 0.549563, 0.889912, 0.627084, 0.495766, 0.886926, 0.707755, 0.726311, 0.50241, 0.4905909, 0.477774, 0.3915766, 0.851184, 0.3037366, 0.5357341, 0.22054, 0.1507984, 0.570791, 0.743695, 0.494412, 0.691732, 0.601, 0.1573093, 0.4542889, 0.6386885, 0.490961, 0.5711446, 0.4097239, 0.115929, 0.98882, 0.632913, 0.837032, 0.768434, 0.203847, 0.642965, 0.66486, 0.7481709, 0.428904, 0.8934916, 0.2221212, 0.634263, 0.8832586, 0.2182494, 0.706594, 0.2137165, 0.107966, 0.741156, 0.196486, 0.626777, 0.152905, 0.8373371, 0.330292, 0.5657454, 0.8611796, 0.83972, 0.149733, 0.5733794, 0.538177, 0.5796053, 0.9302415, 0.729036, 0.1795421, 0.8926544, 0.690455, 0.3376937, 0.1623036, 0.89032, 0.5021411, 0.662641, 0.7392806, 0.877636, 0.192686, 0.1081702, 0.428831, 0.86735, 0.946567]\n",
      "Acepta : 0.9086350233027634\n",
      "\n",
      "Numeros aleatorios de Cuadrados Medios\n",
      "[0.1219503, 0.7187567, 0.6111937, 0.5577389, 0.0726805, 0.8245508, 0.8840217, 0.494366, 0.3977419, 0.198619, 0.4950716, 0.0958891, 0.9471949, 0.1781785, 0.4757786, 0.3652762, 0.4267022, 0.0747674, 0.901641, 0.9564928, 0.8784764, 0.7207853, 0.5314486, 0.4376144, 0.506363, 0.4034877, 0.802324, 0.7238009, 0.8877428, 0.0872789, 0.1760638, 0.9846167, 0.4700459, 0.9431481, 0.5283385, 0.1415705, 0.4220647, 0.1386109, 0.1298159, 0.5216789, 0.1488747, 0.636763, 0.4671181, 0.1993193, 0.2818335, 0.3012172, 0.3180157, 0.1339854, 0.5208741, 0.309828, 0.9338958, 0.1613652, 0.3872777, 0.9840169, 0.2892594, 0.7100048, 0.106816, 0.0965785, 0.2740666, 0.1250123, 0.2807515, 0.2140475, 0.1633225, 0.74239, 0.1429121, 0.2386832, 0.6966996, 0.3903326, 0.3595386, 0.2680048, 0.2657282, 0.1147627, 0.7047731, 0.7051224, 0.1975989, 0.4532528, 0.4381007, 0.9322233, 0.040281, 0.2255896, 0.9066762, 0.0617316, 0.1079043, 0.4333795, 0.817791, 0.7821196, 0.7110687, 0.6186961, 0.7848641, 0.0116554, 0.5848349, 0.0318602, 0.1507234, 0.175433, 0.7673748, 0.8640836, 0.6404677, 0.1988747, 0.511463, 0.5944003]\n",
      "Acepta : 1.9404105984528797\n",
      "\n",
      "Numeros aleatorios de Urand\n",
      "Archivo no encontrado\n",
      "\n",
      "Numeros aleatorios de RandomNumbers.txt\n",
      "Archivo no encontrado\n"
     ]
    }
   ],
   "source": [
    "\n",
    "pm = random_product()\n",
    "cm = cuadrados_medios()\n",
    "\n",
    "autoCorrelacion1 = autocorrelation_test(pm, 5, 5)\n",
    "autoCorrelacion2 = autocorrelation_test(cm, 5, 5)\n",
    "\n",
    "print(\"Numeros aleatorios de Productos Medios\")\n",
    "print(pm)\n",
    "print(autoCorrelacion1)\n",
    "print(\"\")\n",
    "\n",
    "\n",
    "\n",
    "print(\"Numeros aleatorios de Cuadrados Medios\")\n",
    "print(cm)\n",
    "print(autoCorrelacion2)\n",
    "print(\"\")\n",
    "\n",
    "print(\"Numeros aleatorios de Urand\")\n",
    "print(\"Archivo no encontrado\")\n",
    "print(\"\")\n",
    "\n",
    "print(\"Numeros aleatorios de RandomNumbers.txt\")\n",
    "print(\"Archivo no encontrado\")\n",
    "\n"
   ]
  },
  {
   "cell_type": "code",
   "execution_count": null,
   "id": "a2f04160",
   "metadata": {},
   "outputs": [],
   "source": []
  }
 ],
 "metadata": {
  "kernelspec": {
   "display_name": "Python 3 (ipykernel)",
   "language": "python",
   "name": "python3"
  },
  "language_info": {
   "codemirror_mode": {
    "name": "ipython",
    "version": 3
   },
   "file_extension": ".py",
   "mimetype": "text/x-python",
   "name": "python",
   "nbconvert_exporter": "python",
   "pygments_lexer": "ipython3",
   "version": "3.9.7"
  }
 },
 "nbformat": 4,
 "nbformat_minor": 5
}
