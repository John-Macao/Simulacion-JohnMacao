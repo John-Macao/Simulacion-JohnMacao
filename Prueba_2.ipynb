{
  "nbformat": 4,
  "nbformat_minor": 0,
  "metadata": {
    "colab": {
      "name": "Prueba_2.ipynb",
      "provenance": [],
      "authorship_tag": "ABX9TyP5bYK0AdTWVA83nQpHx2Ot",
      "include_colab_link": true
    },
    "kernelspec": {
      "name": "python3",
      "display_name": "Python 3"
    },
    "language_info": {
      "name": "python"
    }
  },
  "cells": [
    {
      "cell_type": "markdown",
      "metadata": {
        "id": "view-in-github",
        "colab_type": "text"
      },
      "source": [
        "<a href=\"https://colab.research.google.com/github/John-Macao/Simulacion-JohnMacao/blob/main/Prueba_2.ipynb\" target=\"_parent\"><img src=\"https://colab.research.google.com/assets/colab-badge.svg\" alt=\"Open In Colab\"/></a>"
      ]
    },
    {
      "cell_type": "code",
      "execution_count": null,
      "metadata": {
        "id": "NwAP0FmorX60"
      },
      "outputs": [],
      "source": [
        ""
      ]
    },
    {
      "cell_type": "markdown",
      "source": [
        "**Enunciado**:\n",
        "\n",
        "\n",
        "Realice un programa que permita validara la independencia de datos y generar una grafica de pie que represente el total de 0 y 1 generados, además del numero de corridas generados por los métodos de cuadrados medios, productos medios y random para validar la Hipótesis.\n",
        "\n",
        "Emplee el siguiente nivel de significancia α=0.05\n",
        "100 numeros generados\n",
        "\n",
        "Las semillas para generar los números son las siguientes:\n",
        "\n",
        "Cuadrados medios: Xo=74731897457, D=7\n",
        "\n",
        "Congruencia lineal: a=74731897457, b=37747318974, Xo=7, M=19\n",
        "\n",
        "Random de Python semilla (01032022)\n",
        "\n",
        "Tauswoth q=15, r=7, l=7\n"
      ],
      "metadata": {
        "id": "sGLVhq0Nug0k"
      }
    },
    {
      "cell_type": "code",
      "source": [
        "\n",
        "# Cuadrados medios\n",
        "\n",
        "digitos = 7\n",
        "xn = 74731897457\n",
        "valoresRamdom = []\n",
        "\n",
        "for i in range(100):\n",
        "  xnn = xn**2\n",
        "  txnn = str(xnn).zfill(8)\n",
        "  tam = len(txnn)\n",
        "  ui = int(txnn[int(tam/2-digitos/2):int(tam/2+digitos/2)])\n",
        "  rn = ui / (int('9'*digitos)+1)\n",
        "  xn = ui\n",
        "  valoresRamdom.append(rn)\n",
        "\n",
        "print(\"Valores Generados 1 : \" , valoresRamdom)\n",
        "print(len(valoresRamdom))\n"
      ],
      "metadata": {
        "colab": {
          "base_uri": "https://localhost:8080/"
        },
        "id": "hzQFsWssuj5Z",
        "outputId": "2e2113b3-fd7f-4a66-ca5d-e8b6f81c1a1b"
      },
      "execution_count": 54,
      "outputs": [
        {
          "output_type": "stream",
          "name": "stdout",
          "text": [
            "Valores Generados 1 :  [0.4975235, 0.529633, 0.5111146, 0.2381343, 0.0794483, 0.1203237, 0.7779278, 0.171662, 0.6784224, 0.2569528, 0.2474142, 0.1378636, 0.063722, 0.6049328, 0.9436925, 0.5555345, 0.6185806, 0.6419586, 0.1108441, 0.864145, 0.746581, 0.3831895, 0.8341929, 0.8777944, 0.5230086, 0.5379956, 0.4392656, 0.9542673, 0.6260798, 0.9759159, 0.4118438, 0.6153155, 0.6131645, 0.970704, 0.2662556, 0.9204453, 0.2195502, 0.0229032, 0.455657, 0.6233016, 0.5048845, 0.9083583, 0.1148011, 0.7929256, 0.7310071, 0.3713802, 0.9232529, 0.3959173, 0.7505084, 0.2628584, 0.9453845, 0.7518528, 0.2826328, 0.8129963, 0.9629838, 0.337799, 0.1081644, 0.9953742, 0.769798, 0.5889608, 0.8748239, 0.316856, 0.3977247, 0.1849369, 0.0165698, 0.4558272, 0.7784362, 0.9629174, 0.2099192, 0.6607052, 0.5313613, 0.3448311, 0.9084875, 0.3495376, 0.1765338, 0.6418254, 0.939844, 0.3067443, 0.9206558, 0.607102, 0.5728384, 0.1438325, 0.8778805, 0.6741722, 0.5081552, 0.2217072, 0.5408253, 0.4920051, 0.0690184, 0.6353953, 0.7271872, 0.8012238, 0.9595776, 0.7891704, 0.7899202, 0.9739223, 0.5246464, 0.253845, 0.3728402, 0.0098147]\n",
            "100\n"
          ]
        }
      ]
    },
    {
      "cell_type": "code",
      "source": [
        "# Congruencia lineal\n",
        "\n",
        "xo = 7\n",
        "a = 74731897457\n",
        "b = 37747318974\n",
        "m = 19\n",
        "iteraciones = 100\n",
        "\n",
        "valoresRamdom2 = []\n",
        "\n",
        "xn = xo\n",
        "for i in range(iteraciones):\n",
        "  xnn = (a*xn+b) % m\n",
        "  ui = xnn/m\n",
        "  xn = xnn\n",
        "  valoresRamdom2.append(ui)\n",
        "\n",
        "print(\"Valores Generados 2 : \",  valoresRamdom2)\n",
        "print(len(valoresRamdom2))"
      ],
      "metadata": {
        "colab": {
          "base_uri": "https://localhost:8080/"
        },
        "id": "T_gcZctC7jp0",
        "outputId": "ec9a06e8-baa6-47a5-d1cf-0282657e4e2d"
      },
      "execution_count": 55,
      "outputs": [
        {
          "output_type": "stream",
          "name": "stdout",
          "text": [
            "Valores Generados 2 :  [0.8947368421052632, 0.8421052631578947, 0.9473684210526315, 0.7368421052631579, 0.15789473684210525, 0.3157894736842105, 0.0, 0.631578947368421, 0.3684210526315789, 0.8947368421052632, 0.8421052631578947, 0.9473684210526315, 0.7368421052631579, 0.15789473684210525, 0.3157894736842105, 0.0, 0.631578947368421, 0.3684210526315789, 0.8947368421052632, 0.8421052631578947, 0.9473684210526315, 0.7368421052631579, 0.15789473684210525, 0.3157894736842105, 0.0, 0.631578947368421, 0.3684210526315789, 0.8947368421052632, 0.8421052631578947, 0.9473684210526315, 0.7368421052631579, 0.15789473684210525, 0.3157894736842105, 0.0, 0.631578947368421, 0.3684210526315789, 0.8947368421052632, 0.8421052631578947, 0.9473684210526315, 0.7368421052631579, 0.15789473684210525, 0.3157894736842105, 0.0, 0.631578947368421, 0.3684210526315789, 0.8947368421052632, 0.8421052631578947, 0.9473684210526315, 0.7368421052631579, 0.15789473684210525, 0.3157894736842105, 0.0, 0.631578947368421, 0.3684210526315789, 0.8947368421052632, 0.8421052631578947, 0.9473684210526315, 0.7368421052631579, 0.15789473684210525, 0.3157894736842105, 0.0, 0.631578947368421, 0.3684210526315789, 0.8947368421052632, 0.8421052631578947, 0.9473684210526315, 0.7368421052631579, 0.15789473684210525, 0.3157894736842105, 0.0, 0.631578947368421, 0.3684210526315789, 0.8947368421052632, 0.8421052631578947, 0.9473684210526315, 0.7368421052631579, 0.15789473684210525, 0.3157894736842105, 0.0, 0.631578947368421, 0.3684210526315789, 0.8947368421052632, 0.8421052631578947, 0.9473684210526315, 0.7368421052631579, 0.15789473684210525, 0.3157894736842105, 0.0, 0.631578947368421, 0.3684210526315789, 0.8947368421052632, 0.8421052631578947, 0.9473684210526315, 0.7368421052631579, 0.15789473684210525, 0.3157894736842105, 0.0, 0.631578947368421, 0.3684210526315789, 0.8947368421052632]\n",
            "100\n"
          ]
        }
      ]
    },
    {
      "cell_type": "code",
      "source": [
        "import random\n",
        "def random_python(N=100):\n",
        "  numeros = []\n",
        "  random.seed(1032022)\n",
        "  [numeros.append(random.random())for i in range(N)]\n",
        "  return numeros\n",
        "\n",
        "valoresRamdom3 = []\n",
        "valoresRamdom3 = random_python()\n",
        "\n",
        "print(\"Valores Generados 3 : \",  valoresRamdom3)\n",
        "print(len(valoresRamdom3))"
      ],
      "metadata": {
        "colab": {
          "base_uri": "https://localhost:8080/"
        },
        "id": "4GUB_Szi8weX",
        "outputId": "063ca477-ed72-479c-f6b7-47971ed2cc5a"
      },
      "execution_count": 56,
      "outputs": [
        {
          "output_type": "stream",
          "name": "stdout",
          "text": [
            "Valores Generados 3 :  [0.6009619083013497, 0.7544824379607146, 0.12043532987383554, 0.2238116361922322, 0.3554416664685648, 0.3649338752279483, 0.17405451171268804, 0.32250705110103095, 0.07365121514270778, 0.22328536228547846, 0.5657683456996286, 0.47192384810364474, 0.4202981677611177, 0.37108436054595506, 0.10650450605448003, 0.3833193199640059, 0.7049825780489426, 0.13690172112654952, 0.5716984080534419, 0.9789396569474001, 0.236780550670054, 0.006725889464470058, 0.5139046449054391, 0.6438650174292219, 0.6777000434949092, 0.18065102285418133, 0.2600319514322885, 0.9990112973850298, 0.7819230179134201, 0.6528163281009259, 0.41158028245500233, 0.3503230957715354, 0.6321520503728941, 0.24128644445389802, 0.15876526910544175, 0.06886725630014012, 0.2203104909550485, 0.0635925351918386, 0.6359586015601617, 0.5954035256577749, 0.6798685267659752, 0.24934012141223982, 0.9701534277917231, 0.5175900365934477, 0.01464956149171004, 0.6278570013514053, 0.6043945007908113, 0.5734521355309034, 0.09193215386527398, 0.3885752568025084, 0.3909804104914554, 0.945658627305166, 0.13011539995676968, 0.6506256093446959, 0.7454756950859892, 0.8342918835115891, 0.2892542969224021, 0.9904729062525761, 0.5220267020050497, 0.4584973094952861, 0.09767653440846813, 0.37267806023837, 0.71644289685708, 0.159200695065717, 0.09577358702053396, 0.549918018722397, 0.9041868896200025, 0.6850750382431942, 0.2001955274458772, 0.8083919048404493, 0.3161948255419441, 0.42123653439319697, 0.5731389441360007, 0.6776554503641572, 0.25347312055783877, 0.04977951434635797, 0.06577601866758842, 0.13836261636902591, 0.5730827129072832, 0.12501985614704625, 0.24218510917433356, 0.3666791329622998, 0.7377455218774518, 0.20541870468384327, 0.2645631680052909, 0.14637340534332044, 0.49109053574685047, 0.5183049190475788, 0.3345750171977261, 0.7485856186324178, 0.7954750084066264, 0.29900407630811343, 0.4972484295923325, 0.8204541836374504, 0.4178880927495301, 0.02400819373489338, 0.628752571840199, 0.8370232490830278, 0.6546392165183474, 0.04217411313955488]\n",
            "100\n"
          ]
        }
      ]
    },
    {
      "cell_type": "code",
      "source": [
        ""
      ],
      "metadata": {
        "id": "Wzrt28-iBR-4"
      },
      "execution_count": 59,
      "outputs": []
    },
    {
      "cell_type": "code",
      "source": [
        "import pandas as pd\n",
        "valoresRamdom4 = []\n",
        "q=15\n",
        "h=7\n",
        "l=7\n",
        "nBits=700\n",
        "\n",
        "generador=[]\n",
        "conversion=[]\n",
        "conversion2=[]\n",
        "result=0\n",
        "\n",
        "vector_l=list(range(l))\n",
        "vector_l.reverse()\n",
        "\n",
        "for i in range(1,len(list(range(1,nBits+1)))+1):\n",
        "    if i<=q:\n",
        "        generador.append(1)\n",
        "    else:\n",
        "        aux1=i-(h+1)\n",
        "        aux2=i-(q+1)\n",
        "        generador.append((generador[aux1]+generador[aux2])%2)\n",
        "\n",
        "for i in range(l,len(generador)+1,l):\n",
        "    fragmento=generador[i-l:i]\n",
        "    for j in range(len(fragmento)):\n",
        "        result+=fragmento[j]*2**vector_l[j]\n",
        "    conversion.append(result)\n",
        "    conversion2.append(result/(2**l))\n",
        "    result=0\n",
        "\n",
        "df = pd.DataFrame(generador,index=list(range(1,nBits+1)))\n",
        "\n",
        "\n",
        "valoresRamdom4 = conversion2\n",
        "\n",
        "print(\"Valores Generados 4 : \",  valoresRamdom4)\n",
        "print(len(valoresRamdom4))"
      ],
      "metadata": {
        "colab": {
          "base_uri": "https://localhost:8080/"
        },
        "id": "TGrJYsB_Bmoq",
        "outputId": "4598fd1a-9a22-41f5-dfdd-4889a638d56e"
      },
      "execution_count": 63,
      "outputs": [
        {
          "output_type": "stream",
          "name": "stdout",
          "text": [
            "Valores Generados 4 :  [0.9921875, 0.9921875, 0.5, 0.4921875, 0.7421875, 0.5, 0.3671875, 0.6171875, 0.6875, 0.4921875, 0.6484375, 0.59375, 0.2890625, 0.5234375, 0.6328125, 0.375, 0.6875, 0.0, 0.34375, 0.34375, 0.453125, 0.34375, 0.3828125, 0.3046875, 0.4921875, 0.84375, 0.3984375, 0.5390625, 0.71875, 0.484375, 0.625, 0.6171875, 0.8046875, 0.5, 0.3984375, 0.6484375, 0.578125, 0.2734375, 0.546875, 0.6796875, 0.40625, 0.2421875, 0.5390625, 0.578125, 0.3125, 0.6015625, 0.6953125, 0.9921875, 0.1484375, 0.84375, 0.2890625, 0.6484375, 0.5078125, 0.3125, 0.5625, 0.21875, 0.4375, 0.421875, 0.328125, 0.3828125, 0.28125, 0.46875, 0.859375, 0.875, 0.5546875, 0.9921875, 0.71875, 0.2734375, 0.6015625, 0.71875, 0.453125, 0.65625, 0.5703125, 0.7734375, 0.5546875, 0.421875, 0.6640625, 0.109375, 0.28125, 0.7734375, 0.8828125, 0.5, 0.4375, 0.6875, 0.53125, 0.8125, 0.578125, 0.984375, 0.7109375, 0.78125, 0.5703125, 0.4609375, 0.2421875, 0.515625, 0.1015625, 0.84375, 0.828125, 0.21875, 0.3203125, 0.3046875]\n",
            "100\n"
          ]
        }
      ]
    },
    {
      "cell_type": "markdown",
      "source": [
        "#**Prueba de Corridas**"
      ],
      "metadata": {
        "id": "XCL6t1CBwWbT"
      }
    },
    {
      "cell_type": "code",
      "source": [
        "x = valoresRamdom\n",
        "enteros = []\n",
        "for i in x:\n",
        "  if i >= 0.5:\n",
        "    enteros.append(1)\n",
        "  elif i < 0.5:\n",
        "    enteros.append(0)\n",
        "print(\"Valores enteros 1 y 0 : \" , enteros)\n",
        "print(len(enteros))\n",
        "\n",
        "aux = []\n",
        "co = 0\n",
        "contador = 0\n",
        "iteracion = 0\n",
        "\n",
        "for j in enteros:\n",
        "  if aux != j:\n",
        "    co += 1\n",
        "    aux=j\n",
        "  \n",
        "print(\"co : \" , co)\n",
        "\n",
        "n0 = 0\n",
        "for j in enteros:\n",
        "  if j == 0:\n",
        "    n0 = n0+1\n",
        "print(\"no : \" , n0)\n",
        "\n",
        "n1 = 0\n",
        "for j in enteros:\n",
        "  if j == 1:\n",
        "    n1 = n1+1\n",
        "\n",
        "print(\"n1 : \" , n1)\n",
        "\n",
        "n = n0 + n1\n",
        "print(\"n : \" , n)\n",
        "  "
      ],
      "metadata": {
        "colab": {
          "base_uri": "https://localhost:8080/"
        },
        "id": "HULcjblrwKHf",
        "outputId": "4a79ed01-8498-45b2-e46c-cefc97212f88"
      },
      "execution_count": 49,
      "outputs": [
        {
          "output_type": "stream",
          "name": "stdout",
          "text": [
            "Valores enteros 1 y 0 :  [0, 1, 1, 0, 0, 0, 1, 0, 1, 0, 0, 0, 0, 1, 1, 1, 1, 1, 0, 1, 1, 0, 1, 1, 1, 1, 0, 1, 1, 1, 0, 1, 1, 1, 0, 1, 0, 0, 0, 1, 1, 1, 0, 1, 1, 0, 1, 0, 1, 0, 1, 1, 0, 1, 1, 0, 0, 1, 1, 1, 1, 0, 0, 0, 0, 0, 1, 1, 0, 1, 1, 0, 1, 0, 0, 1, 1, 0, 1, 1, 1, 0, 1, 1, 1, 0, 1, 0, 0, 1, 1, 1, 1, 1, 1, 1, 1, 0, 0, 0]\n",
            "100\n",
            "co :  49\n",
            "no :  41\n",
            "n1 :  59\n",
            "n :  100\n"
          ]
        }
      ]
    },
    {
      "cell_type": "code",
      "source": [
        "x = valoresRamdom2\n",
        "enteros = []\n",
        "for i in x:\n",
        "  if i >= 0.5:\n",
        "    enteros.append(1)\n",
        "  elif i < 0.5:\n",
        "    enteros.append(0)\n",
        "print(\"Valores enteros 1 y 0 : \" , enteros)\n",
        "print(len(enteros))\n",
        "\n",
        "co = 0\n",
        "contador = 0\n",
        "iteracion = 0\n",
        "\n",
        "aux=0\n",
        "\n",
        "for j in enteros:\n",
        "  if aux != j:\n",
        "    co += 1\n",
        "    aux=j\n",
        "  \n",
        "print(\"co : \" , co)\n",
        "\n",
        "n0 = 0\n",
        "for j in enteros:\n",
        "  if j == 0:\n",
        "    n0 = n0+1\n",
        "print(\"no : \" , n0)\n",
        "\n",
        "n1 = 0\n",
        "for j in enteros:\n",
        "  if j == 1:\n",
        "    n1 = n1+1\n",
        "\n",
        "print(\"n1 : \" , n1)\n",
        "\n",
        "n = n0 + n1\n",
        "print(\"n : \" , n)"
      ],
      "metadata": {
        "colab": {
          "base_uri": "https://localhost:8080/"
        },
        "id": "JtLm1p0t9skX",
        "outputId": "a7aa5270-d1f0-4861-8532-73ae1ffb8a9c"
      },
      "execution_count": 50,
      "outputs": [
        {
          "output_type": "stream",
          "name": "stdout",
          "text": [
            "Valores enteros 1 y 0 :  [1, 1, 1, 1, 0, 0, 0, 1, 0, 1, 1, 1, 1, 0, 0, 0, 1, 0, 1, 1, 1, 1, 0, 0, 0, 1, 0, 1, 1, 1, 1, 0, 0, 0, 1, 0, 1, 1, 1, 1, 0, 0, 0, 1, 0, 1, 1, 1, 1, 0, 0, 0, 1, 0, 1, 1, 1, 1, 0, 0, 0, 1, 0, 1, 1, 1, 1, 0, 0, 0, 1, 0, 1, 1, 1, 1, 0, 0, 0, 1, 0, 1, 1, 1, 1, 0, 0, 0, 1, 0, 1, 1, 1, 1, 0, 0, 0, 1, 0, 1]\n",
            "100\n",
            "co :  45\n",
            "no :  44\n",
            "n1 :  56\n",
            "n :  100\n"
          ]
        }
      ]
    },
    {
      "cell_type": "code",
      "source": [
        "x = valoresRamdom3\n",
        "enteros = []\n",
        "for i in x:\n",
        "  if i >= 0.5:\n",
        "    enteros.append(1)\n",
        "  elif i < 0.5:\n",
        "    enteros.append(0)\n",
        "print(\"Valores enteros 1 y 0 : \" , enteros)\n",
        "print(len(enteros))\n",
        "\n",
        "aux = []\n",
        "co = 0\n",
        "contador = 0\n",
        "iteracion = 0\n",
        "\n",
        "for j in enteros:\n",
        "  if aux != j:\n",
        "    co += 1\n",
        "    aux=j\n",
        "  \n",
        "print(\"co : \" , co)\n",
        "\n",
        "n0 = 0\n",
        "for j in enteros:\n",
        "  if j == 0:\n",
        "    n0 = n0+1\n",
        "print(\"no : \" , n0)\n",
        "\n",
        "n1 = 0\n",
        "for j in enteros:\n",
        "  if j == 1:\n",
        "    n1 = n1+1\n",
        "\n",
        "print(\"n1 : \" , n1)\n",
        "\n",
        "n = n0 + n1\n",
        "print(\"n : \" , n)\n",
        "  "
      ],
      "metadata": {
        "colab": {
          "base_uri": "https://localhost:8080/"
        },
        "id": "h6N5bBF-wV7D",
        "outputId": "5e0fd08a-1737-4b7a-9b88-5a4a40798c58"
      },
      "execution_count": 57,
      "outputs": [
        {
          "output_type": "stream",
          "name": "stdout",
          "text": [
            "Valores enteros 1 y 0 :  [1, 1, 0, 0, 0, 0, 0, 0, 0, 0, 1, 0, 0, 0, 0, 0, 1, 0, 1, 1, 0, 0, 1, 1, 1, 0, 0, 1, 1, 1, 0, 0, 1, 0, 0, 0, 0, 0, 1, 1, 1, 0, 1, 1, 0, 1, 1, 1, 0, 0, 0, 1, 0, 1, 1, 1, 0, 1, 1, 0, 0, 0, 1, 0, 0, 1, 1, 1, 0, 1, 0, 0, 1, 1, 0, 0, 0, 0, 1, 0, 0, 0, 1, 0, 0, 0, 0, 1, 0, 1, 1, 0, 0, 1, 0, 0, 1, 1, 1, 0]\n",
            "100\n",
            "co :  46\n",
            "no :  57\n",
            "n1 :  43\n",
            "n :  100\n"
          ]
        }
      ]
    },
    {
      "cell_type": "code",
      "source": [
        "x = valoresRamdom4\n",
        "enteros = []\n",
        "for i in x:\n",
        "  if i >= 0.5:\n",
        "    enteros.append(1)\n",
        "  elif i < 0.5:\n",
        "    enteros.append(0)\n",
        "print(\"Valores enteros 1 y 0 : \" , enteros)\n",
        "print(len(enteros))\n",
        "\n",
        "aux = []\n",
        "co = 0\n",
        "contador = 0\n",
        "iteracion = 0\n",
        "\n",
        "for j in enteros:\n",
        "  if aux != j:\n",
        "    co += 1\n",
        "    aux=j\n",
        "  \n",
        "print(\"co : \" , co)\n",
        "\n",
        "n0 = 0\n",
        "for j in enteros:\n",
        "  if j == 0:\n",
        "    n0 = n0+1\n",
        "print(\"no : \" , n0)\n",
        "\n",
        "n1 = 0\n",
        "for j in enteros:\n",
        "  if j == 1:\n",
        "    n1 = n1+1\n",
        "\n",
        "print(\"n1 : \" , n1)\n",
        "\n",
        "n = n0 + n1\n",
        "print(\"n : \" , n)\n",
        "  "
      ],
      "metadata": {
        "colab": {
          "base_uri": "https://localhost:8080/"
        },
        "id": "zmrzWUyoBLzt",
        "outputId": "722078c5-1ec1-43cf-bd21-6706cee2252e"
      },
      "execution_count": 64,
      "outputs": [
        {
          "output_type": "stream",
          "name": "stdout",
          "text": [
            "Valores enteros 1 y 0 :  [1, 1, 1, 0, 1, 1, 0, 1, 1, 0, 1, 1, 0, 1, 1, 0, 1, 0, 0, 0, 0, 0, 0, 0, 0, 1, 0, 1, 1, 0, 1, 1, 1, 1, 0, 1, 1, 0, 1, 1, 0, 0, 1, 1, 0, 1, 1, 1, 0, 1, 0, 1, 1, 0, 1, 0, 0, 0, 0, 0, 0, 0, 1, 1, 1, 1, 1, 0, 1, 1, 0, 1, 1, 1, 1, 0, 1, 0, 0, 1, 1, 1, 0, 1, 1, 1, 1, 1, 1, 1, 1, 0, 0, 1, 0, 1, 1, 0, 0, 0]\n",
            "100\n",
            "co :  48\n",
            "no :  42\n",
            "n1 :  58\n",
            "n :  100\n"
          ]
        }
      ]
    },
    {
      "cell_type": "code",
      "source": [
        ""
      ],
      "metadata": {
        "id": "8XyJgDfIDQA6"
      },
      "execution_count": null,
      "outputs": []
    }
  ]
}