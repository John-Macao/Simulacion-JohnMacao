{
  "nbformat": 4,
  "nbformat_minor": 0,
  "metadata": {
    "colab": {
      "name": "prueba-simulacion-eventos-discretos.ipynb",
      "provenance": [],
      "collapsed_sections": [],
      "authorship_tag": "ABX9TyMXPrtlHytbQfa65+nKSAZV",
      "include_colab_link": true
    },
    "kernelspec": {
      "name": "python3",
      "display_name": "Python 3"
    },
    "language_info": {
      "name": "python"
    }
  },
  "cells": [
    {
      "cell_type": "markdown",
      "metadata": {
        "id": "view-in-github",
        "colab_type": "text"
      },
      "source": [
        "<a href=\"https://colab.research.google.com/github/John-Macao/Simulacion-JohnMacao/blob/main/prueba_simulacion_eventos_discretos.ipynb\" target=\"_parent\"><img src=\"https://colab.research.google.com/assets/colab-badge.svg\" alt=\"Open In Colab\"/></a>"
      ]
    },
    {
      "cell_type": "code",
      "execution_count": 1,
      "metadata": {
        "colab": {
          "base_uri": "https://localhost:8080/"
        },
        "id": "-37ooGhpt6s7",
        "outputId": "ee62d958-2a03-4572-ea32-fc795928bf31"
      },
      "outputs": [
        {
          "output_type": "stream",
          "name": "stdout",
          "text": [
            "Looking in indexes: https://pypi.org/simple, https://us-python.pkg.dev/colab-wheels/public/simple/\n",
            "Collecting simpy\n",
            "  Downloading simpy-4.0.1-py2.py3-none-any.whl (29 kB)\n",
            "Installing collected packages: simpy\n",
            "Successfully installed simpy-4.0.1\n"
          ]
        }
      ],
      "source": [
        "pip install simpy"
      ]
    },
    {
      "cell_type": "code",
      "source": [
        "import simpy\n",
        "import random\n",
        "import matplotlib.pyplot as plt"
      ],
      "metadata": {
        "id": "YdJfGvjCvTzI"
      },
      "execution_count": 2,
      "outputs": []
    },
    {
      "cell_type": "code",
      "source": [
        "#Variables\n",
        "max_vehiculos = 50\n",
        "num_carriles = 3\n",
        "\n",
        "tiempo_llegada = 3\n",
        "\n",
        "tiempo_estaciona = 4\n",
        "tiempo_turno = 2\n",
        "tiempo_matricula = 7\n",
        "tiempo_revision = 15\n",
        "tiempo_sello = 2\n",
        "tiempo_salida = 7\n",
        "\n",
        "tiempo_simulacion = 30\n",
        "\n",
        "tiempo = {}\n",
        "\n",
        "class Revision(object):\n",
        "\n",
        "  def __init__(self, environment, num_carriles, tiempo_estaciona, tiempo_turno, tiempo_matricula, tiempo_revision, tiempo_sello, tiempo_salida):\n",
        "    self.env=environment\n",
        "    self.carriles = simpy.Resource(environment, num_carriles)\n",
        "    self.tiempo_estaciona = tiempo_estaciona\n",
        "    self.tiempo_turno = tiempo_turno\n",
        "    self.tiempo_matricula = tiempo_matricula\n",
        "    self.tiempo_revision = tiempo_revision\n",
        "    self.tiempo_sello = tiempo_sello\n",
        "    self.tiempo_salida = tiempo_salida\n",
        "  \n",
        "  def estacion_vehiculo(self, vehiculo):\n",
        "    yield self.env.timeout(random.randint(self.tiempo_estaciona-1, self.tiempo_estaciona+1 ))\n",
        "    print('Vehiculo estacionado %s ----- : ' %(vehiculo) )\n",
        "  \n",
        "  def sacar_turno_vehiculo(self, vehiculo):\n",
        "    yield self.env.timeout(random.randint(self.tiempo_turno-1, self.tiempo_turno+1 ))\n",
        "    print('Vehiculo saca turno %s ----- : ' %(vehiculo) )\n",
        "\n",
        "  def paga_matricula_vehiculo(self, vehiculo):\n",
        "    yield self.env.timeout(random.randint(self.tiempo_matricula-2, self.tiempo_matricula+3 ))\n",
        "    print('Vehiculo paga matricula %s ----- : ' %(vehiculo) )\n",
        "\n",
        "  def sello_vehiculo(self, vehiculo):\n",
        "    yield self.env.timeout(random.randint(self.tiempo_sello-1, self.tiempo_sello+1 ))\n",
        "    print('Vehiculo sellado %s ----- : ' %(vehiculo) )\n",
        "  \n",
        "  def salida_vehiculo(self, vehiculo):\n",
        "    yield self.env.timeout(random.randint(self.tiempo_salida-2, self.tiempo_salida+3 ))\n",
        "    print('Vehiculo sale %s ----- : ' %(vehiculo) )\n",
        "  \n",
        "  def revision_vehiculo(self, vehiculo):\n",
        "    yield self.env.timeout(random.randint(self.tiempo_revision-5,self.tiempo_revision+5)) #cambiar por desviacion estandar\n",
        "    porcentaje = random.randint(1,100)\n",
        "    if porcentaje >= 41:\n",
        "      print('Revision vehiculo aprobado => %s ', vehiculo)\n",
        "      #pasa a sello\n",
        "    else:\n",
        "      print('Revision vehiculo NO PASA => %s ', vehiculo)\n",
        "      #no pasa a sello\n",
        "  \n",
        "  \n",
        "\n",
        "    \n",
        "\n",
        "\n",
        "def llegada_vehiculo(env, nombre, revision):\n",
        "  print('llega vehiculo: %s al tiempo  %.2f.' % (nombre, env.now))\n",
        "\n",
        "  with revision.carriles.request() as carril:\n",
        "    yield carril\n",
        "    print('Entra vehiculo --%s-- a revision hora : %.2f.' %(nombre, env.now))\n",
        "    yield env.process(revision.estacion_vehiculo(nombre))\n",
        "    yield env.process(revision.sacar_turno_vehiculo(nombre))\n",
        "    yield env.process(revision.paga_matricula_vehiculo(nombre))\n",
        "    yield env.process(revision.revision_vehiculo(nombre))\n",
        "    \n",
        "    yield env.process(revision.sello_vehiculo(nombre))\n",
        "    yield env.process(revision.salida_vehiculo(nombre))\n",
        "\n",
        "\n",
        "\n",
        "\n",
        "\n",
        "def ejecuta(env, num_carriles, tiempo_llegada, tiempo_estaciona, tiempo_turno, tiempo_matricula, tiempo_sello, tiempo_salida):\n",
        "  revision = Revision(env, num_carriles, tiempo_estaciona, tiempo_turno, tiempo_matricula, tiempo_revision, tiempo_sello, tiempo_salida)\n",
        "  \n",
        "  for i in range(10):\n",
        "    env.process(llegada_vehiculo(env, 'Vehiculo-%d'%(i+1), revision))\n",
        "\n",
        "    while True:\n",
        "      #llega un nuevo vehiculo\n",
        "      yield env.timeout(tiempo_llegada)\n",
        "      i+=1\n",
        "      env.process(llegada_vehiculo(env, 'Vehiculo-%d'%(i+1), revision))\n",
        "\n",
        "\n",
        "#Simulacion\n",
        "print('Simulación EMOV')\n",
        "random.seed()\n",
        "env = simpy.Environment()\n",
        "env.process(ejecuta(env, num_carriles, tiempo_llegada, tiempo_estaciona, tiempo_turno, tiempo_matricula, tiempo_sello, tiempo_salida))\n",
        "env.run(until = tiempo_simulacion )\n",
        "\n",
        "print(tiempo)\n",
        "\n",
        "\n",
        "\n",
        "\n"
      ],
      "metadata": {
        "colab": {
          "base_uri": "https://localhost:8080/"
        },
        "id": "38bOEHcavgmW",
        "outputId": "a37fafdb-c29a-4b9d-db4c-ae5c2314be0a"
      },
      "execution_count": 23,
      "outputs": [
        {
          "output_type": "stream",
          "name": "stdout",
          "text": [
            "Simulación EMOV\n",
            "llega vehiculo: Vehiculo-1 al tiempo  0.00.\n",
            "Entra vehiculo --Vehiculo-1-- a revision hora : 0.00.\n",
            "llega vehiculo: Vehiculo-2 al tiempo  3.00.\n",
            "Entra vehiculo --Vehiculo-2-- a revision hora : 3.00.\n",
            "Vehiculo estacionado Vehiculo-1 ----- : \n",
            "llega vehiculo: Vehiculo-3 al tiempo  6.00.\n",
            "Entra vehiculo --Vehiculo-3-- a revision hora : 6.00.\n",
            "Vehiculo saca turno Vehiculo-1 ----- : \n",
            "Vehiculo estacionado Vehiculo-2 ----- : \n",
            "llega vehiculo: Vehiculo-4 al tiempo  9.00.\n",
            "Vehiculo estacionado Vehiculo-3 ----- : \n",
            "Vehiculo saca turno Vehiculo-2 ----- : \n",
            "llega vehiculo: Vehiculo-5 al tiempo  12.00.\n",
            "Vehiculo saca turno Vehiculo-3 ----- : \n",
            "Vehiculo paga matricula Vehiculo-2 ----- : \n",
            "llega vehiculo: Vehiculo-6 al tiempo  15.00.\n",
            "Vehiculo paga matricula Vehiculo-1 ----- : \n",
            "llega vehiculo: Vehiculo-7 al tiempo  18.00.\n",
            "Vehiculo paga matricula Vehiculo-3 ----- : \n",
            "llega vehiculo: Vehiculo-8 al tiempo  21.00.\n",
            "llega vehiculo: Vehiculo-9 al tiempo  24.00.\n",
            "llega vehiculo: Vehiculo-10 al tiempo  27.00.\n",
            "{}\n"
          ]
        }
      ]
    }
  ]
}