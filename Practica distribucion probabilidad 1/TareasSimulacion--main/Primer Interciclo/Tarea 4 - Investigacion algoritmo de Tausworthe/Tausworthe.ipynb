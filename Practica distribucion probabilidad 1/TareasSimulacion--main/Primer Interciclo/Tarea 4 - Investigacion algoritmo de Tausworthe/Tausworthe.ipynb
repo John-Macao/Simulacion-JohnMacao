{
 "cells": [
  {
   "cell_type": "markdown",
   "metadata": {},
   "source": [
    "## Generador de numeros Pseudo aleatorios "
   ]
  },
  {
   "cell_type": "code",
   "execution_count": 27,
   "metadata": {},
   "outputs": [
    {
     "name": "stdout",
     "output_type": "stream",
     "text": [
      "Valor de q = 5\n",
      "Valor de r = 3\n",
      "Valor de l = 4\n",
      "Semilla inicial= 11111\n",
      "Periodo = 32\n",
      "Conjunto generado de bits (b): 11111000110111010100001001011001 \n",
      "\n",
      "Numero de agrupaciones:  8\n",
      "[0.94, 0.5, 0.81, 0.81, 0.25, 0.12, 0.31, 0.56]\n"
     ]
    }
   ],
   "source": [
    "# Primero tomamos los datos necesarios para el funcionamiento el codigo\n",
    "q = int(input('¿Cantidad de Bits para la semilla? (q) : '))\n",
    "print(\"Valor de q = \" +str(q))\n",
    "r = int(input('¿Valor de r ? (0< r < q): '))\n",
    "print(\"Valor de r = \" +str(r))\n",
    "l = int(input('¿Valor a utilizar en la divicion? (l):'))\n",
    "print(\"Valor de l = \" +str(l))\n",
    "semilla = input(f'Ingrese los valores en Binario para la semilla (Max: {q} ): ')\n",
    "print(\"Semilla inicial= \" +str(semilla))\n",
    "\n",
    "#Aqui se generan la cantidad necesaria de bits para el trabajo basandose en la semilla inicial ingresada\n",
    "periodo = 2**q \n",
    "print(f'Periodo = {periodo}')\n",
    "\n",
    "b = semilla\n",
    "for i in range(q, periodo):\n",
    "  b_n = int(b[i - r]) ^ int(b[i - q])\n",
    "  b += str(b_n)\n",
    "print(f'Conjunto generado de bits (b): {b} ')\n",
    "\n",
    "b_digits = [int(x) for x in str(b)]\n",
    "\n",
    "control = 0\n",
    "resultados = []\n",
    "\n",
    "valor_agrupaciones= int(len(b)/l) #Cambiar por en numero de iteraciones Aqui\n",
    "print(\"\\nNumero de agrupaciones: \",valor_agrupaciones)\n",
    "\n",
    "aux = l\n",
    "for j in range(0,valor_agrupaciones):\n",
    "  sublista =b_digits[control:aux] \n",
    "  decimal = 0\n",
    "  control2 = 0\n",
    "  for k in range(len(sublista)-1,-1,-1):\n",
    "    if(sublista[control2]==1): \n",
    "      decimal = 2**(k) + decimal\n",
    "    control2 = control2 + 1\n",
    "  resultados.append(round((decimal / (2**l)),2))\n",
    "  control = control + l\n",
    "  aux = aux + l\n",
    "\n",
    "print(resultados)\n"
   ]
  },
  {
   "cell_type": "markdown",
   "metadata": {},
   "source": []
  }
 ],
 "metadata": {
  "interpreter": {
   "hash": "916dbcbb3f70747c44a77c7bcd40155683ae19c65e1c03b4aa3499c5328201f1"
  },
  "kernelspec": {
   "display_name": "Python 3.9.7 64-bit",
   "language": "python",
   "name": "python3"
  },
  "language_info": {
   "codemirror_mode": {
    "name": "ipython",
    "version": 3
   },
   "file_extension": ".py",
   "mimetype": "text/x-python",
   "name": "python",
   "nbconvert_exporter": "python",
   "pygments_lexer": "ipython3",
   "version": "3.9.7"
  },
  "orig_nbformat": 4
 },
 "nbformat": 4,
 "nbformat_minor": 2
}
