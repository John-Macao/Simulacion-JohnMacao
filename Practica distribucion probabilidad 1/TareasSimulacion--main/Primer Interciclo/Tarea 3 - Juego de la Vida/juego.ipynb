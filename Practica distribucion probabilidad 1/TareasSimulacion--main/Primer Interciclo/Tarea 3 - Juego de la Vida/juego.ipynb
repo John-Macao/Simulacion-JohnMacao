{
 "cells": [
  {
   "cell_type": "markdown",
   "metadata": {},
   "source": [
    "# Juego de la vida\n",
    "### Florencio Peralta\n",
    "\n",
    "Emplear el programa del “juego de la vida” de John Conway para realizar el siguiente proceso de simulación:\n",
    "##### 1.- Determinar las variables que rigen el sistema\n",
    "##### 2.- Diseñar un plan de simulación que permita llegar a una configuración en que los autómatas celulares no varíen\n",
    "##### 3.- Diseñar un plan de pruebas automatizado, es decir, que sea controlado por el ordenador y que permita lanzar una batería de experimentos.\n",
    "##### 4.- Recopilar los resultados de estos planes."
   ]
  },
  {
   "cell_type": "markdown",
   "metadata": {},
   "source": [
    "# Desarrollo \n",
    "### 1.- Determinar las variables que rigen el sistema\n",
    "El sistema como tal se rige a un conjuntos de reglas basadas en los cuadros pintados, si estos tienen cuadros pintados vecinos y una serie de eventos que se pueden dar basandose en lo anteriormente dicho.\n",
    "\n",
    "Estos eventos se explican en la seccion de \"Explanation\" dentro del juego:\n",
    "\n",
    "1. Soledad: Si un cuadro tiene uno o menos vecinos, desaparese \n",
    "2. Sobrepoblacion: Si un cuadro tiene 4 o mas vecinos, desaparese\n",
    "3. Supervivencia: Si un cuadro tiene 2 o 3 vecinos, no le pasa nada\n",
    "4. Reproduccion: Si un cuadro tiene 3 vecinos, se crea. \n",
    "\n",
    "\n"
   ]
  },
  {
   "cell_type": "markdown",
   "metadata": {},
   "source": [
    "### 2.- Diseñar un plan de simulación que permita llegar a una configuración en que los autómatas celulares no varíen\n",
    "Si lo que se busca es lograr que no exista variacion alguna dentro de los experimentos, lo primero que se debe tener en cuenta en la regla de supervivencia. Lo ideal seria buscar una figura que permita que todos los cuadros de esta siempre tengan entre 2 y 3 vecinos, evitando asi la desaparicion o aparicion de mas cuadros que dañen el experimiento \n"
   ]
  },
  {
   "cell_type": "markdown",
   "metadata": {},
   "source": [
    "### 3.- Diseñar un plan de pruebas automatizado, es decir, que sea controlado por el ordenador y que permita lanzar una batería de experimentos.\n",
    "La verdad, para conseguir un plan automatizado hay que evitar la regla de supervivencia, permitiendo asi que existan todo tipo de cambios que la computadora tendira que controlar, lo ideal seria crea un conjunto de cuadros que permita el constante cambio de estos durante la simulacion-"
   ]
  },
  {
   "cell_type": "markdown",
   "metadata": {},
   "source": [
    "### 4.- Recopilar los resultados de estos planes.\n",
    "\n",
    "##### 4.1- Sin variacion.\n",
    "Luego de un analizis y una serie de tests se creo y verifico que estas figuras se mantien constantes durante la simulacion, estas figuras no varian, ya que cumplen con la regla de supervivencia.\n",
    "\n",
    "<img src=\"inmutables.png\">\n",
    "\n",
    "##### 4.2- Variantes.\n",
    "Para lograr una variacion dentro del experimento no se tuvo que experimentar tanto, ya que basta con colocar cuadros al azar y listo, PERO, se descubrieron 2 figuras que pasan en constante cambio: una linea de 3 cuadros que cambia su orientacion cada segundo, y una \"Flecha\" que se mueve por el plano. La \"Flecha\" puede usarse para que se estrelle en direccion con los conjuntos que no varian y provocar que varien.\n",
    "\n",
    "<img src=\"mutables.png\">\n",
    "\n",
    "Luego de haber definido esto, se armo un campo de pruebas con ambos tipos de conjuntos, con la esperanza de que las \"Flechas\" se estrellen con los conjuntos pasivos, se ejecuto y estos fueron los resultados\n",
    "\n",
    "##### Antes\n",
    "<img src=\"antes.png\">\n",
    "\n",
    "##### Despues (Durante la ejecucion )\n",
    "<img src=\"despues.png\">"
   ]
  }
 ],
 "metadata": {
  "language_info": {
   "name": "python"
  },
  "orig_nbformat": 4
 },
 "nbformat": 4,
 "nbformat_minor": 2
}
